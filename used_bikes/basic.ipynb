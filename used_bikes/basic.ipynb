{
 "cells": [
  {
   "cell_type": "code",
   "execution_count": 1,
   "metadata": {},
   "outputs": [],
   "source": [
    "import pandas as pd \n",
    "import numpy as np\n",
    "import joblib as jbl # model save "
   ]
  },
  {
   "cell_type": "code",
   "execution_count": 2,
   "metadata": {},
   "outputs": [],
   "source": [
    "df=pd.read_csv('C:/Users/SHIVANSHU SRIVASTAVA/OneDrive/Desktop/ml by upflair/PANDAS/Used_Bikes.csv')# path to read data "
   ]
  },
  {
   "cell_type": "code",
   "execution_count": 3,
   "metadata": {},
   "outputs": [
    {
     "data": {
      "text/html": [
       "<div>\n",
       "<style scoped>\n",
       "    .dataframe tbody tr th:only-of-type {\n",
       "        vertical-align: middle;\n",
       "    }\n",
       "\n",
       "    .dataframe tbody tr th {\n",
       "        vertical-align: top;\n",
       "    }\n",
       "\n",
       "    .dataframe thead th {\n",
       "        text-align: right;\n",
       "    }\n",
       "</style>\n",
       "<table border=\"1\" class=\"dataframe\">\n",
       "  <thead>\n",
       "    <tr style=\"text-align: right;\">\n",
       "      <th></th>\n",
       "      <th>bike_name</th>\n",
       "      <th>price</th>\n",
       "      <th>city</th>\n",
       "      <th>kms_driven</th>\n",
       "      <th>owner</th>\n",
       "      <th>age</th>\n",
       "      <th>power</th>\n",
       "      <th>brand</th>\n",
       "    </tr>\n",
       "  </thead>\n",
       "  <tbody>\n",
       "    <tr>\n",
       "      <th>0</th>\n",
       "      <td>TVS Star City Plus Dual Tone 110cc</td>\n",
       "      <td>35000.0</td>\n",
       "      <td>Ahmedabad</td>\n",
       "      <td>17654.0</td>\n",
       "      <td>First Owner</td>\n",
       "      <td>3.0</td>\n",
       "      <td>110.0</td>\n",
       "      <td>TVS</td>\n",
       "    </tr>\n",
       "    <tr>\n",
       "      <th>1</th>\n",
       "      <td>Royal Enfield Classic 350cc</td>\n",
       "      <td>119900.0</td>\n",
       "      <td>Delhi</td>\n",
       "      <td>11000.0</td>\n",
       "      <td>First Owner</td>\n",
       "      <td>4.0</td>\n",
       "      <td>350.0</td>\n",
       "      <td>Royal Enfield</td>\n",
       "    </tr>\n",
       "    <tr>\n",
       "      <th>2</th>\n",
       "      <td>Triumph Daytona 675R</td>\n",
       "      <td>600000.0</td>\n",
       "      <td>Delhi</td>\n",
       "      <td>110.0</td>\n",
       "      <td>First Owner</td>\n",
       "      <td>8.0</td>\n",
       "      <td>675.0</td>\n",
       "      <td>Triumph</td>\n",
       "    </tr>\n",
       "    <tr>\n",
       "      <th>3</th>\n",
       "      <td>TVS Apache RTR 180cc</td>\n",
       "      <td>65000.0</td>\n",
       "      <td>Bangalore</td>\n",
       "      <td>16329.0</td>\n",
       "      <td>First Owner</td>\n",
       "      <td>4.0</td>\n",
       "      <td>180.0</td>\n",
       "      <td>TVS</td>\n",
       "    </tr>\n",
       "    <tr>\n",
       "      <th>4</th>\n",
       "      <td>Yamaha FZ S V 2.0 150cc-Ltd. Edition</td>\n",
       "      <td>80000.0</td>\n",
       "      <td>Bangalore</td>\n",
       "      <td>10000.0</td>\n",
       "      <td>First Owner</td>\n",
       "      <td>3.0</td>\n",
       "      <td>150.0</td>\n",
       "      <td>Yamaha</td>\n",
       "    </tr>\n",
       "  </tbody>\n",
       "</table>\n",
       "</div>"
      ],
      "text/plain": [
       "                              bike_name     price       city  kms_driven  \\\n",
       "0    TVS Star City Plus Dual Tone 110cc   35000.0  Ahmedabad     17654.0   \n",
       "1           Royal Enfield Classic 350cc  119900.0      Delhi     11000.0   \n",
       "2                  Triumph Daytona 675R  600000.0      Delhi       110.0   \n",
       "3                  TVS Apache RTR 180cc   65000.0  Bangalore     16329.0   \n",
       "4  Yamaha FZ S V 2.0 150cc-Ltd. Edition   80000.0  Bangalore     10000.0   \n",
       "\n",
       "         owner  age  power          brand  \n",
       "0  First Owner  3.0  110.0            TVS  \n",
       "1  First Owner  4.0  350.0  Royal Enfield  \n",
       "2  First Owner  8.0  675.0        Triumph  \n",
       "3  First Owner  4.0  180.0            TVS  \n",
       "4  First Owner  3.0  150.0         Yamaha  "
      ]
     },
     "execution_count": 3,
     "metadata": {},
     "output_type": "execute_result"
    }
   ],
   "source": [
    "df.head(5) # it is used to  read top data "
   ]
  },
  {
   "cell_type": "code",
   "execution_count": 4,
   "metadata": {},
   "outputs": [
    {
     "data": {
      "text/html": [
       "<div>\n",
       "<style scoped>\n",
       "    .dataframe tbody tr th:only-of-type {\n",
       "        vertical-align: middle;\n",
       "    }\n",
       "\n",
       "    .dataframe tbody tr th {\n",
       "        vertical-align: top;\n",
       "    }\n",
       "\n",
       "    .dataframe thead th {\n",
       "        text-align: right;\n",
       "    }\n",
       "</style>\n",
       "<table border=\"1\" class=\"dataframe\">\n",
       "  <thead>\n",
       "    <tr style=\"text-align: right;\">\n",
       "      <th></th>\n",
       "      <th>bike_name</th>\n",
       "      <th>price</th>\n",
       "      <th>city</th>\n",
       "      <th>kms_driven</th>\n",
       "      <th>owner</th>\n",
       "      <th>age</th>\n",
       "      <th>power</th>\n",
       "      <th>brand</th>\n",
       "    </tr>\n",
       "  </thead>\n",
       "  <tbody>\n",
       "    <tr>\n",
       "      <th>32643</th>\n",
       "      <td>Hero Passion Pro 100cc</td>\n",
       "      <td>39000.0</td>\n",
       "      <td>Delhi</td>\n",
       "      <td>22000.0</td>\n",
       "      <td>First Owner</td>\n",
       "      <td>4.0</td>\n",
       "      <td>100.0</td>\n",
       "      <td>Hero</td>\n",
       "    </tr>\n",
       "    <tr>\n",
       "      <th>32644</th>\n",
       "      <td>TVS Apache RTR 180cc</td>\n",
       "      <td>30000.0</td>\n",
       "      <td>Karnal</td>\n",
       "      <td>6639.0</td>\n",
       "      <td>First Owner</td>\n",
       "      <td>9.0</td>\n",
       "      <td>180.0</td>\n",
       "      <td>TVS</td>\n",
       "    </tr>\n",
       "    <tr>\n",
       "      <th>32645</th>\n",
       "      <td>Bajaj Avenger Street 220</td>\n",
       "      <td>60000.0</td>\n",
       "      <td>Delhi</td>\n",
       "      <td>20373.0</td>\n",
       "      <td>First Owner</td>\n",
       "      <td>6.0</td>\n",
       "      <td>220.0</td>\n",
       "      <td>Bajaj</td>\n",
       "    </tr>\n",
       "    <tr>\n",
       "      <th>32646</th>\n",
       "      <td>Hero Super Splendor 125cc</td>\n",
       "      <td>15600.0</td>\n",
       "      <td>Jaipur</td>\n",
       "      <td>84186.0</td>\n",
       "      <td>First Owner</td>\n",
       "      <td>16.0</td>\n",
       "      <td>125.0</td>\n",
       "      <td>Hero</td>\n",
       "    </tr>\n",
       "    <tr>\n",
       "      <th>32647</th>\n",
       "      <td>Bajaj Pulsar 150cc</td>\n",
       "      <td>22000.0</td>\n",
       "      <td>Pune</td>\n",
       "      <td>60857.0</td>\n",
       "      <td>First Owner</td>\n",
       "      <td>13.0</td>\n",
       "      <td>150.0</td>\n",
       "      <td>Bajaj</td>\n",
       "    </tr>\n",
       "  </tbody>\n",
       "</table>\n",
       "</div>"
      ],
      "text/plain": [
       "                       bike_name    price    city  kms_driven        owner  \\\n",
       "32643     Hero Passion Pro 100cc  39000.0   Delhi     22000.0  First Owner   \n",
       "32644       TVS Apache RTR 180cc  30000.0  Karnal      6639.0  First Owner   \n",
       "32645   Bajaj Avenger Street 220  60000.0   Delhi     20373.0  First Owner   \n",
       "32646  Hero Super Splendor 125cc  15600.0  Jaipur     84186.0  First Owner   \n",
       "32647         Bajaj Pulsar 150cc  22000.0    Pune     60857.0  First Owner   \n",
       "\n",
       "        age  power  brand  \n",
       "32643   4.0  100.0   Hero  \n",
       "32644   9.0  180.0    TVS  \n",
       "32645   6.0  220.0  Bajaj  \n",
       "32646  16.0  125.0   Hero  \n",
       "32647  13.0  150.0  Bajaj  "
      ]
     },
     "execution_count": 4,
     "metadata": {},
     "output_type": "execute_result"
    }
   ],
   "source": [
    "\n",
    "df.tail()"
   ]
  },
  {
   "cell_type": "code",
   "execution_count": 5,
   "metadata": {},
   "outputs": [
    {
     "name": "stdout",
     "output_type": "stream",
     "text": [
      "<class 'pandas.core.frame.DataFrame'>\n",
      "RangeIndex: 32648 entries, 0 to 32647\n",
      "Data columns (total 8 columns):\n",
      " #   Column      Non-Null Count  Dtype  \n",
      "---  ------      --------------  -----  \n",
      " 0   bike_name   32648 non-null  object \n",
      " 1   price       32648 non-null  float64\n",
      " 2   city        32648 non-null  object \n",
      " 3   kms_driven  32648 non-null  float64\n",
      " 4   owner       32648 non-null  object \n",
      " 5   age         32648 non-null  float64\n",
      " 6   power       32648 non-null  float64\n",
      " 7   brand       32648 non-null  object \n",
      "dtypes: float64(4), object(4)\n",
      "memory usage: 2.0+ MB\n"
     ]
    }
   ],
   "source": [
    "df.info() #object data type means string \n",
    " # info  function tell us abot data set "
   ]
  },
  {
   "cell_type": "code",
   "execution_count": 6,
   "metadata": {},
   "outputs": [
    {
     "data": {
      "text/html": [
       "<div>\n",
       "<style scoped>\n",
       "    .dataframe tbody tr th:only-of-type {\n",
       "        vertical-align: middle;\n",
       "    }\n",
       "\n",
       "    .dataframe tbody tr th {\n",
       "        vertical-align: top;\n",
       "    }\n",
       "\n",
       "    .dataframe thead th {\n",
       "        text-align: right;\n",
       "    }\n",
       "</style>\n",
       "<table border=\"1\" class=\"dataframe\">\n",
       "  <thead>\n",
       "    <tr style=\"text-align: right;\">\n",
       "      <th></th>\n",
       "      <th>price</th>\n",
       "      <th>kms_driven</th>\n",
       "      <th>age</th>\n",
       "      <th>power</th>\n",
       "    </tr>\n",
       "  </thead>\n",
       "  <tbody>\n",
       "    <tr>\n",
       "      <th>count</th>\n",
       "      <td>3.264800e+04</td>\n",
       "      <td>32648.000000</td>\n",
       "      <td>32648.000000</td>\n",
       "      <td>32648.000000</td>\n",
       "    </tr>\n",
       "    <tr>\n",
       "      <th>mean</th>\n",
       "      <td>6.829542e+04</td>\n",
       "      <td>26344.625184</td>\n",
       "      <td>8.048211</td>\n",
       "      <td>213.511302</td>\n",
       "    </tr>\n",
       "    <tr>\n",
       "      <th>std</th>\n",
       "      <td>9.071860e+04</td>\n",
       "      <td>22208.527695</td>\n",
       "      <td>4.031700</td>\n",
       "      <td>134.428868</td>\n",
       "    </tr>\n",
       "    <tr>\n",
       "      <th>min</th>\n",
       "      <td>4.400000e+03</td>\n",
       "      <td>1.000000</td>\n",
       "      <td>1.000000</td>\n",
       "      <td>100.000000</td>\n",
       "    </tr>\n",
       "    <tr>\n",
       "      <th>25%</th>\n",
       "      <td>2.500000e+04</td>\n",
       "      <td>12000.000000</td>\n",
       "      <td>5.000000</td>\n",
       "      <td>150.000000</td>\n",
       "    </tr>\n",
       "    <tr>\n",
       "      <th>50%</th>\n",
       "      <td>4.300000e+04</td>\n",
       "      <td>20373.000000</td>\n",
       "      <td>7.000000</td>\n",
       "      <td>150.000000</td>\n",
       "    </tr>\n",
       "    <tr>\n",
       "      <th>75%</th>\n",
       "      <td>8.000000e+04</td>\n",
       "      <td>35000.000000</td>\n",
       "      <td>10.000000</td>\n",
       "      <td>220.000000</td>\n",
       "    </tr>\n",
       "    <tr>\n",
       "      <th>max</th>\n",
       "      <td>1.900000e+06</td>\n",
       "      <td>750000.000000</td>\n",
       "      <td>63.000000</td>\n",
       "      <td>1800.000000</td>\n",
       "    </tr>\n",
       "  </tbody>\n",
       "</table>\n",
       "</div>"
      ],
      "text/plain": [
       "              price     kms_driven           age         power\n",
       "count  3.264800e+04   32648.000000  32648.000000  32648.000000\n",
       "mean   6.829542e+04   26344.625184      8.048211    213.511302\n",
       "std    9.071860e+04   22208.527695      4.031700    134.428868\n",
       "min    4.400000e+03       1.000000      1.000000    100.000000\n",
       "25%    2.500000e+04   12000.000000      5.000000    150.000000\n",
       "50%    4.300000e+04   20373.000000      7.000000    150.000000\n",
       "75%    8.000000e+04   35000.000000     10.000000    220.000000\n",
       "max    1.900000e+06  750000.000000     63.000000   1800.000000"
      ]
     },
     "execution_count": 6,
     "metadata": {},
     "output_type": "execute_result"
    }
   ],
   "source": [
    "\n",
    "df.describe() # to get the statical calculation we use describe function "
   ]
  },
  {
   "cell_type": "code",
   "execution_count": 7,
   "metadata": {},
   "outputs": [
    {
     "data": {
      "text/plain": [
       "bike_name      object\n",
       "price         float64\n",
       "city           object\n",
       "kms_driven    float64\n",
       "owner          object\n",
       "age           float64\n",
       "power         float64\n",
       "brand          object\n",
       "dtype: object"
      ]
     },
     "execution_count": 7,
     "metadata": {},
     "output_type": "execute_result"
    }
   ],
   "source": [
    "df.dtypes  #it tells us data type "
   ]
  },
  {
   "cell_type": "code",
   "execution_count": 8,
   "metadata": {},
   "outputs": [
    {
     "data": {
      "text/plain": [
       "(32648, 8)"
      ]
     },
     "execution_count": 8,
     "metadata": {},
     "output_type": "execute_result"
    }
   ],
   "source": [
    "df.shape # it tells the shape of data set"
   ]
  },
  {
   "cell_type": "code",
   "execution_count": 9,
   "metadata": {},
   "outputs": [
    {
     "name": "stdout",
     "output_type": "stream",
     "text": [
      "0          TVS Star City Plus Dual Tone 110cc\n",
      "1                 Royal Enfield Classic 350cc\n",
      "2                        Triumph Daytona 675R\n",
      "3                        TVS Apache RTR 180cc\n",
      "4        Yamaha FZ S V 2.0 150cc-Ltd. Edition\n",
      "                         ...                 \n",
      "32643                  Hero Passion Pro 100cc\n",
      "32644                    TVS Apache RTR 180cc\n",
      "32645                Bajaj Avenger Street 220\n",
      "32646               Hero Super Splendor 125cc\n",
      "32647                      Bajaj Pulsar 150cc\n",
      "Name: bike_name, Length: 32648, dtype: object\n"
     ]
    }
   ],
   "source": [
    "print(df['bike_name'])# to get the  particular column values "
   ]
  },
  {
   "cell_type": "code",
   "execution_count": 10,
   "metadata": {},
   "outputs": [
    {
     "data": {
      "text/plain": [
       "0                  TVS\n",
       "1        Royal Enfield\n",
       "2              Triumph\n",
       "3                  TVS\n",
       "4               Yamaha\n",
       "             ...      \n",
       "32643             Hero\n",
       "32644              TVS\n",
       "32645            Bajaj\n",
       "32646             Hero\n",
       "32647            Bajaj\n",
       "Name: brand, Length: 32648, dtype: object"
      ]
     },
     "execution_count": 10,
     "metadata": {},
     "output_type": "execute_result"
    }
   ],
   "source": [
    "brand_name_df = df['brand']\n",
    "brand_name_df"
   ]
  },
  {
   "cell_type": "code",
   "execution_count": 11,
   "metadata": {},
   "outputs": [
    {
     "data": {
      "text/plain": [
       "array(['TVS', 'Royal Enfield', 'Triumph', 'Yamaha', 'Honda', 'Hero',\n",
       "       'Bajaj', 'Suzuki', 'Benelli', 'KTM', 'Mahindra', 'Kawasaki',\n",
       "       'Ducati', 'Hyosung', 'Harley-Davidson', 'Jawa', 'BMW', 'Indian',\n",
       "       'Rajdoot', 'LML', 'Yezdi', 'MV', 'Ideal'], dtype=object)"
      ]
     },
     "execution_count": 11,
     "metadata": {},
     "output_type": "execute_result"
    }
   ],
   "source": [
    "brand_name_df.unique()"
   ]
  },
  {
   "cell_type": "code",
   "execution_count": 12,
   "metadata": {},
   "outputs": [
    {
     "data": {
      "text/plain": [
       "23"
      ]
     },
     "execution_count": 12,
     "metadata": {},
     "output_type": "execute_result"
    }
   ],
   "source": [
    "brand_name_df.nunique()# it tells the value number of unique value of the column "
   ]
  },
  {
   "cell_type": "code",
   "execution_count": 13,
   "metadata": {},
   "outputs": [
    {
     "data": {
      "text/plain": [
       "0          TVS Star City Plus Dual Tone 110cc\n",
       "1                 Royal Enfield Classic 350cc\n",
       "2                        Triumph Daytona 675R\n",
       "3                        TVS Apache RTR 180cc\n",
       "4        Yamaha FZ S V 2.0 150cc-Ltd. Edition\n",
       "                         ...                 \n",
       "32643                  Hero Passion Pro 100cc\n",
       "32644                    TVS Apache RTR 180cc\n",
       "32645                Bajaj Avenger Street 220\n",
       "32646               Hero Super Splendor 125cc\n",
       "32647                      Bajaj Pulsar 150cc\n",
       "Name: bike_name, Length: 32648, dtype: object"
      ]
     },
     "execution_count": 13,
     "metadata": {},
     "output_type": "execute_result"
    }
   ],
   "source": [
    "df['bike_name'] #"
   ]
  },
  {
   "cell_type": "code",
   "execution_count": 14,
   "metadata": {},
   "outputs": [
    {
     "data": {
      "text/plain": [
       "471"
      ]
     },
     "execution_count": 14,
     "metadata": {},
     "output_type": "execute_result"
    }
   ],
   "source": [
    "df['bike_name'].nunique() # to geet the number of unque values of column "
   ]
  },
  {
   "cell_type": "code",
   "execution_count": 15,
   "metadata": {},
   "outputs": [
    {
     "data": {
      "text/plain": [
       "bike_name     TVS Star City Plus Dual Tone 110cc\n",
       "price                                    35000.0\n",
       "city                                   Ahmedabad\n",
       "kms_driven                               17654.0\n",
       "owner                                First Owner\n",
       "age                                          3.0\n",
       "power                                      110.0\n",
       "brand                                        TVS\n",
       "Name: 0, dtype: object"
      ]
     },
     "execution_count": 15,
     "metadata": {},
     "output_type": "execute_result"
    }
   ],
   "source": [
    "df.iloc[0] # to get the value present at that index which is writen in side square box "
   ]
  },
  {
   "cell_type": "code",
   "execution_count": 16,
   "metadata": {},
   "outputs": [
    {
     "data": {
      "text/html": [
       "<div>\n",
       "<style scoped>\n",
       "    .dataframe tbody tr th:only-of-type {\n",
       "        vertical-align: middle;\n",
       "    }\n",
       "\n",
       "    .dataframe tbody tr th {\n",
       "        vertical-align: top;\n",
       "    }\n",
       "\n",
       "    .dataframe thead th {\n",
       "        text-align: right;\n",
       "    }\n",
       "</style>\n",
       "<table border=\"1\" class=\"dataframe\">\n",
       "  <thead>\n",
       "    <tr style=\"text-align: right;\">\n",
       "      <th></th>\n",
       "      <th>bike_name</th>\n",
       "      <th>price</th>\n",
       "      <th>city</th>\n",
       "      <th>kms_driven</th>\n",
       "      <th>owner</th>\n",
       "      <th>age</th>\n",
       "      <th>power</th>\n",
       "      <th>brand</th>\n",
       "    </tr>\n",
       "  </thead>\n",
       "  <tbody>\n",
       "    <tr>\n",
       "      <th>0</th>\n",
       "      <td>TVS Star City Plus Dual Tone 110cc</td>\n",
       "      <td>35000.0</td>\n",
       "      <td>Ahmedabad</td>\n",
       "      <td>17654.0</td>\n",
       "      <td>First Owner</td>\n",
       "      <td>3.0</td>\n",
       "      <td>110.0</td>\n",
       "      <td>TVS</td>\n",
       "    </tr>\n",
       "    <tr>\n",
       "      <th>1</th>\n",
       "      <td>Royal Enfield Classic 350cc</td>\n",
       "      <td>119900.0</td>\n",
       "      <td>Delhi</td>\n",
       "      <td>11000.0</td>\n",
       "      <td>First Owner</td>\n",
       "      <td>4.0</td>\n",
       "      <td>350.0</td>\n",
       "      <td>Royal Enfield</td>\n",
       "    </tr>\n",
       "    <tr>\n",
       "      <th>2</th>\n",
       "      <td>Triumph Daytona 675R</td>\n",
       "      <td>600000.0</td>\n",
       "      <td>Delhi</td>\n",
       "      <td>110.0</td>\n",
       "      <td>First Owner</td>\n",
       "      <td>8.0</td>\n",
       "      <td>675.0</td>\n",
       "      <td>Triumph</td>\n",
       "    </tr>\n",
       "    <tr>\n",
       "      <th>3</th>\n",
       "      <td>TVS Apache RTR 180cc</td>\n",
       "      <td>65000.0</td>\n",
       "      <td>Bangalore</td>\n",
       "      <td>16329.0</td>\n",
       "      <td>First Owner</td>\n",
       "      <td>4.0</td>\n",
       "      <td>180.0</td>\n",
       "      <td>TVS</td>\n",
       "    </tr>\n",
       "    <tr>\n",
       "      <th>4</th>\n",
       "      <td>Yamaha FZ S V 2.0 150cc-Ltd. Edition</td>\n",
       "      <td>80000.0</td>\n",
       "      <td>Bangalore</td>\n",
       "      <td>10000.0</td>\n",
       "      <td>First Owner</td>\n",
       "      <td>3.0</td>\n",
       "      <td>150.0</td>\n",
       "      <td>Yamaha</td>\n",
       "    </tr>\n",
       "    <tr>\n",
       "      <th>5</th>\n",
       "      <td>Yamaha FZs 150cc</td>\n",
       "      <td>53499.0</td>\n",
       "      <td>Delhi</td>\n",
       "      <td>25000.0</td>\n",
       "      <td>First Owner</td>\n",
       "      <td>6.0</td>\n",
       "      <td>150.0</td>\n",
       "      <td>Yamaha</td>\n",
       "    </tr>\n",
       "  </tbody>\n",
       "</table>\n",
       "</div>"
      ],
      "text/plain": [
       "                              bike_name     price       city  kms_driven  \\\n",
       "0    TVS Star City Plus Dual Tone 110cc   35000.0  Ahmedabad     17654.0   \n",
       "1           Royal Enfield Classic 350cc  119900.0      Delhi     11000.0   \n",
       "2                  Triumph Daytona 675R  600000.0      Delhi       110.0   \n",
       "3                  TVS Apache RTR 180cc   65000.0  Bangalore     16329.0   \n",
       "4  Yamaha FZ S V 2.0 150cc-Ltd. Edition   80000.0  Bangalore     10000.0   \n",
       "5                      Yamaha FZs 150cc   53499.0      Delhi     25000.0   \n",
       "\n",
       "         owner  age  power          brand  \n",
       "0  First Owner  3.0  110.0            TVS  \n",
       "1  First Owner  4.0  350.0  Royal Enfield  \n",
       "2  First Owner  8.0  675.0        Triumph  \n",
       "3  First Owner  4.0  180.0            TVS  \n",
       "4  First Owner  3.0  150.0         Yamaha  \n",
       "5  First Owner  6.0  150.0         Yamaha  "
      ]
     },
     "execution_count": 16,
     "metadata": {},
     "output_type": "execute_result"
    }
   ],
   "source": [
    "df.loc[0:5]#  to get the firdt five row of data set "
   ]
  },
  {
   "cell_type": "code",
   "execution_count": 17,
   "metadata": {},
   "outputs": [
    {
     "data": {
      "text/html": [
       "<div>\n",
       "<style scoped>\n",
       "    .dataframe tbody tr th:only-of-type {\n",
       "        vertical-align: middle;\n",
       "    }\n",
       "\n",
       "    .dataframe tbody tr th {\n",
       "        vertical-align: top;\n",
       "    }\n",
       "\n",
       "    .dataframe thead th {\n",
       "        text-align: right;\n",
       "    }\n",
       "</style>\n",
       "<table border=\"1\" class=\"dataframe\">\n",
       "  <thead>\n",
       "    <tr style=\"text-align: right;\">\n",
       "      <th></th>\n",
       "      <th>bike_name</th>\n",
       "      <th>price</th>\n",
       "      <th>city</th>\n",
       "      <th>kms_driven</th>\n",
       "      <th>owner</th>\n",
       "      <th>age</th>\n",
       "      <th>power</th>\n",
       "      <th>brand</th>\n",
       "    </tr>\n",
       "  </thead>\n",
       "  <tbody>\n",
       "    <tr>\n",
       "      <th>0</th>\n",
       "      <td>False</td>\n",
       "      <td>False</td>\n",
       "      <td>False</td>\n",
       "      <td>False</td>\n",
       "      <td>False</td>\n",
       "      <td>False</td>\n",
       "      <td>False</td>\n",
       "      <td>False</td>\n",
       "    </tr>\n",
       "    <tr>\n",
       "      <th>1</th>\n",
       "      <td>False</td>\n",
       "      <td>False</td>\n",
       "      <td>False</td>\n",
       "      <td>False</td>\n",
       "      <td>False</td>\n",
       "      <td>False</td>\n",
       "      <td>False</td>\n",
       "      <td>False</td>\n",
       "    </tr>\n",
       "    <tr>\n",
       "      <th>2</th>\n",
       "      <td>False</td>\n",
       "      <td>False</td>\n",
       "      <td>False</td>\n",
       "      <td>False</td>\n",
       "      <td>False</td>\n",
       "      <td>False</td>\n",
       "      <td>False</td>\n",
       "      <td>False</td>\n",
       "    </tr>\n",
       "    <tr>\n",
       "      <th>3</th>\n",
       "      <td>False</td>\n",
       "      <td>False</td>\n",
       "      <td>False</td>\n",
       "      <td>False</td>\n",
       "      <td>False</td>\n",
       "      <td>False</td>\n",
       "      <td>False</td>\n",
       "      <td>False</td>\n",
       "    </tr>\n",
       "    <tr>\n",
       "      <th>4</th>\n",
       "      <td>False</td>\n",
       "      <td>False</td>\n",
       "      <td>False</td>\n",
       "      <td>False</td>\n",
       "      <td>False</td>\n",
       "      <td>False</td>\n",
       "      <td>False</td>\n",
       "      <td>False</td>\n",
       "    </tr>\n",
       "    <tr>\n",
       "      <th>...</th>\n",
       "      <td>...</td>\n",
       "      <td>...</td>\n",
       "      <td>...</td>\n",
       "      <td>...</td>\n",
       "      <td>...</td>\n",
       "      <td>...</td>\n",
       "      <td>...</td>\n",
       "      <td>...</td>\n",
       "    </tr>\n",
       "    <tr>\n",
       "      <th>32643</th>\n",
       "      <td>False</td>\n",
       "      <td>False</td>\n",
       "      <td>False</td>\n",
       "      <td>False</td>\n",
       "      <td>False</td>\n",
       "      <td>False</td>\n",
       "      <td>False</td>\n",
       "      <td>False</td>\n",
       "    </tr>\n",
       "    <tr>\n",
       "      <th>32644</th>\n",
       "      <td>False</td>\n",
       "      <td>False</td>\n",
       "      <td>False</td>\n",
       "      <td>False</td>\n",
       "      <td>False</td>\n",
       "      <td>False</td>\n",
       "      <td>False</td>\n",
       "      <td>False</td>\n",
       "    </tr>\n",
       "    <tr>\n",
       "      <th>32645</th>\n",
       "      <td>False</td>\n",
       "      <td>False</td>\n",
       "      <td>False</td>\n",
       "      <td>False</td>\n",
       "      <td>False</td>\n",
       "      <td>False</td>\n",
       "      <td>False</td>\n",
       "      <td>False</td>\n",
       "    </tr>\n",
       "    <tr>\n",
       "      <th>32646</th>\n",
       "      <td>False</td>\n",
       "      <td>False</td>\n",
       "      <td>False</td>\n",
       "      <td>False</td>\n",
       "      <td>False</td>\n",
       "      <td>False</td>\n",
       "      <td>False</td>\n",
       "      <td>False</td>\n",
       "    </tr>\n",
       "    <tr>\n",
       "      <th>32647</th>\n",
       "      <td>False</td>\n",
       "      <td>False</td>\n",
       "      <td>False</td>\n",
       "      <td>False</td>\n",
       "      <td>False</td>\n",
       "      <td>False</td>\n",
       "      <td>False</td>\n",
       "      <td>False</td>\n",
       "    </tr>\n",
       "  </tbody>\n",
       "</table>\n",
       "<p>32648 rows × 8 columns</p>\n",
       "</div>"
      ],
      "text/plain": [
       "       bike_name  price   city  kms_driven  owner    age  power  brand\n",
       "0          False  False  False       False  False  False  False  False\n",
       "1          False  False  False       False  False  False  False  False\n",
       "2          False  False  False       False  False  False  False  False\n",
       "3          False  False  False       False  False  False  False  False\n",
       "4          False  False  False       False  False  False  False  False\n",
       "...          ...    ...    ...         ...    ...    ...    ...    ...\n",
       "32643      False  False  False       False  False  False  False  False\n",
       "32644      False  False  False       False  False  False  False  False\n",
       "32645      False  False  False       False  False  False  False  False\n",
       "32646      False  False  False       False  False  False  False  False\n",
       "32647      False  False  False       False  False  False  False  False\n",
       "\n",
       "[32648 rows x 8 columns]"
      ]
     },
     "execution_count": 17,
     "metadata": {},
     "output_type": "execute_result"
    }
   ],
   "source": [
    "df.isnull()  #to get the number of missing  or null value in data set"
   ]
  },
  {
   "cell_type": "code",
   "execution_count": 18,
   "metadata": {},
   "outputs": [
    {
     "data": {
      "text/plain": [
       "bike_name     0\n",
       "price         0\n",
       "city          0\n",
       "kms_driven    0\n",
       "owner         0\n",
       "age           0\n",
       "power         0\n",
       "brand         0\n",
       "dtype: int64"
      ]
     },
     "execution_count": 18,
     "metadata": {},
     "output_type": "execute_result"
    }
   ],
   "source": [
    "df.isnull().sum() # to add all  null values in te data set "
   ]
  },
  {
   "cell_type": "code",
   "execution_count": 19,
   "metadata": {},
   "outputs": [
    {
     "data": {
      "text/plain": [
       "0        False\n",
       "1        False\n",
       "2        False\n",
       "3        False\n",
       "4        False\n",
       "         ...  \n",
       "32643     True\n",
       "32644     True\n",
       "32645     True\n",
       "32646     True\n",
       "32647     True\n",
       "Length: 32648, dtype: bool"
      ]
     },
     "execution_count": 19,
     "metadata": {},
     "output_type": "execute_result"
    }
   ],
   "source": [
    "df.duplicated() # to get the duplicate values in the data set \n",
    "# if duplicate is present it return true else false "
   ]
  },
  {
   "cell_type": "code",
   "execution_count": 20,
   "metadata": {},
   "outputs": [
    {
     "data": {
      "text/plain": [
       "25324"
      ]
     },
     "execution_count": 20,
     "metadata": {},
     "output_type": "execute_result"
    }
   ],
   "source": [
    "df.duplicated().sum()"
   ]
  },
  {
   "cell_type": "code",
   "execution_count": 21,
   "metadata": {},
   "outputs": [],
   "source": [
    "df.drop_duplicates(inplace=True)# to drop the duplicate value in the data set but with a parameter of inplace =True"
   ]
  },
  {
   "cell_type": "code",
   "execution_count": 22,
   "metadata": {},
   "outputs": [
    {
     "data": {
      "text/plain": [
       "0"
      ]
     },
     "execution_count": 22,
     "metadata": {},
     "output_type": "execute_result"
    }
   ],
   "source": [
    "df.duplicated().sum()"
   ]
  },
  {
   "cell_type": "code",
   "execution_count": 23,
   "metadata": {},
   "outputs": [],
   "source": [
    "df.dropna(inplace=True)  # to drop  or delete the null values in data set"
   ]
  },
  {
   "cell_type": "code",
   "execution_count": 24,
   "metadata": {},
   "outputs": [
    {
     "data": {
      "text/plain": [
       "bike_name     0\n",
       "price         0\n",
       "city          0\n",
       "kms_driven    0\n",
       "owner         0\n",
       "age           0\n",
       "power         0\n",
       "brand         0\n",
       "dtype: int64"
      ]
     },
     "execution_count": 24,
     "metadata": {},
     "output_type": "execute_result"
    }
   ],
   "source": [
    "df.isnull().sum()"
   ]
  },
  {
   "cell_type": "code",
   "execution_count": 25,
   "metadata": {},
   "outputs": [
    {
     "data": {
      "text/plain": [
       "6853"
      ]
     },
     "execution_count": 25,
     "metadata": {},
     "output_type": "execute_result"
    }
   ],
   "source": [
    "df['bike_name'].duplicated().sum()"
   ]
  },
  {
   "cell_type": "code",
   "execution_count": 26,
   "metadata": {},
   "outputs": [
    {
     "data": {
      "text/plain": [
       "23"
      ]
     },
     "execution_count": 26,
     "metadata": {},
     "output_type": "execute_result"
    }
   ],
   "source": [
    "df.brand.nunique()"
   ]
  },
  {
   "cell_type": "code",
   "execution_count": 27,
   "metadata": {},
   "outputs": [
    {
     "data": {
      "text/plain": [
       "7301"
      ]
     },
     "execution_count": 27,
     "metadata": {},
     "output_type": "execute_result"
    }
   ],
   "source": [
    "df.brand.duplicated().sum()"
   ]
  },
  {
   "cell_type": "code",
   "execution_count": 28,
   "metadata": {},
   "outputs": [
    {
     "data": {
      "text/html": [
       "<div>\n",
       "<style scoped>\n",
       "    .dataframe tbody tr th:only-of-type {\n",
       "        vertical-align: middle;\n",
       "    }\n",
       "\n",
       "    .dataframe tbody tr th {\n",
       "        vertical-align: top;\n",
       "    }\n",
       "\n",
       "    .dataframe thead th {\n",
       "        text-align: right;\n",
       "    }\n",
       "</style>\n",
       "<table border=\"1\" class=\"dataframe\">\n",
       "  <thead>\n",
       "    <tr style=\"text-align: right;\">\n",
       "      <th></th>\n",
       "      <th>bike_name</th>\n",
       "      <th>price</th>\n",
       "      <th>city</th>\n",
       "      <th>kms_driven</th>\n",
       "      <th>owner</th>\n",
       "      <th>age</th>\n",
       "      <th>power</th>\n",
       "      <th>brand</th>\n",
       "    </tr>\n",
       "  </thead>\n",
       "  <tbody>\n",
       "    <tr>\n",
       "      <th>0</th>\n",
       "      <td>TVS Star City Plus Dual Tone 110cc</td>\n",
       "      <td>35000.0</td>\n",
       "      <td>Ahmedabad</td>\n",
       "      <td>17654.0</td>\n",
       "      <td>First Owner</td>\n",
       "      <td>3.0</td>\n",
       "      <td>110.0</td>\n",
       "      <td>TVS</td>\n",
       "    </tr>\n",
       "    <tr>\n",
       "      <th>1</th>\n",
       "      <td>Royal Enfield Classic 350cc</td>\n",
       "      <td>119900.0</td>\n",
       "      <td>Delhi</td>\n",
       "      <td>11000.0</td>\n",
       "      <td>First Owner</td>\n",
       "      <td>4.0</td>\n",
       "      <td>350.0</td>\n",
       "      <td>Royal Enfield</td>\n",
       "    </tr>\n",
       "    <tr>\n",
       "      <th>2</th>\n",
       "      <td>Triumph Daytona 675R</td>\n",
       "      <td>600000.0</td>\n",
       "      <td>Delhi</td>\n",
       "      <td>110.0</td>\n",
       "      <td>First Owner</td>\n",
       "      <td>8.0</td>\n",
       "      <td>675.0</td>\n",
       "      <td>Triumph</td>\n",
       "    </tr>\n",
       "    <tr>\n",
       "      <th>3</th>\n",
       "      <td>TVS Apache RTR 180cc</td>\n",
       "      <td>65000.0</td>\n",
       "      <td>Bangalore</td>\n",
       "      <td>16329.0</td>\n",
       "      <td>First Owner</td>\n",
       "      <td>4.0</td>\n",
       "      <td>180.0</td>\n",
       "      <td>TVS</td>\n",
       "    </tr>\n",
       "    <tr>\n",
       "      <th>4</th>\n",
       "      <td>Yamaha FZ S V 2.0 150cc-Ltd. Edition</td>\n",
       "      <td>80000.0</td>\n",
       "      <td>Bangalore</td>\n",
       "      <td>10000.0</td>\n",
       "      <td>First Owner</td>\n",
       "      <td>3.0</td>\n",
       "      <td>150.0</td>\n",
       "      <td>Yamaha</td>\n",
       "    </tr>\n",
       "    <tr>\n",
       "      <th>...</th>\n",
       "      <td>...</td>\n",
       "      <td>...</td>\n",
       "      <td>...</td>\n",
       "      <td>...</td>\n",
       "      <td>...</td>\n",
       "      <td>...</td>\n",
       "      <td>...</td>\n",
       "      <td>...</td>\n",
       "    </tr>\n",
       "    <tr>\n",
       "      <th>9362</th>\n",
       "      <td>Hero Hunk Rear Disc 150cc</td>\n",
       "      <td>25000.0</td>\n",
       "      <td>Delhi</td>\n",
       "      <td>48587.0</td>\n",
       "      <td>First Owner</td>\n",
       "      <td>8.0</td>\n",
       "      <td>150.0</td>\n",
       "      <td>Hero</td>\n",
       "    </tr>\n",
       "    <tr>\n",
       "      <th>9369</th>\n",
       "      <td>Bajaj Avenger 220cc</td>\n",
       "      <td>35000.0</td>\n",
       "      <td>Bangalore</td>\n",
       "      <td>60000.0</td>\n",
       "      <td>First Owner</td>\n",
       "      <td>9.0</td>\n",
       "      <td>220.0</td>\n",
       "      <td>Bajaj</td>\n",
       "    </tr>\n",
       "    <tr>\n",
       "      <th>9370</th>\n",
       "      <td>Harley-Davidson Street 750 ABS</td>\n",
       "      <td>450000.0</td>\n",
       "      <td>Jodhpur</td>\n",
       "      <td>3430.0</td>\n",
       "      <td>First Owner</td>\n",
       "      <td>4.0</td>\n",
       "      <td>750.0</td>\n",
       "      <td>Harley-Davidson</td>\n",
       "    </tr>\n",
       "    <tr>\n",
       "      <th>9371</th>\n",
       "      <td>Bajaj Dominar 400 ABS</td>\n",
       "      <td>139000.0</td>\n",
       "      <td>Hyderabad</td>\n",
       "      <td>21300.0</td>\n",
       "      <td>First Owner</td>\n",
       "      <td>4.0</td>\n",
       "      <td>400.0</td>\n",
       "      <td>Bajaj</td>\n",
       "    </tr>\n",
       "    <tr>\n",
       "      <th>9372</th>\n",
       "      <td>Bajaj Avenger Street 220</td>\n",
       "      <td>80000.0</td>\n",
       "      <td>Hyderabad</td>\n",
       "      <td>7127.0</td>\n",
       "      <td>First Owner</td>\n",
       "      <td>5.0</td>\n",
       "      <td>220.0</td>\n",
       "      <td>Bajaj</td>\n",
       "    </tr>\n",
       "  </tbody>\n",
       "</table>\n",
       "<p>7324 rows × 8 columns</p>\n",
       "</div>"
      ],
      "text/plain": [
       "                                 bike_name     price       city  kms_driven  \\\n",
       "0       TVS Star City Plus Dual Tone 110cc   35000.0  Ahmedabad     17654.0   \n",
       "1              Royal Enfield Classic 350cc  119900.0      Delhi     11000.0   \n",
       "2                     Triumph Daytona 675R  600000.0      Delhi       110.0   \n",
       "3                     TVS Apache RTR 180cc   65000.0  Bangalore     16329.0   \n",
       "4     Yamaha FZ S V 2.0 150cc-Ltd. Edition   80000.0  Bangalore     10000.0   \n",
       "...                                    ...       ...        ...         ...   \n",
       "9362             Hero Hunk Rear Disc 150cc   25000.0      Delhi     48587.0   \n",
       "9369                   Bajaj Avenger 220cc   35000.0  Bangalore     60000.0   \n",
       "9370        Harley-Davidson Street 750 ABS  450000.0    Jodhpur      3430.0   \n",
       "9371                 Bajaj Dominar 400 ABS  139000.0  Hyderabad     21300.0   \n",
       "9372              Bajaj Avenger Street 220   80000.0  Hyderabad      7127.0   \n",
       "\n",
       "            owner  age  power            brand  \n",
       "0     First Owner  3.0  110.0              TVS  \n",
       "1     First Owner  4.0  350.0    Royal Enfield  \n",
       "2     First Owner  8.0  675.0          Triumph  \n",
       "3     First Owner  4.0  180.0              TVS  \n",
       "4     First Owner  3.0  150.0           Yamaha  \n",
       "...           ...  ...    ...              ...  \n",
       "9362  First Owner  8.0  150.0             Hero  \n",
       "9369  First Owner  9.0  220.0            Bajaj  \n",
       "9370  First Owner  4.0  750.0  Harley-Davidson  \n",
       "9371  First Owner  4.0  400.0            Bajaj  \n",
       "9372  First Owner  5.0  220.0            Bajaj  \n",
       "\n",
       "[7324 rows x 8 columns]"
      ]
     },
     "execution_count": 28,
     "metadata": {},
     "output_type": "execute_result"
    }
   ],
   "source": [
    "df.fillna(0) # to fill the missing or null values with 0 "
   ]
  },
  {
   "cell_type": "code",
   "execution_count": 29,
   "metadata": {},
   "outputs": [
    {
     "data": {
      "text/plain": [
       "84883.90005461496"
      ]
     },
     "execution_count": 29,
     "metadata": {},
     "output_type": "execute_result"
    }
   ],
   "source": [
    "#df['price'].fillna(df['price'].mean())\n",
    "df.price.mean()  # set the mean value at the index where the price is missing"
   ]
  },
  {
   "cell_type": "code",
   "execution_count": 30,
   "metadata": {},
   "outputs": [
    {
     "data": {
      "text/plain": [
       "84883.90005461496"
      ]
     },
     "execution_count": 30,
     "metadata": {},
     "output_type": "execute_result"
    }
   ],
   "source": [
    "df['price'].mean()"
   ]
  },
  {
   "cell_type": "code",
   "execution_count": 31,
   "metadata": {},
   "outputs": [
    {
     "data": {
      "text/plain": [
       "0     35000.0\n",
       "1    119900.0\n",
       "2    600000.0\n",
       "3     65000.0\n",
       "4     80000.0\n",
       "Name: price, dtype: float64"
      ]
     },
     "execution_count": 31,
     "metadata": {},
     "output_type": "execute_result"
    }
   ],
   "source": [
    "df.price.head()"
   ]
  },
  {
   "cell_type": "code",
   "execution_count": 32,
   "metadata": {},
   "outputs": [],
   "source": [
    "#df['price'].fillna(df['price'].mean(), inplace=True)"
   ]
  },
  {
   "cell_type": "code",
   "execution_count": 33,
   "metadata": {},
   "outputs": [],
   "source": [
    "df.rename(columns={'kms_driven':'km_driven'},inplace=True) # if we have to change the name of a column"
   ]
  },
  {
   "cell_type": "code",
   "execution_count": 34,
   "metadata": {},
   "outputs": [
    {
     "data": {
      "text/plain": [
       "Index(['bike_name', 'price', 'city', 'km_driven', 'owner', 'age', 'power',\n",
       "       'brand'],\n",
       "      dtype='object')"
      ]
     },
     "execution_count": 34,
     "metadata": {},
     "output_type": "execute_result"
    }
   ],
   "source": [
    "df.columns"
   ]
  },
  {
   "cell_type": "code",
   "execution_count": 35,
   "metadata": {},
   "outputs": [
    {
     "data": {
      "text/html": [
       "<div>\n",
       "<style scoped>\n",
       "    .dataframe tbody tr th:only-of-type {\n",
       "        vertical-align: middle;\n",
       "    }\n",
       "\n",
       "    .dataframe tbody tr th {\n",
       "        vertical-align: top;\n",
       "    }\n",
       "\n",
       "    .dataframe thead th {\n",
       "        text-align: right;\n",
       "    }\n",
       "</style>\n",
       "<table border=\"1\" class=\"dataframe\">\n",
       "  <thead>\n",
       "    <tr style=\"text-align: right;\">\n",
       "      <th></th>\n",
       "      <th>bike_name</th>\n",
       "      <th>price</th>\n",
       "      <th>city</th>\n",
       "      <th>km_driven</th>\n",
       "      <th>owner</th>\n",
       "      <th>age</th>\n",
       "      <th>power</th>\n",
       "      <th>brand</th>\n",
       "    </tr>\n",
       "  </thead>\n",
       "  <tbody>\n",
       "    <tr>\n",
       "      <th>0</th>\n",
       "      <td>TVS Star City Plus Dual Tone 110cc</td>\n",
       "      <td>35000.0</td>\n",
       "      <td>Ahmedabad</td>\n",
       "      <td>17654.0</td>\n",
       "      <td>First Owner</td>\n",
       "      <td>3.0</td>\n",
       "      <td>110.0</td>\n",
       "      <td>TVS</td>\n",
       "    </tr>\n",
       "    <tr>\n",
       "      <th>1</th>\n",
       "      <td>Royal Enfield Classic 350cc</td>\n",
       "      <td>119900.0</td>\n",
       "      <td>Delhi</td>\n",
       "      <td>11000.0</td>\n",
       "      <td>First Owner</td>\n",
       "      <td>4.0</td>\n",
       "      <td>350.0</td>\n",
       "      <td>Royal Enfield</td>\n",
       "    </tr>\n",
       "    <tr>\n",
       "      <th>2</th>\n",
       "      <td>Triumph Daytona 675R</td>\n",
       "      <td>600000.0</td>\n",
       "      <td>Delhi</td>\n",
       "      <td>110.0</td>\n",
       "      <td>First Owner</td>\n",
       "      <td>8.0</td>\n",
       "      <td>675.0</td>\n",
       "      <td>Triumph</td>\n",
       "    </tr>\n",
       "    <tr>\n",
       "      <th>3</th>\n",
       "      <td>TVS Apache RTR 180cc</td>\n",
       "      <td>65000.0</td>\n",
       "      <td>Bangalore</td>\n",
       "      <td>16329.0</td>\n",
       "      <td>First Owner</td>\n",
       "      <td>4.0</td>\n",
       "      <td>180.0</td>\n",
       "      <td>TVS</td>\n",
       "    </tr>\n",
       "    <tr>\n",
       "      <th>4</th>\n",
       "      <td>Yamaha FZ S V 2.0 150cc-Ltd. Edition</td>\n",
       "      <td>80000.0</td>\n",
       "      <td>Bangalore</td>\n",
       "      <td>10000.0</td>\n",
       "      <td>First Owner</td>\n",
       "      <td>3.0</td>\n",
       "      <td>150.0</td>\n",
       "      <td>Yamaha</td>\n",
       "    </tr>\n",
       "  </tbody>\n",
       "</table>\n",
       "</div>"
      ],
      "text/plain": [
       "                              bike_name     price       city  km_driven  \\\n",
       "0    TVS Star City Plus Dual Tone 110cc   35000.0  Ahmedabad    17654.0   \n",
       "1           Royal Enfield Classic 350cc  119900.0      Delhi    11000.0   \n",
       "2                  Triumph Daytona 675R  600000.0      Delhi      110.0   \n",
       "3                  TVS Apache RTR 180cc   65000.0  Bangalore    16329.0   \n",
       "4  Yamaha FZ S V 2.0 150cc-Ltd. Edition   80000.0  Bangalore    10000.0   \n",
       "\n",
       "         owner  age  power          brand  \n",
       "0  First Owner  3.0  110.0            TVS  \n",
       "1  First Owner  4.0  350.0  Royal Enfield  \n",
       "2  First Owner  8.0  675.0        Triumph  \n",
       "3  First Owner  4.0  180.0            TVS  \n",
       "4  First Owner  3.0  150.0         Yamaha  "
      ]
     },
     "execution_count": 35,
     "metadata": {},
     "output_type": "execute_result"
    }
   ],
   "source": [
    "df.head()"
   ]
  },
  {
   "cell_type": "code",
   "execution_count": 36,
   "metadata": {},
   "outputs": [
    {
     "data": {
      "text/html": [
       "<div>\n",
       "<style scoped>\n",
       "    .dataframe tbody tr th:only-of-type {\n",
       "        vertical-align: middle;\n",
       "    }\n",
       "\n",
       "    .dataframe tbody tr th {\n",
       "        vertical-align: top;\n",
       "    }\n",
       "\n",
       "    .dataframe thead th {\n",
       "        text-align: right;\n",
       "    }\n",
       "</style>\n",
       "<table border=\"1\" class=\"dataframe\">\n",
       "  <thead>\n",
       "    <tr style=\"text-align: right;\">\n",
       "      <th></th>\n",
       "      <th>bike_name</th>\n",
       "      <th>price</th>\n",
       "      <th>city</th>\n",
       "      <th>km_driven</th>\n",
       "      <th>owner</th>\n",
       "      <th>age</th>\n",
       "      <th>power</th>\n",
       "      <th>brand</th>\n",
       "    </tr>\n",
       "  </thead>\n",
       "  <tbody>\n",
       "    <tr>\n",
       "      <th>9372</th>\n",
       "      <td>Bajaj Avenger Street 220</td>\n",
       "      <td>80000.0</td>\n",
       "      <td>Hyderabad</td>\n",
       "      <td>7127.0</td>\n",
       "      <td>First Owner</td>\n",
       "      <td>5.0</td>\n",
       "      <td>220.0</td>\n",
       "      <td>Bajaj</td>\n",
       "    </tr>\n",
       "    <tr>\n",
       "      <th>9371</th>\n",
       "      <td>Bajaj Dominar 400 ABS</td>\n",
       "      <td>139000.0</td>\n",
       "      <td>Hyderabad</td>\n",
       "      <td>21300.0</td>\n",
       "      <td>First Owner</td>\n",
       "      <td>4.0</td>\n",
       "      <td>400.0</td>\n",
       "      <td>Bajaj</td>\n",
       "    </tr>\n",
       "    <tr>\n",
       "      <th>9370</th>\n",
       "      <td>Harley-Davidson Street 750 ABS</td>\n",
       "      <td>450000.0</td>\n",
       "      <td>Jodhpur</td>\n",
       "      <td>3430.0</td>\n",
       "      <td>First Owner</td>\n",
       "      <td>4.0</td>\n",
       "      <td>750.0</td>\n",
       "      <td>Harley-Davidson</td>\n",
       "    </tr>\n",
       "    <tr>\n",
       "      <th>9369</th>\n",
       "      <td>Bajaj Avenger 220cc</td>\n",
       "      <td>35000.0</td>\n",
       "      <td>Bangalore</td>\n",
       "      <td>60000.0</td>\n",
       "      <td>First Owner</td>\n",
       "      <td>9.0</td>\n",
       "      <td>220.0</td>\n",
       "      <td>Bajaj</td>\n",
       "    </tr>\n",
       "    <tr>\n",
       "      <th>9362</th>\n",
       "      <td>Hero Hunk Rear Disc 150cc</td>\n",
       "      <td>25000.0</td>\n",
       "      <td>Delhi</td>\n",
       "      <td>48587.0</td>\n",
       "      <td>First Owner</td>\n",
       "      <td>8.0</td>\n",
       "      <td>150.0</td>\n",
       "      <td>Hero</td>\n",
       "    </tr>\n",
       "    <tr>\n",
       "      <th>...</th>\n",
       "      <td>...</td>\n",
       "      <td>...</td>\n",
       "      <td>...</td>\n",
       "      <td>...</td>\n",
       "      <td>...</td>\n",
       "      <td>...</td>\n",
       "      <td>...</td>\n",
       "      <td>...</td>\n",
       "    </tr>\n",
       "    <tr>\n",
       "      <th>4</th>\n",
       "      <td>Yamaha FZ S V 2.0 150cc-Ltd. Edition</td>\n",
       "      <td>80000.0</td>\n",
       "      <td>Bangalore</td>\n",
       "      <td>10000.0</td>\n",
       "      <td>First Owner</td>\n",
       "      <td>3.0</td>\n",
       "      <td>150.0</td>\n",
       "      <td>Yamaha</td>\n",
       "    </tr>\n",
       "    <tr>\n",
       "      <th>3</th>\n",
       "      <td>TVS Apache RTR 180cc</td>\n",
       "      <td>65000.0</td>\n",
       "      <td>Bangalore</td>\n",
       "      <td>16329.0</td>\n",
       "      <td>First Owner</td>\n",
       "      <td>4.0</td>\n",
       "      <td>180.0</td>\n",
       "      <td>TVS</td>\n",
       "    </tr>\n",
       "    <tr>\n",
       "      <th>2</th>\n",
       "      <td>Triumph Daytona 675R</td>\n",
       "      <td>600000.0</td>\n",
       "      <td>Delhi</td>\n",
       "      <td>110.0</td>\n",
       "      <td>First Owner</td>\n",
       "      <td>8.0</td>\n",
       "      <td>675.0</td>\n",
       "      <td>Triumph</td>\n",
       "    </tr>\n",
       "    <tr>\n",
       "      <th>1</th>\n",
       "      <td>Royal Enfield Classic 350cc</td>\n",
       "      <td>119900.0</td>\n",
       "      <td>Delhi</td>\n",
       "      <td>11000.0</td>\n",
       "      <td>First Owner</td>\n",
       "      <td>4.0</td>\n",
       "      <td>350.0</td>\n",
       "      <td>Royal Enfield</td>\n",
       "    </tr>\n",
       "    <tr>\n",
       "      <th>0</th>\n",
       "      <td>TVS Star City Plus Dual Tone 110cc</td>\n",
       "      <td>35000.0</td>\n",
       "      <td>Ahmedabad</td>\n",
       "      <td>17654.0</td>\n",
       "      <td>First Owner</td>\n",
       "      <td>3.0</td>\n",
       "      <td>110.0</td>\n",
       "      <td>TVS</td>\n",
       "    </tr>\n",
       "  </tbody>\n",
       "</table>\n",
       "<p>7324 rows × 8 columns</p>\n",
       "</div>"
      ],
      "text/plain": [
       "                                 bike_name     price       city  km_driven  \\\n",
       "9372              Bajaj Avenger Street 220   80000.0  Hyderabad     7127.0   \n",
       "9371                 Bajaj Dominar 400 ABS  139000.0  Hyderabad    21300.0   \n",
       "9370        Harley-Davidson Street 750 ABS  450000.0    Jodhpur     3430.0   \n",
       "9369                   Bajaj Avenger 220cc   35000.0  Bangalore    60000.0   \n",
       "9362             Hero Hunk Rear Disc 150cc   25000.0      Delhi    48587.0   \n",
       "...                                    ...       ...        ...        ...   \n",
       "4     Yamaha FZ S V 2.0 150cc-Ltd. Edition   80000.0  Bangalore    10000.0   \n",
       "3                     TVS Apache RTR 180cc   65000.0  Bangalore    16329.0   \n",
       "2                     Triumph Daytona 675R  600000.0      Delhi      110.0   \n",
       "1              Royal Enfield Classic 350cc  119900.0      Delhi    11000.0   \n",
       "0       TVS Star City Plus Dual Tone 110cc   35000.0  Ahmedabad    17654.0   \n",
       "\n",
       "            owner  age  power            brand  \n",
       "9372  First Owner  5.0  220.0            Bajaj  \n",
       "9371  First Owner  4.0  400.0            Bajaj  \n",
       "9370  First Owner  4.0  750.0  Harley-Davidson  \n",
       "9369  First Owner  9.0  220.0            Bajaj  \n",
       "9362  First Owner  8.0  150.0             Hero  \n",
       "...           ...  ...    ...              ...  \n",
       "4     First Owner  3.0  150.0           Yamaha  \n",
       "3     First Owner  4.0  180.0              TVS  \n",
       "2     First Owner  8.0  675.0          Triumph  \n",
       "1     First Owner  4.0  350.0    Royal Enfield  \n",
       "0     First Owner  3.0  110.0              TVS  \n",
       "\n",
       "[7324 rows x 8 columns]"
      ]
     },
     "execution_count": 36,
     "metadata": {},
     "output_type": "execute_result"
    }
   ],
   "source": [
    "df.sort_index(ascending=False) # to get the sort index of the data set"
   ]
  },
  {
   "cell_type": "code",
   "execution_count": 37,
   "metadata": {},
   "outputs": [
    {
     "name": "stdout",
     "output_type": "stream",
     "text": [
      "<class 'pandas.core.frame.DataFrame'>\n",
      "Index: 7324 entries, 0 to 9372\n",
      "Data columns (total 8 columns):\n",
      " #   Column     Non-Null Count  Dtype  \n",
      "---  ------     --------------  -----  \n",
      " 0   bike_name  7324 non-null   object \n",
      " 1   price      7324 non-null   float64\n",
      " 2   city       7324 non-null   object \n",
      " 3   km_driven  7324 non-null   float64\n",
      " 4   owner      7324 non-null   object \n",
      " 5   age        7324 non-null   float64\n",
      " 6   power      7324 non-null   float64\n",
      " 7   brand      7324 non-null   object \n",
      "dtypes: float64(4), object(4)\n",
      "memory usage: 515.0+ KB\n"
     ]
    }
   ],
   "source": [
    "df.info()"
   ]
  },
  {
   "cell_type": "code",
   "execution_count": 38,
   "metadata": {},
   "outputs": [],
   "source": [
    "car_col=df.select_dtypes(include='object') # agar apko object value ko select krna h data type mai sai "
   ]
  },
  {
   "cell_type": "code",
   "execution_count": 39,
   "metadata": {},
   "outputs": [
    {
     "data": {
      "text/html": [
       "<div>\n",
       "<style scoped>\n",
       "    .dataframe tbody tr th:only-of-type {\n",
       "        vertical-align: middle;\n",
       "    }\n",
       "\n",
       "    .dataframe tbody tr th {\n",
       "        vertical-align: top;\n",
       "    }\n",
       "\n",
       "    .dataframe thead th {\n",
       "        text-align: right;\n",
       "    }\n",
       "</style>\n",
       "<table border=\"1\" class=\"dataframe\">\n",
       "  <thead>\n",
       "    <tr style=\"text-align: right;\">\n",
       "      <th></th>\n",
       "      <th>bike_name</th>\n",
       "      <th>city</th>\n",
       "      <th>owner</th>\n",
       "      <th>brand</th>\n",
       "    </tr>\n",
       "  </thead>\n",
       "  <tbody>\n",
       "    <tr>\n",
       "      <th>0</th>\n",
       "      <td>TVS Star City Plus Dual Tone 110cc</td>\n",
       "      <td>Ahmedabad</td>\n",
       "      <td>First Owner</td>\n",
       "      <td>TVS</td>\n",
       "    </tr>\n",
       "    <tr>\n",
       "      <th>1</th>\n",
       "      <td>Royal Enfield Classic 350cc</td>\n",
       "      <td>Delhi</td>\n",
       "      <td>First Owner</td>\n",
       "      <td>Royal Enfield</td>\n",
       "    </tr>\n",
       "    <tr>\n",
       "      <th>2</th>\n",
       "      <td>Triumph Daytona 675R</td>\n",
       "      <td>Delhi</td>\n",
       "      <td>First Owner</td>\n",
       "      <td>Triumph</td>\n",
       "    </tr>\n",
       "    <tr>\n",
       "      <th>3</th>\n",
       "      <td>TVS Apache RTR 180cc</td>\n",
       "      <td>Bangalore</td>\n",
       "      <td>First Owner</td>\n",
       "      <td>TVS</td>\n",
       "    </tr>\n",
       "    <tr>\n",
       "      <th>4</th>\n",
       "      <td>Yamaha FZ S V 2.0 150cc-Ltd. Edition</td>\n",
       "      <td>Bangalore</td>\n",
       "      <td>First Owner</td>\n",
       "      <td>Yamaha</td>\n",
       "    </tr>\n",
       "    <tr>\n",
       "      <th>...</th>\n",
       "      <td>...</td>\n",
       "      <td>...</td>\n",
       "      <td>...</td>\n",
       "      <td>...</td>\n",
       "    </tr>\n",
       "    <tr>\n",
       "      <th>9362</th>\n",
       "      <td>Hero Hunk Rear Disc 150cc</td>\n",
       "      <td>Delhi</td>\n",
       "      <td>First Owner</td>\n",
       "      <td>Hero</td>\n",
       "    </tr>\n",
       "    <tr>\n",
       "      <th>9369</th>\n",
       "      <td>Bajaj Avenger 220cc</td>\n",
       "      <td>Bangalore</td>\n",
       "      <td>First Owner</td>\n",
       "      <td>Bajaj</td>\n",
       "    </tr>\n",
       "    <tr>\n",
       "      <th>9370</th>\n",
       "      <td>Harley-Davidson Street 750 ABS</td>\n",
       "      <td>Jodhpur</td>\n",
       "      <td>First Owner</td>\n",
       "      <td>Harley-Davidson</td>\n",
       "    </tr>\n",
       "    <tr>\n",
       "      <th>9371</th>\n",
       "      <td>Bajaj Dominar 400 ABS</td>\n",
       "      <td>Hyderabad</td>\n",
       "      <td>First Owner</td>\n",
       "      <td>Bajaj</td>\n",
       "    </tr>\n",
       "    <tr>\n",
       "      <th>9372</th>\n",
       "      <td>Bajaj Avenger Street 220</td>\n",
       "      <td>Hyderabad</td>\n",
       "      <td>First Owner</td>\n",
       "      <td>Bajaj</td>\n",
       "    </tr>\n",
       "  </tbody>\n",
       "</table>\n",
       "<p>7324 rows × 4 columns</p>\n",
       "</div>"
      ],
      "text/plain": [
       "                                 bike_name       city        owner  \\\n",
       "0       TVS Star City Plus Dual Tone 110cc  Ahmedabad  First Owner   \n",
       "1              Royal Enfield Classic 350cc      Delhi  First Owner   \n",
       "2                     Triumph Daytona 675R      Delhi  First Owner   \n",
       "3                     TVS Apache RTR 180cc  Bangalore  First Owner   \n",
       "4     Yamaha FZ S V 2.0 150cc-Ltd. Edition  Bangalore  First Owner   \n",
       "...                                    ...        ...          ...   \n",
       "9362             Hero Hunk Rear Disc 150cc      Delhi  First Owner   \n",
       "9369                   Bajaj Avenger 220cc  Bangalore  First Owner   \n",
       "9370        Harley-Davidson Street 750 ABS    Jodhpur  First Owner   \n",
       "9371                 Bajaj Dominar 400 ABS  Hyderabad  First Owner   \n",
       "9372              Bajaj Avenger Street 220  Hyderabad  First Owner   \n",
       "\n",
       "                brand  \n",
       "0                 TVS  \n",
       "1       Royal Enfield  \n",
       "2             Triumph  \n",
       "3                 TVS  \n",
       "4              Yamaha  \n",
       "...               ...  \n",
       "9362             Hero  \n",
       "9369            Bajaj  \n",
       "9370  Harley-Davidson  \n",
       "9371            Bajaj  \n",
       "9372            Bajaj  \n",
       "\n",
       "[7324 rows x 4 columns]"
      ]
     },
     "execution_count": 39,
     "metadata": {},
     "output_type": "execute_result"
    }
   ],
   "source": [
    "car_col"
   ]
  },
  {
   "cell_type": "code",
   "execution_count": 40,
   "metadata": {},
   "outputs": [],
   "source": [
    "num_columns=df.select_dtypes(exclude='object') # if you want to acces only numerical column  "
   ]
  },
  {
   "cell_type": "code",
   "execution_count": 41,
   "metadata": {},
   "outputs": [
    {
     "data": {
      "text/html": [
       "<div>\n",
       "<style scoped>\n",
       "    .dataframe tbody tr th:only-of-type {\n",
       "        vertical-align: middle;\n",
       "    }\n",
       "\n",
       "    .dataframe tbody tr th {\n",
       "        vertical-align: top;\n",
       "    }\n",
       "\n",
       "    .dataframe thead th {\n",
       "        text-align: right;\n",
       "    }\n",
       "</style>\n",
       "<table border=\"1\" class=\"dataframe\">\n",
       "  <thead>\n",
       "    <tr style=\"text-align: right;\">\n",
       "      <th></th>\n",
       "      <th>price</th>\n",
       "      <th>km_driven</th>\n",
       "      <th>age</th>\n",
       "      <th>power</th>\n",
       "    </tr>\n",
       "  </thead>\n",
       "  <tbody>\n",
       "    <tr>\n",
       "      <th>0</th>\n",
       "      <td>35000.0</td>\n",
       "      <td>17654.0</td>\n",
       "      <td>3.0</td>\n",
       "      <td>110.0</td>\n",
       "    </tr>\n",
       "    <tr>\n",
       "      <th>1</th>\n",
       "      <td>119900.0</td>\n",
       "      <td>11000.0</td>\n",
       "      <td>4.0</td>\n",
       "      <td>350.0</td>\n",
       "    </tr>\n",
       "    <tr>\n",
       "      <th>2</th>\n",
       "      <td>600000.0</td>\n",
       "      <td>110.0</td>\n",
       "      <td>8.0</td>\n",
       "      <td>675.0</td>\n",
       "    </tr>\n",
       "    <tr>\n",
       "      <th>3</th>\n",
       "      <td>65000.0</td>\n",
       "      <td>16329.0</td>\n",
       "      <td>4.0</td>\n",
       "      <td>180.0</td>\n",
       "    </tr>\n",
       "    <tr>\n",
       "      <th>4</th>\n",
       "      <td>80000.0</td>\n",
       "      <td>10000.0</td>\n",
       "      <td>3.0</td>\n",
       "      <td>150.0</td>\n",
       "    </tr>\n",
       "    <tr>\n",
       "      <th>...</th>\n",
       "      <td>...</td>\n",
       "      <td>...</td>\n",
       "      <td>...</td>\n",
       "      <td>...</td>\n",
       "    </tr>\n",
       "    <tr>\n",
       "      <th>9362</th>\n",
       "      <td>25000.0</td>\n",
       "      <td>48587.0</td>\n",
       "      <td>8.0</td>\n",
       "      <td>150.0</td>\n",
       "    </tr>\n",
       "    <tr>\n",
       "      <th>9369</th>\n",
       "      <td>35000.0</td>\n",
       "      <td>60000.0</td>\n",
       "      <td>9.0</td>\n",
       "      <td>220.0</td>\n",
       "    </tr>\n",
       "    <tr>\n",
       "      <th>9370</th>\n",
       "      <td>450000.0</td>\n",
       "      <td>3430.0</td>\n",
       "      <td>4.0</td>\n",
       "      <td>750.0</td>\n",
       "    </tr>\n",
       "    <tr>\n",
       "      <th>9371</th>\n",
       "      <td>139000.0</td>\n",
       "      <td>21300.0</td>\n",
       "      <td>4.0</td>\n",
       "      <td>400.0</td>\n",
       "    </tr>\n",
       "    <tr>\n",
       "      <th>9372</th>\n",
       "      <td>80000.0</td>\n",
       "      <td>7127.0</td>\n",
       "      <td>5.0</td>\n",
       "      <td>220.0</td>\n",
       "    </tr>\n",
       "  </tbody>\n",
       "</table>\n",
       "<p>7324 rows × 4 columns</p>\n",
       "</div>"
      ],
      "text/plain": [
       "         price  km_driven  age  power\n",
       "0      35000.0    17654.0  3.0  110.0\n",
       "1     119900.0    11000.0  4.0  350.0\n",
       "2     600000.0      110.0  8.0  675.0\n",
       "3      65000.0    16329.0  4.0  180.0\n",
       "4      80000.0    10000.0  3.0  150.0\n",
       "...        ...        ...  ...    ...\n",
       "9362   25000.0    48587.0  8.0  150.0\n",
       "9369   35000.0    60000.0  9.0  220.0\n",
       "9370  450000.0     3430.0  4.0  750.0\n",
       "9371  139000.0    21300.0  4.0  400.0\n",
       "9372   80000.0     7127.0  5.0  220.0\n",
       "\n",
       "[7324 rows x 4 columns]"
      ]
     },
     "execution_count": 41,
     "metadata": {},
     "output_type": "execute_result"
    }
   ],
   "source": [
    "num_columns"
   ]
  },
  {
   "cell_type": "code",
   "execution_count": 42,
   "metadata": {},
   "outputs": [
    {
     "data": {
      "text/html": [
       "<div>\n",
       "<style scoped>\n",
       "    .dataframe tbody tr th:only-of-type {\n",
       "        vertical-align: middle;\n",
       "    }\n",
       "\n",
       "    .dataframe tbody tr th {\n",
       "        vertical-align: top;\n",
       "    }\n",
       "\n",
       "    .dataframe thead th {\n",
       "        text-align: right;\n",
       "    }\n",
       "</style>\n",
       "<table border=\"1\" class=\"dataframe\">\n",
       "  <thead>\n",
       "    <tr style=\"text-align: right;\">\n",
       "      <th></th>\n",
       "      <th>bike_name</th>\n",
       "      <th>price</th>\n",
       "      <th>city</th>\n",
       "      <th>km_driven</th>\n",
       "      <th>owner</th>\n",
       "      <th>age</th>\n",
       "      <th>power</th>\n",
       "      <th>brand</th>\n",
       "    </tr>\n",
       "  </thead>\n",
       "  <tbody>\n",
       "    <tr>\n",
       "      <th>0</th>\n",
       "      <td>TVS Star City Plus Dual Tone 110cc</td>\n",
       "      <td>35000.0</td>\n",
       "      <td>Ahmedabad</td>\n",
       "      <td>17654.0</td>\n",
       "      <td>First Owner</td>\n",
       "      <td>3.0</td>\n",
       "      <td>110.0</td>\n",
       "      <td>TVS</td>\n",
       "    </tr>\n",
       "    <tr>\n",
       "      <th>1</th>\n",
       "      <td>Royal Enfield Classic 350cc</td>\n",
       "      <td>119900.0</td>\n",
       "      <td>Delhi</td>\n",
       "      <td>11000.0</td>\n",
       "      <td>First Owner</td>\n",
       "      <td>4.0</td>\n",
       "      <td>350.0</td>\n",
       "      <td>Royal Enfield</td>\n",
       "    </tr>\n",
       "    <tr>\n",
       "      <th>2</th>\n",
       "      <td>Triumph Daytona 675R</td>\n",
       "      <td>600000.0</td>\n",
       "      <td>Delhi</td>\n",
       "      <td>110.0</td>\n",
       "      <td>First Owner</td>\n",
       "      <td>8.0</td>\n",
       "      <td>675.0</td>\n",
       "      <td>Triumph</td>\n",
       "    </tr>\n",
       "    <tr>\n",
       "      <th>3</th>\n",
       "      <td>TVS Apache RTR 180cc</td>\n",
       "      <td>65000.0</td>\n",
       "      <td>Bangalore</td>\n",
       "      <td>16329.0</td>\n",
       "      <td>First Owner</td>\n",
       "      <td>4.0</td>\n",
       "      <td>180.0</td>\n",
       "      <td>TVS</td>\n",
       "    </tr>\n",
       "    <tr>\n",
       "      <th>4</th>\n",
       "      <td>Yamaha FZ S V 2.0 150cc-Ltd. Edition</td>\n",
       "      <td>80000.0</td>\n",
       "      <td>Bangalore</td>\n",
       "      <td>10000.0</td>\n",
       "      <td>First Owner</td>\n",
       "      <td>3.0</td>\n",
       "      <td>150.0</td>\n",
       "      <td>Yamaha</td>\n",
       "    </tr>\n",
       "    <tr>\n",
       "      <th>...</th>\n",
       "      <td>...</td>\n",
       "      <td>...</td>\n",
       "      <td>...</td>\n",
       "      <td>...</td>\n",
       "      <td>...</td>\n",
       "      <td>...</td>\n",
       "      <td>...</td>\n",
       "      <td>...</td>\n",
       "    </tr>\n",
       "    <tr>\n",
       "      <th>9362</th>\n",
       "      <td>Hero Hunk Rear Disc 150cc</td>\n",
       "      <td>25000.0</td>\n",
       "      <td>Delhi</td>\n",
       "      <td>48587.0</td>\n",
       "      <td>First Owner</td>\n",
       "      <td>8.0</td>\n",
       "      <td>150.0</td>\n",
       "      <td>Hero</td>\n",
       "    </tr>\n",
       "    <tr>\n",
       "      <th>9369</th>\n",
       "      <td>Bajaj Avenger 220cc</td>\n",
       "      <td>35000.0</td>\n",
       "      <td>Bangalore</td>\n",
       "      <td>60000.0</td>\n",
       "      <td>First Owner</td>\n",
       "      <td>9.0</td>\n",
       "      <td>220.0</td>\n",
       "      <td>Bajaj</td>\n",
       "    </tr>\n",
       "    <tr>\n",
       "      <th>9370</th>\n",
       "      <td>Harley-Davidson Street 750 ABS</td>\n",
       "      <td>450000.0</td>\n",
       "      <td>Jodhpur</td>\n",
       "      <td>3430.0</td>\n",
       "      <td>First Owner</td>\n",
       "      <td>4.0</td>\n",
       "      <td>750.0</td>\n",
       "      <td>Harley-Davidson</td>\n",
       "    </tr>\n",
       "    <tr>\n",
       "      <th>9371</th>\n",
       "      <td>Bajaj Dominar 400 ABS</td>\n",
       "      <td>139000.0</td>\n",
       "      <td>Hyderabad</td>\n",
       "      <td>21300.0</td>\n",
       "      <td>First Owner</td>\n",
       "      <td>4.0</td>\n",
       "      <td>400.0</td>\n",
       "      <td>Bajaj</td>\n",
       "    </tr>\n",
       "    <tr>\n",
       "      <th>9372</th>\n",
       "      <td>Bajaj Avenger Street 220</td>\n",
       "      <td>80000.0</td>\n",
       "      <td>Hyderabad</td>\n",
       "      <td>7127.0</td>\n",
       "      <td>First Owner</td>\n",
       "      <td>5.0</td>\n",
       "      <td>220.0</td>\n",
       "      <td>Bajaj</td>\n",
       "    </tr>\n",
       "  </tbody>\n",
       "</table>\n",
       "<p>7324 rows × 8 columns</p>\n",
       "</div>"
      ],
      "text/plain": [
       "                                 bike_name     price       city  km_driven  \\\n",
       "0       TVS Star City Plus Dual Tone 110cc   35000.0  Ahmedabad    17654.0   \n",
       "1              Royal Enfield Classic 350cc  119900.0      Delhi    11000.0   \n",
       "2                     Triumph Daytona 675R  600000.0      Delhi      110.0   \n",
       "3                     TVS Apache RTR 180cc   65000.0  Bangalore    16329.0   \n",
       "4     Yamaha FZ S V 2.0 150cc-Ltd. Edition   80000.0  Bangalore    10000.0   \n",
       "...                                    ...       ...        ...        ...   \n",
       "9362             Hero Hunk Rear Disc 150cc   25000.0      Delhi    48587.0   \n",
       "9369                   Bajaj Avenger 220cc   35000.0  Bangalore    60000.0   \n",
       "9370        Harley-Davidson Street 750 ABS  450000.0    Jodhpur     3430.0   \n",
       "9371                 Bajaj Dominar 400 ABS  139000.0  Hyderabad    21300.0   \n",
       "9372              Bajaj Avenger Street 220   80000.0  Hyderabad     7127.0   \n",
       "\n",
       "            owner  age  power            brand  \n",
       "0     First Owner  3.0  110.0              TVS  \n",
       "1     First Owner  4.0  350.0    Royal Enfield  \n",
       "2     First Owner  8.0  675.0          Triumph  \n",
       "3     First Owner  4.0  180.0              TVS  \n",
       "4     First Owner  3.0  150.0           Yamaha  \n",
       "...           ...  ...    ...              ...  \n",
       "9362  First Owner  8.0  150.0             Hero  \n",
       "9369  First Owner  9.0  220.0            Bajaj  \n",
       "9370  First Owner  4.0  750.0  Harley-Davidson  \n",
       "9371  First Owner  4.0  400.0            Bajaj  \n",
       "9372  First Owner  5.0  220.0            Bajaj  \n",
       "\n",
       "[7324 rows x 8 columns]"
      ]
     },
     "execution_count": 42,
     "metadata": {},
     "output_type": "execute_result"
    }
   ],
   "source": [
    "df"
   ]
  },
  {
   "cell_type": "code",
   "execution_count": 43,
   "metadata": {},
   "outputs": [
    {
     "data": {
      "text/html": [
       "<div>\n",
       "<style scoped>\n",
       "    .dataframe tbody tr th:only-of-type {\n",
       "        vertical-align: middle;\n",
       "    }\n",
       "\n",
       "    .dataframe tbody tr th {\n",
       "        vertical-align: top;\n",
       "    }\n",
       "\n",
       "    .dataframe thead th {\n",
       "        text-align: right;\n",
       "    }\n",
       "</style>\n",
       "<table border=\"1\" class=\"dataframe\">\n",
       "  <thead>\n",
       "    <tr style=\"text-align: right;\">\n",
       "      <th></th>\n",
       "      <th>price</th>\n",
       "      <th>km_driven</th>\n",
       "      <th>age</th>\n",
       "      <th>power</th>\n",
       "    </tr>\n",
       "  </thead>\n",
       "  <tbody>\n",
       "    <tr>\n",
       "      <th>count</th>\n",
       "      <td>7.324000e+03</td>\n",
       "      <td>7324.000000</td>\n",
       "      <td>7324.000000</td>\n",
       "      <td>7324.000000</td>\n",
       "    </tr>\n",
       "    <tr>\n",
       "      <th>mean</th>\n",
       "      <td>8.488390e+04</td>\n",
       "      <td>23910.496587</td>\n",
       "      <td>6.656472</td>\n",
       "      <td>228.133397</td>\n",
       "    </tr>\n",
       "    <tr>\n",
       "      <th>std</th>\n",
       "      <td>1.209662e+05</td>\n",
       "      <td>27317.594631</td>\n",
       "      <td>3.605299</td>\n",
       "      <td>158.324219</td>\n",
       "    </tr>\n",
       "    <tr>\n",
       "      <th>min</th>\n",
       "      <td>4.400000e+03</td>\n",
       "      <td>1.000000</td>\n",
       "      <td>1.000000</td>\n",
       "      <td>100.000000</td>\n",
       "    </tr>\n",
       "    <tr>\n",
       "      <th>25%</th>\n",
       "      <td>3.000000e+04</td>\n",
       "      <td>10155.750000</td>\n",
       "      <td>4.000000</td>\n",
       "      <td>125.000000</td>\n",
       "    </tr>\n",
       "    <tr>\n",
       "      <th>50%</th>\n",
       "      <td>5.500000e+04</td>\n",
       "      <td>19000.000000</td>\n",
       "      <td>6.000000</td>\n",
       "      <td>160.000000</td>\n",
       "    </tr>\n",
       "    <tr>\n",
       "      <th>75%</th>\n",
       "      <td>1.000000e+05</td>\n",
       "      <td>30112.000000</td>\n",
       "      <td>8.000000</td>\n",
       "      <td>350.000000</td>\n",
       "    </tr>\n",
       "    <tr>\n",
       "      <th>max</th>\n",
       "      <td>1.900000e+06</td>\n",
       "      <td>750000.000000</td>\n",
       "      <td>63.000000</td>\n",
       "      <td>1800.000000</td>\n",
       "    </tr>\n",
       "  </tbody>\n",
       "</table>\n",
       "</div>"
      ],
      "text/plain": [
       "              price      km_driven          age        power\n",
       "count  7.324000e+03    7324.000000  7324.000000  7324.000000\n",
       "mean   8.488390e+04   23910.496587     6.656472   228.133397\n",
       "std    1.209662e+05   27317.594631     3.605299   158.324219\n",
       "min    4.400000e+03       1.000000     1.000000   100.000000\n",
       "25%    3.000000e+04   10155.750000     4.000000   125.000000\n",
       "50%    5.500000e+04   19000.000000     6.000000   160.000000\n",
       "75%    1.000000e+05   30112.000000     8.000000   350.000000\n",
       "max    1.900000e+06  750000.000000    63.000000  1800.000000"
      ]
     },
     "execution_count": 43,
     "metadata": {},
     "output_type": "execute_result"
    }
   ],
   "source": [
    "df.describe()"
   ]
  },
  {
   "cell_type": "code",
   "execution_count": 44,
   "metadata": {},
   "outputs": [
    {
     "data": {
      "text/plain": [
       "bike_name    0\n",
       "price        0\n",
       "city         0\n",
       "km_driven    0\n",
       "owner        0\n",
       "age          0\n",
       "power        0\n",
       "brand        0\n",
       "dtype: int64"
      ]
     },
     "execution_count": 44,
     "metadata": {},
     "output_type": "execute_result"
    }
   ],
   "source": [
    "df.isnull().sum()"
   ]
  },
  {
   "cell_type": "code",
   "execution_count": 45,
   "metadata": {},
   "outputs": [],
   "source": [
    "df.dropna(inplace=True)"
   ]
  },
  {
   "cell_type": "code",
   "execution_count": 46,
   "metadata": {},
   "outputs": [
    {
     "data": {
      "text/plain": [
       "bike_name    0\n",
       "price        0\n",
       "city         0\n",
       "km_driven    0\n",
       "owner        0\n",
       "age          0\n",
       "power        0\n",
       "brand        0\n",
       "dtype: int64"
      ]
     },
     "execution_count": 46,
     "metadata": {},
     "output_type": "execute_result"
    }
   ],
   "source": [
    "df.isnull().sum()"
   ]
  },
  {
   "cell_type": "code",
   "execution_count": 47,
   "metadata": {},
   "outputs": [
    {
     "data": {
      "text/html": [
       "<div>\n",
       "<style scoped>\n",
       "    .dataframe tbody tr th:only-of-type {\n",
       "        vertical-align: middle;\n",
       "    }\n",
       "\n",
       "    .dataframe tbody tr th {\n",
       "        vertical-align: top;\n",
       "    }\n",
       "\n",
       "    .dataframe thead th {\n",
       "        text-align: right;\n",
       "    }\n",
       "</style>\n",
       "<table border=\"1\" class=\"dataframe\">\n",
       "  <thead>\n",
       "    <tr style=\"text-align: right;\">\n",
       "      <th></th>\n",
       "      <th>bike_name</th>\n",
       "      <th>price</th>\n",
       "      <th>city</th>\n",
       "      <th>km_driven</th>\n",
       "      <th>owner</th>\n",
       "      <th>age</th>\n",
       "      <th>power</th>\n",
       "      <th>brand</th>\n",
       "    </tr>\n",
       "  </thead>\n",
       "  <tbody>\n",
       "    <tr>\n",
       "      <th>0</th>\n",
       "      <td>TVS Star City Plus Dual Tone 110cc</td>\n",
       "      <td>35000.0</td>\n",
       "      <td>Ahmedabad</td>\n",
       "      <td>17654.0</td>\n",
       "      <td>First Owner</td>\n",
       "      <td>3.0</td>\n",
       "      <td>110.0</td>\n",
       "      <td>TVS</td>\n",
       "    </tr>\n",
       "    <tr>\n",
       "      <th>1</th>\n",
       "      <td>Royal Enfield Classic 350cc</td>\n",
       "      <td>119900.0</td>\n",
       "      <td>Delhi</td>\n",
       "      <td>11000.0</td>\n",
       "      <td>First Owner</td>\n",
       "      <td>4.0</td>\n",
       "      <td>350.0</td>\n",
       "      <td>Royal Enfield</td>\n",
       "    </tr>\n",
       "    <tr>\n",
       "      <th>2</th>\n",
       "      <td>Triumph Daytona 675R</td>\n",
       "      <td>600000.0</td>\n",
       "      <td>Delhi</td>\n",
       "      <td>110.0</td>\n",
       "      <td>First Owner</td>\n",
       "      <td>8.0</td>\n",
       "      <td>675.0</td>\n",
       "      <td>Triumph</td>\n",
       "    </tr>\n",
       "    <tr>\n",
       "      <th>3</th>\n",
       "      <td>TVS Apache RTR 180cc</td>\n",
       "      <td>65000.0</td>\n",
       "      <td>Bangalore</td>\n",
       "      <td>16329.0</td>\n",
       "      <td>First Owner</td>\n",
       "      <td>4.0</td>\n",
       "      <td>180.0</td>\n",
       "      <td>TVS</td>\n",
       "    </tr>\n",
       "    <tr>\n",
       "      <th>4</th>\n",
       "      <td>Yamaha FZ S V 2.0 150cc-Ltd. Edition</td>\n",
       "      <td>80000.0</td>\n",
       "      <td>Bangalore</td>\n",
       "      <td>10000.0</td>\n",
       "      <td>First Owner</td>\n",
       "      <td>3.0</td>\n",
       "      <td>150.0</td>\n",
       "      <td>Yamaha</td>\n",
       "    </tr>\n",
       "    <tr>\n",
       "      <th>...</th>\n",
       "      <td>...</td>\n",
       "      <td>...</td>\n",
       "      <td>...</td>\n",
       "      <td>...</td>\n",
       "      <td>...</td>\n",
       "      <td>...</td>\n",
       "      <td>...</td>\n",
       "      <td>...</td>\n",
       "    </tr>\n",
       "    <tr>\n",
       "      <th>9362</th>\n",
       "      <td>Hero Hunk Rear Disc 150cc</td>\n",
       "      <td>25000.0</td>\n",
       "      <td>Delhi</td>\n",
       "      <td>48587.0</td>\n",
       "      <td>First Owner</td>\n",
       "      <td>8.0</td>\n",
       "      <td>150.0</td>\n",
       "      <td>Hero</td>\n",
       "    </tr>\n",
       "    <tr>\n",
       "      <th>9369</th>\n",
       "      <td>Bajaj Avenger 220cc</td>\n",
       "      <td>35000.0</td>\n",
       "      <td>Bangalore</td>\n",
       "      <td>60000.0</td>\n",
       "      <td>First Owner</td>\n",
       "      <td>9.0</td>\n",
       "      <td>220.0</td>\n",
       "      <td>Bajaj</td>\n",
       "    </tr>\n",
       "    <tr>\n",
       "      <th>9370</th>\n",
       "      <td>Harley-Davidson Street 750 ABS</td>\n",
       "      <td>450000.0</td>\n",
       "      <td>Jodhpur</td>\n",
       "      <td>3430.0</td>\n",
       "      <td>First Owner</td>\n",
       "      <td>4.0</td>\n",
       "      <td>750.0</td>\n",
       "      <td>Harley-Davidson</td>\n",
       "    </tr>\n",
       "    <tr>\n",
       "      <th>9371</th>\n",
       "      <td>Bajaj Dominar 400 ABS</td>\n",
       "      <td>139000.0</td>\n",
       "      <td>Hyderabad</td>\n",
       "      <td>21300.0</td>\n",
       "      <td>First Owner</td>\n",
       "      <td>4.0</td>\n",
       "      <td>400.0</td>\n",
       "      <td>Bajaj</td>\n",
       "    </tr>\n",
       "    <tr>\n",
       "      <th>9372</th>\n",
       "      <td>Bajaj Avenger Street 220</td>\n",
       "      <td>80000.0</td>\n",
       "      <td>Hyderabad</td>\n",
       "      <td>7127.0</td>\n",
       "      <td>First Owner</td>\n",
       "      <td>5.0</td>\n",
       "      <td>220.0</td>\n",
       "      <td>Bajaj</td>\n",
       "    </tr>\n",
       "  </tbody>\n",
       "</table>\n",
       "<p>7324 rows × 8 columns</p>\n",
       "</div>"
      ],
      "text/plain": [
       "                                 bike_name     price       city  km_driven  \\\n",
       "0       TVS Star City Plus Dual Tone 110cc   35000.0  Ahmedabad    17654.0   \n",
       "1              Royal Enfield Classic 350cc  119900.0      Delhi    11000.0   \n",
       "2                     Triumph Daytona 675R  600000.0      Delhi      110.0   \n",
       "3                     TVS Apache RTR 180cc   65000.0  Bangalore    16329.0   \n",
       "4     Yamaha FZ S V 2.0 150cc-Ltd. Edition   80000.0  Bangalore    10000.0   \n",
       "...                                    ...       ...        ...        ...   \n",
       "9362             Hero Hunk Rear Disc 150cc   25000.0      Delhi    48587.0   \n",
       "9369                   Bajaj Avenger 220cc   35000.0  Bangalore    60000.0   \n",
       "9370        Harley-Davidson Street 750 ABS  450000.0    Jodhpur     3430.0   \n",
       "9371                 Bajaj Dominar 400 ABS  139000.0  Hyderabad    21300.0   \n",
       "9372              Bajaj Avenger Street 220   80000.0  Hyderabad     7127.0   \n",
       "\n",
       "            owner  age  power            brand  \n",
       "0     First Owner  3.0  110.0              TVS  \n",
       "1     First Owner  4.0  350.0    Royal Enfield  \n",
       "2     First Owner  8.0  675.0          Triumph  \n",
       "3     First Owner  4.0  180.0              TVS  \n",
       "4     First Owner  3.0  150.0           Yamaha  \n",
       "...           ...  ...    ...              ...  \n",
       "9362  First Owner  8.0  150.0             Hero  \n",
       "9369  First Owner  9.0  220.0            Bajaj  \n",
       "9370  First Owner  4.0  750.0  Harley-Davidson  \n",
       "9371  First Owner  4.0  400.0            Bajaj  \n",
       "9372  First Owner  5.0  220.0            Bajaj  \n",
       "\n",
       "[7324 rows x 8 columns]"
      ]
     },
     "execution_count": 47,
     "metadata": {},
     "output_type": "execute_result"
    }
   ],
   "source": [
    "df"
   ]
  },
  {
   "cell_type": "code",
   "execution_count": 48,
   "metadata": {},
   "outputs": [
    {
     "data": {
      "text/plain": [
       "array(['TVS Star City Plus Dual Tone 110cc',\n",
       "       'Royal Enfield Classic 350cc', 'Triumph Daytona 675R',\n",
       "       'TVS Apache RTR 180cc', 'Yamaha FZ S V 2.0 150cc-Ltd. Edition',\n",
       "       'Yamaha FZs 150cc', 'Honda CB Hornet 160R  ABS DLX',\n",
       "       'Hero Splendor Plus Self Alloy 100cc',\n",
       "       'Royal Enfield Thunderbird X 350cc',\n",
       "       'Royal Enfield Classic Desert Storm 500cc',\n",
       "       'Yamaha YZF-R15 2.0 150cc', 'Yamaha FZ25 250cc',\n",
       "       'Bajaj Pulsar NS200', 'Bajaj Discover 100M', 'Bajaj Discover 125M',\n",
       "       'Bajaj Pulsar NS200 ABS', 'Bajaj Pulsar RS200 ABS',\n",
       "       'Suzuki Gixxer SF 150cc', 'Benelli 302R 300CC',\n",
       "       'Hero Splendor iSmart Plus IBS 110cc',\n",
       "       'Royal Enfield Classic Chrome 500cc', 'Yamaha FZ V 2.0 150cc',\n",
       "       'Hero Super Splendor 125cc', 'Honda CBF Stunner 125cc',\n",
       "       'Bajaj Pulsar 150cc', 'Honda X-Blade 160CC ABS',\n",
       "       'Bajaj Avenger 220cc', 'KTM RC 390cc', 'Honda CB Unicorn 150cc',\n",
       "       'KTM Duke 200cc', 'Honda CBR 150R 150cc',\n",
       "       'Royal Enfield Thunderbird X 500cc', 'KTM RC 200cc ABS',\n",
       "       'Royal Enfield Thunderbird 350cc',\n",
       "       'Royal Enfield Bullet Electra 350cc',\n",
       "       'Bajaj Avenger Street 220 ABS', 'Mahindra Centuro NXT 110cc',\n",
       "       'Hero Hunk 150cc', 'Suzuki Gixxer SF Fi 150cc SP ABS',\n",
       "       'Yamaha FZ 150cc', 'Royal Enfield\\u200e Bullet 350cc',\n",
       "       'TVS Apache RTR 160cc', 'Honda CB Shine 125cc',\n",
       "       'Benelli TNT 600i ABS', 'Honda Dream Yuga 110cc',\n",
       "       'Yamaha SZ 150cc', 'Suzuki Gixxer 150cc',\n",
       "       'Bajaj Avenger Cruise 220', 'Kawasaki Z900', 'Bajaj Pulsar 220cc',\n",
       "       'Hero CD Deluxe 100cc', 'Kawasaki Ninja 650cc',\n",
       "       'Bajaj Platina 125cc', 'Hero Karizma ZMR 223cc',\n",
       "       'Bajaj Pulsar 180cc', 'Yamaha FZ25 ABS 250cc',\n",
       "       'Bajaj CT 100 100cc', 'Royal Enfield Interceptor 650cc',\n",
       "       'KTM Duke 250cc', 'Royal Enfield Himalayan 410cc',\n",
       "       'Bajaj Pulsar 135LS', 'Bajaj Pulsar 220F', 'Yamaha FZ16 150cc',\n",
       "       'Ducati Scrambler 1100 Special', 'Triumph Street Triple 765',\n",
       "       'Bajaj V15 150cc', 'Suzuki Gixxer Fi 150cc ABS',\n",
       "       'Hero Splendor plus 100cc', 'KTM Duke 390cc', 'Honda CBR 250R',\n",
       "       'Bajaj Pulsar RS200', 'Benelli TNT 600i',\n",
       "       'Suzuki Gixxer 150cc SP Rear Disc', 'Yamaha FZ S V 2.0 150cc',\n",
       "       'Royal Enfield Classic 500cc', 'Hyosung GT650R',\n",
       "       'Yamaha YZF-R15 S 150cc', 'TVS Apache RTR 160 4V Disc',\n",
       "       'Benelli TNT 300', 'Honda CB ShineSP 125cc',\n",
       "       'Hero Passion Pro 100cc', 'Hero Splendor Plus 100cc',\n",
       "       'Yamaha YZF R6 600cc', 'Ducati 1299 Superleggera',\n",
       "       'Royal Enfield Electra 350cc', 'TVS Phoenix Disc 125cc',\n",
       "       'Harley-Davidson Street 750',\n",
       "       'Royal Enfield Himalayan 410cc Fi ABS', 'Bajaj Discover 150cc',\n",
       "       'Bajaj Avenger Street 220', 'Royal Enfield Standard 350cc',\n",
       "       'Honda CB Shine 125cc Disc', 'Honda CB Unicorn ABS 150cc',\n",
       "       'Yamaha YZF-R15 V3 150cc', 'Bajaj Pulsar NS 200',\n",
       "       'Bajaj Dominar 400', 'Honda X-Blade 160cc',\n",
       "       'Suzuki Hayabusa 1300cc', 'Ducati Monster 821 Dark',\n",
       "       'Yamaha FZ S V 2.0 150cc Rear Disc',\n",
       "       'Suzuki Gixxer SF 150cc Special MOTOGP Edition Rear Disc',\n",
       "       'KTM RC 200cc', 'Bajaj Discover 125ST',\n",
       "       'Hero Splendor Plus Kick Alloy 100cc', 'Hero Karizma 223cc',\n",
       "       'Hero Splendor 100cc', 'Ducati 1198 SP 1198cc',\n",
       "       'Royal Enfield Bullet 500cc', 'Yamaha Fazer 150cc',\n",
       "       'Yamaha Gladiator 125cc', 'Hero Karizma R 223cc',\n",
       "       'Harley-Davidson Iron 883', 'TVS Apache RTR 200 4V Fi',\n",
       "       'TVS Apache RTR 160 4V DISC ABS BS6', 'Bajaj Dominar 400 ABS',\n",
       "       'Royal Enfield Classic Gunmetal Grey 350cc',\n",
       "       'Hero HF Deluxe i3s iBS 100cc', 'Suzuki Gixxer SF Fi 150cc ABS',\n",
       "       'Hero Splendor iSmart 110cc', 'Bajaj Platina 100cc',\n",
       "       'TVS Apache RTR 200 4V FI', 'Royal Enfield Bullet Twinspark 350cc',\n",
       "       'TVS Star City 110cc', 'Bajaj Platina  Alloy ES-100cc',\n",
       "       'Ducati Panigale 959',\n",
       "       'Royal Enfield Classic 350cc-Redditch Edition', 'TVS Sport 100cc',\n",
       "       'Bajaj Pulsar AS200',\n",
       "       'Royal Enfield Classic Desert Storm 500cc Dual Disc',\n",
       "       'Honda Livo 110cc', 'Suzuki Gixxer SF 150cc SP Rear Disc',\n",
       "       'Yamaha SZ-RR 150cc', 'Royal Enfield Thunderbird 500cc',\n",
       "       'Royal Enfield Bullet Electra Twinspark 350cc',\n",
       "       'Bajaj Discover 150F Disc',\n",
       "       'Yamaha Saluto 125cc Disc Special Edition',\n",
       "       'Triumph Street Triple ABS 675cc', 'Honda CBR 250R ABS',\n",
       "       'Hyosung Aquila GV250', 'Jawa Forty Two 295CC', 'Bajaj V12 125cc',\n",
       "       'Bajaj V12 125cc Disc', 'Yamaha Fazer 25 250cc',\n",
       "       'Hero Xpulse 200T', 'Honda CB Hornet 160R CBS',\n",
       "       'Suzuki Gixxer 150cc SP ABS', 'Hero Passion Xpro 110cc',\n",
       "       'Yamaha YZF-R3 320cc ABS', 'Royal Enfield Bullet 350 cc',\n",
       "       'Hero HF Deluxe 100cc', 'Honda CB Twister 110cc',\n",
       "       'Bajaj Pulsar 125cc Disc CBS', 'Honda CB Shine 125cc Drum BS6',\n",
       "       'Honda CB Hornet 160R STD', 'Honda Dream Neo 110cc', 'BMW G 310 R',\n",
       "       'Bajaj Pulsar AS150', 'Kawasaki Ninja 250cc', 'Benelli TNT 899',\n",
       "       'Indian Chief Classic 1800cc', 'Hero Achiever 150cc',\n",
       "       'TVS Apache 150cc', 'Kawasaki ER-6n 650cc',\n",
       "       'Hero HF Deluxe Self 100cc', 'Bajaj Pulsar NS160',\n",
       "       'Royal Enfield Classic Gunmetal Grey 350cc ABS',\n",
       "       'Suzuki Intruder 150cc', 'TVS Apache RTR 200 4V ABS Race Edition',\n",
       "       'Bajaj CT 100 B', 'Hero Passion Pro 110cc Drum',\n",
       "       'Yamaha YZF-R15 150cc', 'TVS Apache RTR 160 4V DISC ABS',\n",
       "       'Mahindra Mojo 300cc', 'TVS Apache RTR 200 4V Carburetor',\n",
       "       'Hero Ignitor Disc 125cc', 'Bajaj Avenger Street 150',\n",
       "       'Royal Enfield Continental GT 535cc', 'Hero Glamour Disc 125cc',\n",
       "       'Suzuki Gixxer SF Fi 150cc', 'Hero HF Dawn 100cc',\n",
       "       'Suzuki Slingshot Plus 125cc', 'Mahindra Centuro Rockstar 110cc',\n",
       "       'Mahindra Centuro 110cc',\n",
       "       'Honda CB Hornet 160R Special Edition STD',\n",
       "       'Harley-Davidson Street Rod XG750A ABS',\n",
       "       'Hero Splendor Plus IBS i3S 100cc', 'Bajaj Discover 135cc',\n",
       "       'Bajaj Discover 125cc', 'TVS Apache RTR 160 4V DRUM ABS',\n",
       "       'Honda CB Unicorn 160 CBS', 'KTM Duke 125cc', 'Bajaj Boxer BM150',\n",
       "       'Hero Glamour 125cc', 'Bajaj Discover 100cc',\n",
       "       'Bajaj Avenger Street 180', 'TVS Star City Plus 110cc',\n",
       "       'Honda CB Trigger 150cc', 'Kawasaki Ninja 650 KRT Edition',\n",
       "       'Bajaj Platina 100cc ComforTec Alloy', 'Benelli TNT R 1130cc',\n",
       "       'Honda CB Unicorn Dazzler 150cc', 'Benelli TNT 600 GT',\n",
       "       'Hyosung GT250R', 'Yamaha YZF-R1 1000cc', 'Hero Xtreme 200R',\n",
       "       'Ducati Diavel 1200cc', 'Triumph Speed Triple 1050cc',\n",
       "       'Indian Scout Bobber 1130cc', 'Bajaj V15 150cc POWER UP',\n",
       "       'Jawa Standard 295CC', 'Yamaha SZR 150cc', 'TVS Star Sport 100cc',\n",
       "       'Hyosung Aquila 250 250cc', 'Kawasaki Z650', 'Hero CD Dawn 100cc',\n",
       "       'TVS Apache RTR 200 4V ABS', 'Hero Passion 100cc',\n",
       "       'Suzuki Intruder SP 150cc', 'Yamaha YZF-R3 320cc',\n",
       "       'TVS Apache RR310', 'Hero Passion Plus 100cc',\n",
       "       'Royal Enfield Classic 350cc-Redditch Edition Dual Disc',\n",
       "       'Hero CBZ 150cc', 'Yamaha FZS FI 150cc',\n",
       "       'Honda CB Unicorn 160 STD', 'Suzuki GS 150 R 150cc',\n",
       "       'Royal Enfield Machismo 500cc', 'Hero CBZ Xtreme 150cc',\n",
       "       'Yamaha SZ RR V 2.0 150cc', 'TVS Apache RTR 180cc ABS',\n",
       "       'Hero Honda Splendor 100cc', 'Honda CBR 150R Deluxe',\n",
       "       'Hero Ignitor 125cc', 'Bajaj Pulsar 200cc', 'Kawasaki Ninja 300cc',\n",
       "       'Kawasaki Ninja 300 ABS', 'Bajaj Pulsar 150cc Rear Disc',\n",
       "       'Hero Splendor NXG 100cc', 'Hero Achiever Disc 150cc',\n",
       "       'TVS Apache RTR 200 4V Carburetor Race Edition 2.0',\n",
       "       'Royal Enfield Thunderbird 350cc ABS',\n",
       "       'Harley-Davidson Street 750 ABS',\n",
       "       'Bajaj Pulsar 150cc Rear Disc ABS', 'KTM Duke 250cc ABS',\n",
       "       'Bajaj Pulsar 200 NS 200cc', 'Mahindra Mojo Tourer Edition 300cc',\n",
       "       'Hero Passion Pro i3S Alloy 100cc',\n",
       "       'Royal Enfield Thunderbird X 350cc ABS', 'Hero Xtreme 150cc',\n",
       "       'Bajaj Boxer CT100', 'Royal Enfield Bullet 350cc',\n",
       "       'Royal Enfield Standard 500cc', 'Hyosung Aquila Pro GV650',\n",
       "       'Royal Enfield Classic 500cc Dual Disc', 'Suzuki V-Strom 1000cc',\n",
       "       'KTM RC 125CC', 'Suzuki Gixxer SF 250cc ABS',\n",
       "       'Harley-Davidson 1200 Custom', 'Honda Dream Yuga 110cc CBS',\n",
       "       'Hero Splendor Pro 100cc', 'Suzuki Hayate 110cc',\n",
       "       'Yamaha Fazer FI V 2.0 150cc', 'TVS Victor 110cc Disc',\n",
       "       'Royal Enfield Classic Stealth Black 500cc',\n",
       "       'TVS Apache RTR 200 4V Dual Channel ABS BS6',\n",
       "       'Honda CB Shine 125cc CBS', 'Honda Livo Disc 110cc',\n",
       "       'Bajaj Discover 110cc', 'Suzuki Gixxer SF 150cc ABS',\n",
       "       'Hero CD 100SS', 'Hero Honda Splendor Plus 100cc',\n",
       "       'Bajaj Discover 100T', 'Hero HF Deluxe self Alloy 100cc',\n",
       "       'Benelli TNT 25 250cc', 'Yamaha MT-15 150cc',\n",
       "       'Yamaha FZS FI 150cc Rear Disc',\n",
       "       'TVS Apache RTR 200 4V Carburetor Pirelli Tyres',\n",
       "       'Triumph Tiger 800 XRX', 'Ducati XDiavel 1262CC S',\n",
       "       'TVS Suzuki Shogun 110cc', 'Bajaj Discover 125cc Disc',\n",
       "       'Triumph Thunderbird Storm 1700cc', 'Suzuki GSX-S750',\n",
       "       'TVS Flame 125cc', 'Triumph Tiger 800 XCA',\n",
       "       'Royal Enfield Machismo 350cc', 'TVS Victor 110cc',\n",
       "       'Honda CBR650R', 'Hero Xpulse 200cc FI',\n",
       "       'Hero HF Deluxe i3s 100cc',\n",
       "       'TVS Apache RTR 160cc Matt Red Rear Disc', 'Rajdoot GTX 175cc',\n",
       "       'Hero Xtreme 200R ABS', 'Honda CB Unicorn 160',\n",
       "       'Honda CB Hornet 160R Special Edition-CBS',\n",
       "       'TVS Apache RTR 200 4V Carburetor Pirelli Tyres Race Edition 2.0',\n",
       "       'TVS Apache RR310 Slipper Clutch', 'Mahindra Mojo UT300',\n",
       "       'Royal Enfield Bullet Twinspark Kickstart 350cc',\n",
       "       'Bajaj Pulsar  180cc', 'Honda CD 110 Dream',\n",
       "       'Royal Enfield Bullet Twinspark 500cc',\n",
       "       'Hero Xtreme Sports Rear Disc 150cc', 'Bajaj CT 100 ES Alloy',\n",
       "       'Bajaj  Pulsar 180cc', 'Bajaj Discover 150F', 'Hyosung GT 650N',\n",
       "       'Triumph Street Twin 900cc', 'Bajaj CT 100 Alloy',\n",
       "       'TVS Apache RTR 160 4V Drum',\n",
       "       'Yamaha SZ RR V 2.0 150cc Limited Edition',\n",
       "       'Yamaha YZF-R1M 1000cc', 'Hero Glamour i3s 125cc',\n",
       "       'Harley-Davidson Roadster XL 1200CX', 'Triumph Tiger 800 XR',\n",
       "       'KTM Duke 200cc ABS', 'Honda CBR1000RR Fireblade',\n",
       "       'Honda SP125 Disc BS6', 'Bajaj Platina 110 H Gear Disc',\n",
       "       'Hero Splendor Plus 100 cc', 'Honda CBR 250R Repsol',\n",
       "       'Triumph Bonneville T100 865cc', 'Yamaha RX135 135cc 4-Speed',\n",
       "       'Benelli 302R', 'Hero Splendor iSmart 100cc',\n",
       "       'Royal Enfield Classic 350cc Dual Disc', 'Honda CB 1000R',\n",
       "       'Honda CBR 600RR', 'Ducati Monster 797', 'Ducati Monster 1200',\n",
       "       'Suzuki GSX-R 1000cc', 'Ducati Monster 796 Corse Stripe',\n",
       "       'TVS Victor 110cc Disc SBT', 'Honda CB ShineSP 125cc CBS Disc',\n",
       "       'Kawasaki Z250', 'Royal Enfield Classic Squadron Blue 500cc',\n",
       "       'Suzuki Gixxer 150cc Dual Tone Rear Disc', 'TVS Apache RTR 200 4V',\n",
       "       'Honda Livo Disc 110cc CBS', 'TVS Apache RTR 160cc Rear Disc',\n",
       "       'Yamaha FZ S V 3.0 150cc', 'BMW G 310 GS',\n",
       "       'Royal Enfield Classic 350cc Signals Edition',\n",
       "       'Royal Enfield Bullet Electra Twinspark 350cc Double Disc',\n",
       "       'Honda CB Hornet 160R 160cc STD', 'Suzuki Intruder 150cc FI',\n",
       "       'Bajaj Platina 110 CBS', 'Hero Xtreme Sports 150cc',\n",
       "       'Bajaj Avenger Cruise 220 ABS',\n",
       "       'Honda CB Hornet 160R 160cc STD SP', 'Kawasaki Versys 650cc',\n",
       "       'Ducati Multistrada 1200 Enduro',\n",
       "       'Hero Passion Pro i3S Alloy 100cc IBS', 'Hero Xtreme Sports 149cc',\n",
       "       'TVS Apache RTR 160 4V Carburetor', 'Triumph Thruxton R 1200cc',\n",
       "       'Honda CD 110 Dream DX', 'BMW S 1000 XR Pro',\n",
       "       'Honda CB ShineSP 125cc Disc', 'Hero HF Deluxe Eco 100cc',\n",
       "       'Bajaj XCD 125', 'Honda CB ShineSP 125cc CBS',\n",
       "       'Bajaj CT110 ES Alloy', 'TVS Apache RTR 160 4V FI',\n",
       "       'Triumph Bonneville T100 900cc', 'Bajaj Avenger Street 160 ABS',\n",
       "       'TVS Apache RTR 160cc White Race Edition Rear Disc',\n",
       "       'Royal Enfield Himalayan 410cc Sleet Edition',\n",
       "       'Hero Splendor+ 100cc', 'Suzuki Gixxer SF 150cc Rear Disc',\n",
       "       'TVS Apache RTR 160 4V Carburetor With Rear Disc',\n",
       "       'Suzuki Heat 125cc', 'Honda CB Hornet 160R  ABS STD',\n",
       "       'Yamaha Fazer25 250cc', 'Bajaj Pulsar NS160 Rear Disc',\n",
       "       'Honda CB Hornet 160R', 'Bajaj Discover150 150cc',\n",
       "       'Bajaj Discover 125T', 'Bajaj Pulsar 150cc Classic',\n",
       "       'Yamaha Saluto 125cc', 'Hero Passion XPRO 110 cc',\n",
       "       'Yamaha FZS FI 150cc Special Edition', 'TVS Fiero 150cc',\n",
       "       'Mahindra Mojo XT300', 'Bajaj Platina Alloy ES 100cc',\n",
       "       'TVS Jive 110cc', 'Bajaj Boxer AT100', 'Bajaj Discover 150S Disc',\n",
       "       'TVS Radeon 110cc Drum SBT', 'Honda CD 110 Dream Self',\n",
       "       'Suzuki Gixxer 150cc ABS', 'Suzuki Hayate EP 110cc',\n",
       "       'Yamaha SZX 150cc', 'Hero CBZ Star 160cc',\n",
       "       'Hero Passion PRO  100 cc', 'Hero Passion Pro i3S Disc 100cc',\n",
       "       'Bajaj Avenger 200cc', 'Hero Honda Ambition 135cc',\n",
       "       'Bajaj Pulsar 135LS 135cc', 'Bajaj CT 100 KS Alloy',\n",
       "       'BMW S 1000 RR Pro', 'Kawasaki Versys 1000',\n",
       "       'Honda CB Unicorn 150 150cc', 'Kawasaki Z800',\n",
       "       'Hero Glamour PGM Fi 125cc', 'Royal Enfield Continental GT 650cc',\n",
       "       'LML Freedom DX 110cc', 'Harley-Davidson XG750 750cc',\n",
       "       'Yezdi Classic 250cc', 'Hero Passion Pro 100cc Drum Alloy',\n",
       "       'TVS Star 100cc', 'Bajaj XCD 135', 'Bajaj Avenger 150cc',\n",
       "       'Hero HF Deluxe 100 cc', 'Yamaha Fazer FI 150cc',\n",
       "       'TVS Apache RTR 200 4V FI Race Edition 2.0',\n",
       "       'Yamaha FZ V 3.0 150cc', 'Hero Super Splendor 125cc i3s',\n",
       "       'Yamaha SS 125 125cc',\n",
       "       'Suzuki Gixxer SF 150cc Special MOTOGP Edition',\n",
       "       'TVS Victor GX 110cc', 'TVS Apache RTR 200 4V Race Edition 2.0',\n",
       "       'Hero Passion Pro TR 100cc', 'Honda CBR 650 F',\n",
       "       'Yamaha FZ S V 3.0 150cc ABS Dark Knight BS VI',\n",
       "       'Hero HF Deluxe Self Spoke 100cc', 'TVS Sports plus ES 100cc',\n",
       "       'BMW F750 GS 850cc',\n",
       "       'Royal Enfield Bullet Electra Twinspark 350CC ABS',\n",
       "       'Hero Glamour Fi 125cc', 'Royal Enfield Himalayan 410cc Sleet ABS',\n",
       "       'Bajaj Pulsar NS 200cc', 'Yamaha YBR 110cc', 'Bajaj CT 100 Spoke',\n",
       "       'Yamaha Crux 110cc', 'Yamaha Saluto RX 110cc',\n",
       "       'MV Agusta Brutale 1090', 'Royal Enfield Himalayan 410cc Fi',\n",
       "       'MV Agusta F3 800cc', 'Kawasaki Ninja 400', 'Benelli TRK 502X',\n",
       "       'TVS Phoenix 125cc', 'Harley-Davidson Fat Bob 107 Ci',\n",
       "       'TVS Apache RTR 160cc White Race Edition',\n",
       "       'Ideal Jawa Yezdi CL-II 250 cc', 'Hero Splendor Pro Classic 100cc',\n",
       "       'Yamaha FZ Fi Version 2.0 150cc', 'Yamaha SZS 150cc',\n",
       "       'Triumph Daytona 675 ABS',\n",
       "       'Royal Enfield Classic Chrome 500cc ABS',\n",
       "       'Harley-Davidson Sportster 883', 'Suzuki Zeus 125cc',\n",
       "       'Yamaha Saluto 125cc-Special Edition', 'Bajaj Avenger 180cc',\n",
       "       'Bajaj Pulsar 150cc Neon', 'Kawasaki Z1000',\n",
       "       'Hero CBZ Xtreme 150 cc', 'Kawasaki Vulcan S 650cc',\n",
       "       'Yamaha RX-Z 135cc', 'Yamaha Libero G5 110cc',\n",
       "       'Bajaj Pulsar RS200  ABS-200cc', 'Bajaj Discover150S 150cc',\n",
       "       'Hero i Smart 125cc', 'Hero Splendor Plus  100 cc',\n",
       "       'Hero Splendor Plus 100 CC', 'Hero Karizma 223 cc',\n",
       "       'TVS MAX 4R 110cc', 'Mahindra Pantero 110cc',\n",
       "       'Hero Ambition 135cc', 'Honda CBR 250R Repsol ABS',\n",
       "       'Hero Hunk Rear Disc 150cc'], dtype=object)"
      ]
     },
     "execution_count": 48,
     "metadata": {},
     "output_type": "execute_result"
    }
   ],
   "source": [
    "df['bike_name'].unique()"
   ]
  },
  {
   "cell_type": "code",
   "execution_count": 49,
   "metadata": {},
   "outputs": [
    {
     "data": {
      "text/plain": [
       "array([ 35000., 119900., 600000., ...,  65450.,  11400.,  61483.])"
      ]
     },
     "execution_count": 49,
     "metadata": {},
     "output_type": "execute_result"
    }
   ],
   "source": [
    "df['price'].unique()"
   ]
  },
  {
   "cell_type": "code",
   "execution_count": 50,
   "metadata": {},
   "outputs": [
    {
     "data": {
      "text/plain": [
       "array(['Ahmedabad', 'Delhi', 'Bangalore', 'Mumbai', 'Kalyan', 'Faridabad',\n",
       "       'Mettur', 'Hyderabad', 'Kaithal', 'Gurgaon', 'Pune', 'Noida',\n",
       "       'Nashik', 'Kochi', 'Allahabad', 'Samastipur', 'Nadiad', 'Lucknow',\n",
       "       'Jaipur', 'Karnal', 'Gorakhpur', 'Vidisha', 'Hosur', 'Bagalkot',\n",
       "       'Baripara', 'Agra', 'Dharwad', 'Vadodara', 'Jalandhar', 'Surat',\n",
       "       'Chennai', 'Navi Mumbai', 'Gandhidham', 'Visakhapatnam',\n",
       "       'Thrissur', 'Kolkata', 'Ernakulam', 'Barasat', 'Ghaziabad',\n",
       "       'Bhubaneshwar', 'Amritsar', 'Bhopal', 'Hamirpur(hp)', 'Kottayam',\n",
       "       'Arrah', 'Patiala', 'Ranga Reddy', 'Mandi', 'Ludhiana', 'Mandya',\n",
       "       'Siliguri', 'Aurangabad', 'Kanpur', 'Bhilwara', 'Meerut', 'Rewari',\n",
       "       'Ahmednagar', 'Wardha', 'Chandigarh', 'Ranchi', 'Panvel', 'Thane',\n",
       "       'Jabalpur', 'Kota', 'Rohtak', 'Rajkot', 'Varanasi', '24 Pargana',\n",
       "       'Banka', 'Nagpur', 'Banki', 'Pali', 'Chhatarpur', 'Katihar',\n",
       "       'Mohali', 'Rudrapur', 'Coimbatore', 'Jajpur', 'Mysore', 'Adoni',\n",
       "       'Bikaner', 'Malout', 'Jammu', 'Rajnandgaon', 'Unnao', 'Godhara',\n",
       "       'Kolhapur', 'Satara', 'Siwan', 'Dadra & Nagar Haveli', 'Bhiwani',\n",
       "       'Koppal', 'Nizamabad', 'Madurai', 'Ujjain', 'Palakkad',\n",
       "       'Tiruvallur', 'Panchkula', 'Nanjangud', 'Jhansi', 'Sonipat',\n",
       "       'Puttur', 'Hoshiarpur', 'Gohana', 'Gautam Buddha Nagar',\n",
       "       'Durgapur', 'Palwal', 'Chatrapur', 'Howrah', 'Jind', 'Hubli',\n",
       "       'Panipat', 'Bharatpur', 'Vellore', 'Ambala', 'Guwahati', 'Gangtok',\n",
       "       'Rajahmundry', 'Tiruchirappalli', 'Belgaum', 'Balaghat', 'Jatani',\n",
       "       'Asansol', 'Bilaspur', 'Thanjavur', 'Raigarh(mh)', 'Mandi Dabwali',\n",
       "       'Basti', 'Bolpur', 'Aligarh', 'Balrampur', 'Ratnagiri', 'Muktsar',\n",
       "       'Baran', 'Haldwani', 'Thiruvananthapuram', 'Indore', 'Buxar',\n",
       "       'Chaksu', 'Haridwar', 'Bharuch', 'Muvattupuzha', 'Patna',\n",
       "       'Simdega', 'Singhbhum', 'Bardhaman', 'Pathankot', 'Kharar',\n",
       "       'Silchar', 'Jhalawar', 'Roorkee', 'Saharanpur', 'Solapur',\n",
       "       'Gwalior', 'Alibag', 'Katni', 'Khedbrahma', 'Valsad', 'Satna',\n",
       "       'Hooghly', 'Gurdaspur', 'Dadri', 'Amravati', 'Durg', 'Mehsana',\n",
       "       'Lansdowne', 'Cuttack', 'Jaisalmer', 'Hanumangarh', 'Dungarpur',\n",
       "       'Sri Ganganagar', 'Margao', 'Chinsurah', 'Bhatinda', 'Sibsagar',\n",
       "       'Khalilabad', 'Dehradun', 'Anand', 'Sambalpur', 'Ankleshwar',\n",
       "       'Purnia', 'Tiruverkadu', 'Bahadurgarh', 'Udaipur', 'Jodhpur',\n",
       "       'Sheikhpura', 'Pondicherry', 'Sirsa', 'Godavari', 'Ajmer',\n",
       "       'Moradabad', 'Raipur', 'Navsari', 'Herbertpur', 'Jamshedpur',\n",
       "       'Ramanagar', 'Berhampur', 'Vijayawada', 'Murad Nagar',\n",
       "       'Chandrapur', 'Jamtara', 'Uppidamangalam', 'Nalagarh', 'Una',\n",
       "       'Chakan', 'Idukki', 'Shivpuri', 'Arkalgud', 'Bidar', 'Rupnagar',\n",
       "       'Deoghar', 'Kanchipuram', 'Vapi', 'Medak', 'Kasargode', 'Dhanbad',\n",
       "       'Dakshina Kannada', 'Ganaur', 'Jamalpur', 'Amraoti', 'Mangalore',\n",
       "       'Deolali', 'Gandhinagar', 'Chitradurga', 'Chinchwad', 'Jhajjar',\n",
       "       'Jagdalpur', 'Ranoli', 'Raiwala', 'Guntur', 'Badarpur', 'Adalaj',\n",
       "       'Alipore', 'Bhawani Mandi', 'Mughalsarai', 'Kollam', 'Farukhabad',\n",
       "       'Thiruvallur', 'Udaipurwati', 'Rasra', 'Latur', 'Krishna',\n",
       "       'Gangaikondan', 'Warangal', 'Uluberia', 'Poonamallee', 'Nagaon',\n",
       "       'Hissar', 'Kanyakumari', 'Morbi', 'Bankura', 'Virar', 'Tikamgarh',\n",
       "       'Sultanpur', 'Tirunelveli', 'Bihar Shariff', 'Goa-panaji',\n",
       "       'Ganganagar', 'Kolar', 'Bahadurpur', 'Batala', 'Budhlada',\n",
       "       'Muzaffarnagar', 'Adyar', 'Calicut', 'Raigarh', 'Sonepat',\n",
       "       'Chikkaballapur', 'Kasba', 'Bulandshahr', 'Burdwan', 'Anjar',\n",
       "       'Marandahalli', 'Badaun', 'Namakkal', 'Puri', 'Alwar',\n",
       "       'Surendranagar', 'Khandela', 'Kullu', 'Mohammadabad', 'Sangareddy',\n",
       "       'Ghazipur', 'Shimla', 'Azamgarh', 'Chenani', 'Kanpur Nagar',\n",
       "       'Trivandrum', 'Secunderabad', 'Kurukshetra', 'Dhariawad',\n",
       "       'Bargarh', 'Gadarpur', 'Chikamaglur', 'Karim Nagar', 'Kotdwar',\n",
       "       'Jalaun', 'Parola', 'Bareilly', 'Salem', 'Indi', 'Muzaffarpur',\n",
       "       'Nayagarh', 'Jalgaon', 'Ambikapur', 'Udupi', 'Junagadh',\n",
       "       'Dibrugarh', 'Faridkot', 'Naraingarh', 'Karwar',\n",
       "       'Sant Kabir Nagar', 'Viramgam', 'Manali', 'Gadwal', 'Honavar',\n",
       "       'Mathura', 'Khandwa', 'Solan', 'Sitapur', 'Betul', 'Anantapur',\n",
       "       'Sholapur', 'Pinjore', 'Qadian', 'Sangrur', 'Jorhat', 'Palanpur',\n",
       "       'Narnaul', 'Palamu', 'Falakata', 'Ferozepur', 'Porbandar',\n",
       "       'Dwarka', 'Rangpo', 'Cannanore (kannur)', 'Churu', 'Baghpat',\n",
       "       'Jhumri Tilaiya', 'Naihati', 'Virudhunagar', 'Dharmavaram',\n",
       "       'Darbhanga', 'Nawanshahr', 'Sangli', 'Suri', 'Yamuna Nagar',\n",
       "       'Vasai', 'Aluva', 'Sirsi', 'Bijapur', 'Krishnagar', 'Bhiwadi',\n",
       "       'Bellary', 'Erode', 'Aquem', 'Nellore', 'Udhampur', 'Dhamtari',\n",
       "       'Vandalur', 'Motihari', 'Dharwar', 'Shimoga', 'Jhunjhunu',\n",
       "       'Bijnor', 'Yemmiganur', 'Bokaro', 'Kurnool', 'Srinagar', 'Ranip',\n",
       "       'Davanagere', 'Rajouri', 'Begusarai', 'Goregaon', 'Bally',\n",
       "       'Kachchh', 'Nagaur', 'Anekal', 'Mansa', 'Nanded', 'Dharamasala',\n",
       "       'Chhindwara', 'Jamnagar', 'Zirakpur', 'Abohar', 'Barabanki',\n",
       "       'Nabha', 'Kadapa', 'Perumbavoor', 'Sundargarh', 'Nazira',\n",
       "       'Pratapgarh', 'Dharmapuri', 'Thangadh', 'Lonavala', 'Vizianagaram',\n",
       "       'Kathua', 'Deesa', 'Tiruppur', 'Gadchiroli', 'Gangaghat', 'Bhuj',\n",
       "       'Vastral', 'Phagwara', 'Kheda', 'Swaimadhopur', 'Kharagpur',\n",
       "       'Jobner', 'Gondia', 'Bundi', 'Hamirpur', 'Dongargaon',\n",
       "       'Mubarakpur', 'Tumkur', 'Sanand', 'Kartarpur', 'Bhavnagar',\n",
       "       'Farrukhabad', 'Kadi', 'Seppa', 'Challakere', 'Dhubri', 'Deoria',\n",
       "       'Akot', 'Alappuzha', 'Bhiwandi', 'Shillong', 'Osmanabad', 'Kendua',\n",
       "       'Uran', 'Jaunpur', 'Hisar', 'Bodhan', 'Bhubaneswar', 'Raiganj',\n",
       "       'Bhilai Nagar', 'Baloda', 'Anantnag', 'Berhampore', 'Silvasa',\n",
       "       'Hospet', 'Palai', 'Sidhi'], dtype=object)"
      ]
     },
     "execution_count": 50,
     "metadata": {},
     "output_type": "execute_result"
    }
   ],
   "source": [
    "df['city'].unique()"
   ]
  },
  {
   "cell_type": "code",
   "execution_count": 51,
   "metadata": {},
   "outputs": [
    {
     "data": {
      "text/plain": [
       "array(['First Owner', 'Second Owner', 'Third Owner',\n",
       "       'Fourth Owner Or More'], dtype=object)"
      ]
     },
     "execution_count": 51,
     "metadata": {},
     "output_type": "execute_result"
    }
   ],
   "source": [
    "df['owner'].unique()"
   ]
  },
  {
   "cell_type": "code",
   "execution_count": 52,
   "metadata": {},
   "outputs": [
    {
     "data": {
      "text/plain": [
       "array(['TVS', 'Royal Enfield', 'Triumph', 'Yamaha', 'Honda', 'Hero',\n",
       "       'Bajaj', 'Suzuki', 'Benelli', 'KTM', 'Mahindra', 'Kawasaki',\n",
       "       'Ducati', 'Hyosung', 'Harley-Davidson', 'Jawa', 'BMW', 'Indian',\n",
       "       'Rajdoot', 'LML', 'Yezdi', 'MV', 'Ideal'], dtype=object)"
      ]
     },
     "execution_count": 52,
     "metadata": {},
     "output_type": "execute_result"
    }
   ],
   "source": [
    "df['brand'].unique()"
   ]
  },
  {
   "cell_type": "code",
   "execution_count": 53,
   "metadata": {},
   "outputs": [
    {
     "data": {
      "text/plain": [
       "array(['Ahmedabad', 'Delhi', 'Bangalore', 'Mumbai', 'Kalyan', 'Faridabad',\n",
       "       'Mettur', 'Hyderabad', 'Kaithal', 'Gurgaon', 'Pune', 'Noida',\n",
       "       'Nashik', 'Kochi', 'Allahabad', 'Samastipur', 'Nadiad', 'Lucknow',\n",
       "       'Jaipur', 'Karnal', 'Gorakhpur', 'Vidisha', 'Hosur', 'Bagalkot',\n",
       "       'Baripara', 'Agra', 'Dharwad', 'Vadodara', 'Jalandhar', 'Surat',\n",
       "       'Chennai', 'Navi Mumbai', 'Gandhidham', 'Visakhapatnam',\n",
       "       'Thrissur', 'Kolkata', 'Ernakulam', 'Barasat', 'Ghaziabad',\n",
       "       'Bhubaneshwar', 'Amritsar', 'Bhopal', 'Hamirpur(hp)', 'Kottayam',\n",
       "       'Arrah', 'Patiala', 'Ranga Reddy', 'Mandi', 'Ludhiana', 'Mandya',\n",
       "       'Siliguri', 'Aurangabad', 'Kanpur', 'Bhilwara', 'Meerut', 'Rewari',\n",
       "       'Ahmednagar', 'Wardha', 'Chandigarh', 'Ranchi', 'Panvel', 'Thane',\n",
       "       'Jabalpur', 'Kota', 'Rohtak', 'Rajkot', 'Varanasi', '24 Pargana',\n",
       "       'Banka', 'Nagpur', 'Banki', 'Pali', 'Chhatarpur', 'Katihar',\n",
       "       'Mohali', 'Rudrapur', 'Coimbatore', 'Jajpur', 'Mysore', 'Adoni',\n",
       "       'Bikaner', 'Malout', 'Jammu', 'Rajnandgaon', 'Unnao', 'Godhara',\n",
       "       'Kolhapur', 'Satara', 'Siwan', 'Dadra & Nagar Haveli', 'Bhiwani',\n",
       "       'Koppal', 'Nizamabad', 'Madurai', 'Ujjain', 'Palakkad',\n",
       "       'Tiruvallur', 'Panchkula', 'Nanjangud', 'Jhansi', 'Sonipat',\n",
       "       'Puttur', 'Hoshiarpur', 'Gohana', 'Gautam Buddha Nagar',\n",
       "       'Durgapur', 'Palwal', 'Chatrapur', 'Howrah', 'Jind', 'Hubli',\n",
       "       'Panipat', 'Bharatpur', 'Vellore', 'Ambala', 'Guwahati', 'Gangtok',\n",
       "       'Rajahmundry', 'Tiruchirappalli', 'Belgaum', 'Balaghat', 'Jatani',\n",
       "       'Asansol', 'Bilaspur', 'Thanjavur', 'Raigarh(mh)', 'Mandi Dabwali',\n",
       "       'Basti', 'Bolpur', 'Aligarh', 'Balrampur', 'Ratnagiri', 'Muktsar',\n",
       "       'Baran', 'Haldwani', 'Thiruvananthapuram', 'Indore', 'Buxar',\n",
       "       'Chaksu', 'Haridwar', 'Bharuch', 'Muvattupuzha', 'Patna',\n",
       "       'Simdega', 'Singhbhum', 'Bardhaman', 'Pathankot', 'Kharar',\n",
       "       'Silchar', 'Jhalawar', 'Roorkee', 'Saharanpur', 'Solapur',\n",
       "       'Gwalior', 'Alibag', 'Katni', 'Khedbrahma', 'Valsad', 'Satna',\n",
       "       'Hooghly', 'Gurdaspur', 'Dadri', 'Amravati', 'Durg', 'Mehsana',\n",
       "       'Lansdowne', 'Cuttack', 'Jaisalmer', 'Hanumangarh', 'Dungarpur',\n",
       "       'Sri Ganganagar', 'Margao', 'Chinsurah', 'Bhatinda', 'Sibsagar',\n",
       "       'Khalilabad', 'Dehradun', 'Anand', 'Sambalpur', 'Ankleshwar',\n",
       "       'Purnia', 'Tiruverkadu', 'Bahadurgarh', 'Udaipur', 'Jodhpur',\n",
       "       'Sheikhpura', 'Pondicherry', 'Sirsa', 'Godavari', 'Ajmer',\n",
       "       'Moradabad', 'Raipur', 'Navsari', 'Herbertpur', 'Jamshedpur',\n",
       "       'Ramanagar', 'Berhampur', 'Vijayawada', 'Murad Nagar',\n",
       "       'Chandrapur', 'Jamtara', 'Uppidamangalam', 'Nalagarh', 'Una',\n",
       "       'Chakan', 'Idukki', 'Shivpuri', 'Arkalgud', 'Bidar', 'Rupnagar',\n",
       "       'Deoghar', 'Kanchipuram', 'Vapi', 'Medak', 'Kasargode', 'Dhanbad',\n",
       "       'Dakshina Kannada', 'Ganaur', 'Jamalpur', 'Amraoti', 'Mangalore',\n",
       "       'Deolali', 'Gandhinagar', 'Chitradurga', 'Chinchwad', 'Jhajjar',\n",
       "       'Jagdalpur', 'Ranoli', 'Raiwala', 'Guntur', 'Badarpur', 'Adalaj',\n",
       "       'Alipore', 'Bhawani Mandi', 'Mughalsarai', 'Kollam', 'Farukhabad',\n",
       "       'Thiruvallur', 'Udaipurwati', 'Rasra', 'Latur', 'Krishna',\n",
       "       'Gangaikondan', 'Warangal', 'Uluberia', 'Poonamallee', 'Nagaon',\n",
       "       'Hissar', 'Kanyakumari', 'Morbi', 'Bankura', 'Virar', 'Tikamgarh',\n",
       "       'Sultanpur', 'Tirunelveli', 'Bihar Shariff', 'Goa-panaji',\n",
       "       'Ganganagar', 'Kolar', 'Bahadurpur', 'Batala', 'Budhlada',\n",
       "       'Muzaffarnagar', 'Adyar', 'Calicut', 'Raigarh', 'Sonepat',\n",
       "       'Chikkaballapur', 'Kasba', 'Bulandshahr', 'Burdwan', 'Anjar',\n",
       "       'Marandahalli', 'Badaun', 'Namakkal', 'Puri', 'Alwar',\n",
       "       'Surendranagar', 'Khandela', 'Kullu', 'Mohammadabad', 'Sangareddy',\n",
       "       'Ghazipur', 'Shimla', 'Azamgarh', 'Chenani', 'Kanpur Nagar',\n",
       "       'Trivandrum', 'Secunderabad', 'Kurukshetra', 'Dhariawad',\n",
       "       'Bargarh', 'Gadarpur', 'Chikamaglur', 'Karim Nagar', 'Kotdwar',\n",
       "       'Jalaun', 'Parola', 'Bareilly', 'Salem', 'Indi', 'Muzaffarpur',\n",
       "       'Nayagarh', 'Jalgaon', 'Ambikapur', 'Udupi', 'Junagadh',\n",
       "       'Dibrugarh', 'Faridkot', 'Naraingarh', 'Karwar',\n",
       "       'Sant Kabir Nagar', 'Viramgam', 'Manali', 'Gadwal', 'Honavar',\n",
       "       'Mathura', 'Khandwa', 'Solan', 'Sitapur', 'Betul', 'Anantapur',\n",
       "       'Sholapur', 'Pinjore', 'Qadian', 'Sangrur', 'Jorhat', 'Palanpur',\n",
       "       'Narnaul', 'Palamu', 'Falakata', 'Ferozepur', 'Porbandar',\n",
       "       'Dwarka', 'Rangpo', 'Cannanore (kannur)', 'Churu', 'Baghpat',\n",
       "       'Jhumri Tilaiya', 'Naihati', 'Virudhunagar', 'Dharmavaram',\n",
       "       'Darbhanga', 'Nawanshahr', 'Sangli', 'Suri', 'Yamuna Nagar',\n",
       "       'Vasai', 'Aluva', 'Sirsi', 'Bijapur', 'Krishnagar', 'Bhiwadi',\n",
       "       'Bellary', 'Erode', 'Aquem', 'Nellore', 'Udhampur', 'Dhamtari',\n",
       "       'Vandalur', 'Motihari', 'Dharwar', 'Shimoga', 'Jhunjhunu',\n",
       "       'Bijnor', 'Yemmiganur', 'Bokaro', 'Kurnool', 'Srinagar', 'Ranip',\n",
       "       'Davanagere', 'Rajouri', 'Begusarai', 'Goregaon', 'Bally',\n",
       "       'Kachchh', 'Nagaur', 'Anekal', 'Mansa', 'Nanded', 'Dharamasala',\n",
       "       'Chhindwara', 'Jamnagar', 'Zirakpur', 'Abohar', 'Barabanki',\n",
       "       'Nabha', 'Kadapa', 'Perumbavoor', 'Sundargarh', 'Nazira',\n",
       "       'Pratapgarh', 'Dharmapuri', 'Thangadh', 'Lonavala', 'Vizianagaram',\n",
       "       'Kathua', 'Deesa', 'Tiruppur', 'Gadchiroli', 'Gangaghat', 'Bhuj',\n",
       "       'Vastral', 'Phagwara', 'Kheda', 'Swaimadhopur', 'Kharagpur',\n",
       "       'Jobner', 'Gondia', 'Bundi', 'Hamirpur', 'Dongargaon',\n",
       "       'Mubarakpur', 'Tumkur', 'Sanand', 'Kartarpur', 'Bhavnagar',\n",
       "       'Farrukhabad', 'Kadi', 'Seppa', 'Challakere', 'Dhubri', 'Deoria',\n",
       "       'Akot', 'Alappuzha', 'Bhiwandi', 'Shillong', 'Osmanabad', 'Kendua',\n",
       "       'Uran', 'Jaunpur', 'Hisar', 'Bodhan', 'Bhubaneswar', 'Raiganj',\n",
       "       'Bhilai Nagar', 'Baloda', 'Anantnag', 'Berhampore', 'Silvasa',\n",
       "       'Hospet', 'Palai', 'Sidhi'], dtype=object)"
      ]
     },
     "execution_count": 53,
     "metadata": {},
     "output_type": "execute_result"
    }
   ],
   "source": [
    "df['city'].unique()"
   ]
  },
  {
   "cell_type": "code",
   "execution_count": 54,
   "metadata": {},
   "outputs": [
    {
     "data": {
      "text/html": [
       "<div>\n",
       "<style scoped>\n",
       "    .dataframe tbody tr th:only-of-type {\n",
       "        vertical-align: middle;\n",
       "    }\n",
       "\n",
       "    .dataframe tbody tr th {\n",
       "        vertical-align: top;\n",
       "    }\n",
       "\n",
       "    .dataframe thead th {\n",
       "        text-align: right;\n",
       "    }\n",
       "</style>\n",
       "<table border=\"1\" class=\"dataframe\">\n",
       "  <thead>\n",
       "    <tr style=\"text-align: right;\">\n",
       "      <th></th>\n",
       "      <th>bike_name</th>\n",
       "      <th>price</th>\n",
       "      <th>city</th>\n",
       "      <th>km_driven</th>\n",
       "      <th>owner</th>\n",
       "      <th>age</th>\n",
       "      <th>power</th>\n",
       "      <th>brand</th>\n",
       "    </tr>\n",
       "  </thead>\n",
       "  <tbody>\n",
       "    <tr>\n",
       "      <th>0</th>\n",
       "      <td>TVS Star City Plus Dual Tone 110cc</td>\n",
       "      <td>35000.0</td>\n",
       "      <td>Ahmedabad</td>\n",
       "      <td>17654.0</td>\n",
       "      <td>First Owner</td>\n",
       "      <td>3.0</td>\n",
       "      <td>110.0</td>\n",
       "      <td>TVS</td>\n",
       "    </tr>\n",
       "    <tr>\n",
       "      <th>1</th>\n",
       "      <td>Royal Enfield Classic 350cc</td>\n",
       "      <td>119900.0</td>\n",
       "      <td>Delhi</td>\n",
       "      <td>11000.0</td>\n",
       "      <td>First Owner</td>\n",
       "      <td>4.0</td>\n",
       "      <td>350.0</td>\n",
       "      <td>Royal Enfield</td>\n",
       "    </tr>\n",
       "    <tr>\n",
       "      <th>2</th>\n",
       "      <td>Triumph Daytona 675R</td>\n",
       "      <td>600000.0</td>\n",
       "      <td>Delhi</td>\n",
       "      <td>110.0</td>\n",
       "      <td>First Owner</td>\n",
       "      <td>8.0</td>\n",
       "      <td>675.0</td>\n",
       "      <td>Triumph</td>\n",
       "    </tr>\n",
       "    <tr>\n",
       "      <th>3</th>\n",
       "      <td>TVS Apache RTR 180cc</td>\n",
       "      <td>65000.0</td>\n",
       "      <td>Bangalore</td>\n",
       "      <td>16329.0</td>\n",
       "      <td>First Owner</td>\n",
       "      <td>4.0</td>\n",
       "      <td>180.0</td>\n",
       "      <td>TVS</td>\n",
       "    </tr>\n",
       "    <tr>\n",
       "      <th>4</th>\n",
       "      <td>Yamaha FZ S V 2.0 150cc-Ltd. Edition</td>\n",
       "      <td>80000.0</td>\n",
       "      <td>Bangalore</td>\n",
       "      <td>10000.0</td>\n",
       "      <td>First Owner</td>\n",
       "      <td>3.0</td>\n",
       "      <td>150.0</td>\n",
       "      <td>Yamaha</td>\n",
       "    </tr>\n",
       "    <tr>\n",
       "      <th>...</th>\n",
       "      <td>...</td>\n",
       "      <td>...</td>\n",
       "      <td>...</td>\n",
       "      <td>...</td>\n",
       "      <td>...</td>\n",
       "      <td>...</td>\n",
       "      <td>...</td>\n",
       "      <td>...</td>\n",
       "    </tr>\n",
       "    <tr>\n",
       "      <th>9362</th>\n",
       "      <td>Hero Hunk Rear Disc 150cc</td>\n",
       "      <td>25000.0</td>\n",
       "      <td>Delhi</td>\n",
       "      <td>48587.0</td>\n",
       "      <td>First Owner</td>\n",
       "      <td>8.0</td>\n",
       "      <td>150.0</td>\n",
       "      <td>Hero</td>\n",
       "    </tr>\n",
       "    <tr>\n",
       "      <th>9369</th>\n",
       "      <td>Bajaj Avenger 220cc</td>\n",
       "      <td>35000.0</td>\n",
       "      <td>Bangalore</td>\n",
       "      <td>60000.0</td>\n",
       "      <td>First Owner</td>\n",
       "      <td>9.0</td>\n",
       "      <td>220.0</td>\n",
       "      <td>Bajaj</td>\n",
       "    </tr>\n",
       "    <tr>\n",
       "      <th>9370</th>\n",
       "      <td>Harley-Davidson Street 750 ABS</td>\n",
       "      <td>450000.0</td>\n",
       "      <td>Jodhpur</td>\n",
       "      <td>3430.0</td>\n",
       "      <td>First Owner</td>\n",
       "      <td>4.0</td>\n",
       "      <td>750.0</td>\n",
       "      <td>Harley-Davidson</td>\n",
       "    </tr>\n",
       "    <tr>\n",
       "      <th>9371</th>\n",
       "      <td>Bajaj Dominar 400 ABS</td>\n",
       "      <td>139000.0</td>\n",
       "      <td>Hyderabad</td>\n",
       "      <td>21300.0</td>\n",
       "      <td>First Owner</td>\n",
       "      <td>4.0</td>\n",
       "      <td>400.0</td>\n",
       "      <td>Bajaj</td>\n",
       "    </tr>\n",
       "    <tr>\n",
       "      <th>9372</th>\n",
       "      <td>Bajaj Avenger Street 220</td>\n",
       "      <td>80000.0</td>\n",
       "      <td>Hyderabad</td>\n",
       "      <td>7127.0</td>\n",
       "      <td>First Owner</td>\n",
       "      <td>5.0</td>\n",
       "      <td>220.0</td>\n",
       "      <td>Bajaj</td>\n",
       "    </tr>\n",
       "  </tbody>\n",
       "</table>\n",
       "<p>7324 rows × 8 columns</p>\n",
       "</div>"
      ],
      "text/plain": [
       "                                 bike_name     price       city  km_driven  \\\n",
       "0       TVS Star City Plus Dual Tone 110cc   35000.0  Ahmedabad    17654.0   \n",
       "1              Royal Enfield Classic 350cc  119900.0      Delhi    11000.0   \n",
       "2                     Triumph Daytona 675R  600000.0      Delhi      110.0   \n",
       "3                     TVS Apache RTR 180cc   65000.0  Bangalore    16329.0   \n",
       "4     Yamaha FZ S V 2.0 150cc-Ltd. Edition   80000.0  Bangalore    10000.0   \n",
       "...                                    ...       ...        ...        ...   \n",
       "9362             Hero Hunk Rear Disc 150cc   25000.0      Delhi    48587.0   \n",
       "9369                   Bajaj Avenger 220cc   35000.0  Bangalore    60000.0   \n",
       "9370        Harley-Davidson Street 750 ABS  450000.0    Jodhpur     3430.0   \n",
       "9371                 Bajaj Dominar 400 ABS  139000.0  Hyderabad    21300.0   \n",
       "9372              Bajaj Avenger Street 220   80000.0  Hyderabad     7127.0   \n",
       "\n",
       "            owner  age  power            brand  \n",
       "0     First Owner  3.0  110.0              TVS  \n",
       "1     First Owner  4.0  350.0    Royal Enfield  \n",
       "2     First Owner  8.0  675.0          Triumph  \n",
       "3     First Owner  4.0  180.0              TVS  \n",
       "4     First Owner  3.0  150.0           Yamaha  \n",
       "...           ...  ...    ...              ...  \n",
       "9362  First Owner  8.0  150.0             Hero  \n",
       "9369  First Owner  9.0  220.0            Bajaj  \n",
       "9370  First Owner  4.0  750.0  Harley-Davidson  \n",
       "9371  First Owner  4.0  400.0            Bajaj  \n",
       "9372  First Owner  5.0  220.0            Bajaj  \n",
       "\n",
       "[7324 rows x 8 columns]"
      ]
     },
     "execution_count": 54,
     "metadata": {},
     "output_type": "execute_result"
    }
   ],
   "source": [
    "df"
   ]
  },
  {
   "cell_type": "code",
   "execution_count": 55,
   "metadata": {},
   "outputs": [],
   "source": [
    "# drop the column which is not useful for us\n",
    "df.drop(columns=['bike_name'], inplace=True) # to drop the column bike_name from the data set\n",
    "\n",
    "df.drop(columns=['city'], inplace=True) # to drop the column owner from the data set"
   ]
  },
  {
   "cell_type": "code",
   "execution_count": 56,
   "metadata": {},
   "outputs": [
    {
     "data": {
      "text/html": [
       "<div>\n",
       "<style scoped>\n",
       "    .dataframe tbody tr th:only-of-type {\n",
       "        vertical-align: middle;\n",
       "    }\n",
       "\n",
       "    .dataframe tbody tr th {\n",
       "        vertical-align: top;\n",
       "    }\n",
       "\n",
       "    .dataframe thead th {\n",
       "        text-align: right;\n",
       "    }\n",
       "</style>\n",
       "<table border=\"1\" class=\"dataframe\">\n",
       "  <thead>\n",
       "    <tr style=\"text-align: right;\">\n",
       "      <th></th>\n",
       "      <th>price</th>\n",
       "      <th>km_driven</th>\n",
       "      <th>owner</th>\n",
       "      <th>age</th>\n",
       "      <th>power</th>\n",
       "      <th>brand</th>\n",
       "    </tr>\n",
       "  </thead>\n",
       "  <tbody>\n",
       "    <tr>\n",
       "      <th>0</th>\n",
       "      <td>35000.0</td>\n",
       "      <td>17654.0</td>\n",
       "      <td>First Owner</td>\n",
       "      <td>3.0</td>\n",
       "      <td>110.0</td>\n",
       "      <td>TVS</td>\n",
       "    </tr>\n",
       "    <tr>\n",
       "      <th>1</th>\n",
       "      <td>119900.0</td>\n",
       "      <td>11000.0</td>\n",
       "      <td>First Owner</td>\n",
       "      <td>4.0</td>\n",
       "      <td>350.0</td>\n",
       "      <td>Royal Enfield</td>\n",
       "    </tr>\n",
       "    <tr>\n",
       "      <th>2</th>\n",
       "      <td>600000.0</td>\n",
       "      <td>110.0</td>\n",
       "      <td>First Owner</td>\n",
       "      <td>8.0</td>\n",
       "      <td>675.0</td>\n",
       "      <td>Triumph</td>\n",
       "    </tr>\n",
       "    <tr>\n",
       "      <th>3</th>\n",
       "      <td>65000.0</td>\n",
       "      <td>16329.0</td>\n",
       "      <td>First Owner</td>\n",
       "      <td>4.0</td>\n",
       "      <td>180.0</td>\n",
       "      <td>TVS</td>\n",
       "    </tr>\n",
       "    <tr>\n",
       "      <th>4</th>\n",
       "      <td>80000.0</td>\n",
       "      <td>10000.0</td>\n",
       "      <td>First Owner</td>\n",
       "      <td>3.0</td>\n",
       "      <td>150.0</td>\n",
       "      <td>Yamaha</td>\n",
       "    </tr>\n",
       "    <tr>\n",
       "      <th>...</th>\n",
       "      <td>...</td>\n",
       "      <td>...</td>\n",
       "      <td>...</td>\n",
       "      <td>...</td>\n",
       "      <td>...</td>\n",
       "      <td>...</td>\n",
       "    </tr>\n",
       "    <tr>\n",
       "      <th>9362</th>\n",
       "      <td>25000.0</td>\n",
       "      <td>48587.0</td>\n",
       "      <td>First Owner</td>\n",
       "      <td>8.0</td>\n",
       "      <td>150.0</td>\n",
       "      <td>Hero</td>\n",
       "    </tr>\n",
       "    <tr>\n",
       "      <th>9369</th>\n",
       "      <td>35000.0</td>\n",
       "      <td>60000.0</td>\n",
       "      <td>First Owner</td>\n",
       "      <td>9.0</td>\n",
       "      <td>220.0</td>\n",
       "      <td>Bajaj</td>\n",
       "    </tr>\n",
       "    <tr>\n",
       "      <th>9370</th>\n",
       "      <td>450000.0</td>\n",
       "      <td>3430.0</td>\n",
       "      <td>First Owner</td>\n",
       "      <td>4.0</td>\n",
       "      <td>750.0</td>\n",
       "      <td>Harley-Davidson</td>\n",
       "    </tr>\n",
       "    <tr>\n",
       "      <th>9371</th>\n",
       "      <td>139000.0</td>\n",
       "      <td>21300.0</td>\n",
       "      <td>First Owner</td>\n",
       "      <td>4.0</td>\n",
       "      <td>400.0</td>\n",
       "      <td>Bajaj</td>\n",
       "    </tr>\n",
       "    <tr>\n",
       "      <th>9372</th>\n",
       "      <td>80000.0</td>\n",
       "      <td>7127.0</td>\n",
       "      <td>First Owner</td>\n",
       "      <td>5.0</td>\n",
       "      <td>220.0</td>\n",
       "      <td>Bajaj</td>\n",
       "    </tr>\n",
       "  </tbody>\n",
       "</table>\n",
       "<p>7324 rows × 6 columns</p>\n",
       "</div>"
      ],
      "text/plain": [
       "         price  km_driven        owner  age  power            brand\n",
       "0      35000.0    17654.0  First Owner  3.0  110.0              TVS\n",
       "1     119900.0    11000.0  First Owner  4.0  350.0    Royal Enfield\n",
       "2     600000.0      110.0  First Owner  8.0  675.0          Triumph\n",
       "3      65000.0    16329.0  First Owner  4.0  180.0              TVS\n",
       "4      80000.0    10000.0  First Owner  3.0  150.0           Yamaha\n",
       "...        ...        ...          ...  ...    ...              ...\n",
       "9362   25000.0    48587.0  First Owner  8.0  150.0             Hero\n",
       "9369   35000.0    60000.0  First Owner  9.0  220.0            Bajaj\n",
       "9370  450000.0     3430.0  First Owner  4.0  750.0  Harley-Davidson\n",
       "9371  139000.0    21300.0  First Owner  4.0  400.0            Bajaj\n",
       "9372   80000.0     7127.0  First Owner  5.0  220.0            Bajaj\n",
       "\n",
       "[7324 rows x 6 columns]"
      ]
     },
     "execution_count": 56,
     "metadata": {},
     "output_type": "execute_result"
    }
   ],
   "source": [
    "df"
   ]
  },
  {
   "cell_type": "code",
   "execution_count": 57,
   "metadata": {},
   "outputs": [
    {
     "data": {
      "text/plain": [
       "array(['First Owner', 'Second Owner', 'Third Owner',\n",
       "       'Fourth Owner Or More'], dtype=object)"
      ]
     },
     "execution_count": 57,
     "metadata": {},
     "output_type": "execute_result"
    }
   ],
   "source": [
    "df['owner'].unique() # to get the unique values of owner column"
   ]
  },
  {
   "cell_type": "code",
   "execution_count": 58,
   "metadata": {},
   "outputs": [],
   "source": [
    "# mapping of owner\n",
    "\n",
    "dt={\n",
    "    'First Owner':1,\n",
    "    'Second Owner':2,\n",
    "    'Third Owner':3,\n",
    "    'Fourth Owner Or More':4\n",
    "    \n",
    "\n",
    "\n",
    "}"
   ]
  },
  {
   "cell_type": "code",
   "execution_count": 59,
   "metadata": {},
   "outputs": [],
   "source": [
    "df['owner']=df['owner'].map(dt) # to map the values of owner column with the dictionary value"
   ]
  },
  {
   "cell_type": "code",
   "execution_count": 60,
   "metadata": {},
   "outputs": [
    {
     "data": {
      "text/html": [
       "<div>\n",
       "<style scoped>\n",
       "    .dataframe tbody tr th:only-of-type {\n",
       "        vertical-align: middle;\n",
       "    }\n",
       "\n",
       "    .dataframe tbody tr th {\n",
       "        vertical-align: top;\n",
       "    }\n",
       "\n",
       "    .dataframe thead th {\n",
       "        text-align: right;\n",
       "    }\n",
       "</style>\n",
       "<table border=\"1\" class=\"dataframe\">\n",
       "  <thead>\n",
       "    <tr style=\"text-align: right;\">\n",
       "      <th></th>\n",
       "      <th>price</th>\n",
       "      <th>km_driven</th>\n",
       "      <th>owner</th>\n",
       "      <th>age</th>\n",
       "      <th>power</th>\n",
       "      <th>brand</th>\n",
       "    </tr>\n",
       "  </thead>\n",
       "  <tbody>\n",
       "    <tr>\n",
       "      <th>0</th>\n",
       "      <td>35000.0</td>\n",
       "      <td>17654.0</td>\n",
       "      <td>1</td>\n",
       "      <td>3.0</td>\n",
       "      <td>110.0</td>\n",
       "      <td>TVS</td>\n",
       "    </tr>\n",
       "    <tr>\n",
       "      <th>1</th>\n",
       "      <td>119900.0</td>\n",
       "      <td>11000.0</td>\n",
       "      <td>1</td>\n",
       "      <td>4.0</td>\n",
       "      <td>350.0</td>\n",
       "      <td>Royal Enfield</td>\n",
       "    </tr>\n",
       "    <tr>\n",
       "      <th>2</th>\n",
       "      <td>600000.0</td>\n",
       "      <td>110.0</td>\n",
       "      <td>1</td>\n",
       "      <td>8.0</td>\n",
       "      <td>675.0</td>\n",
       "      <td>Triumph</td>\n",
       "    </tr>\n",
       "    <tr>\n",
       "      <th>3</th>\n",
       "      <td>65000.0</td>\n",
       "      <td>16329.0</td>\n",
       "      <td>1</td>\n",
       "      <td>4.0</td>\n",
       "      <td>180.0</td>\n",
       "      <td>TVS</td>\n",
       "    </tr>\n",
       "    <tr>\n",
       "      <th>4</th>\n",
       "      <td>80000.0</td>\n",
       "      <td>10000.0</td>\n",
       "      <td>1</td>\n",
       "      <td>3.0</td>\n",
       "      <td>150.0</td>\n",
       "      <td>Yamaha</td>\n",
       "    </tr>\n",
       "    <tr>\n",
       "      <th>...</th>\n",
       "      <td>...</td>\n",
       "      <td>...</td>\n",
       "      <td>...</td>\n",
       "      <td>...</td>\n",
       "      <td>...</td>\n",
       "      <td>...</td>\n",
       "    </tr>\n",
       "    <tr>\n",
       "      <th>9362</th>\n",
       "      <td>25000.0</td>\n",
       "      <td>48587.0</td>\n",
       "      <td>1</td>\n",
       "      <td>8.0</td>\n",
       "      <td>150.0</td>\n",
       "      <td>Hero</td>\n",
       "    </tr>\n",
       "    <tr>\n",
       "      <th>9369</th>\n",
       "      <td>35000.0</td>\n",
       "      <td>60000.0</td>\n",
       "      <td>1</td>\n",
       "      <td>9.0</td>\n",
       "      <td>220.0</td>\n",
       "      <td>Bajaj</td>\n",
       "    </tr>\n",
       "    <tr>\n",
       "      <th>9370</th>\n",
       "      <td>450000.0</td>\n",
       "      <td>3430.0</td>\n",
       "      <td>1</td>\n",
       "      <td>4.0</td>\n",
       "      <td>750.0</td>\n",
       "      <td>Harley-Davidson</td>\n",
       "    </tr>\n",
       "    <tr>\n",
       "      <th>9371</th>\n",
       "      <td>139000.0</td>\n",
       "      <td>21300.0</td>\n",
       "      <td>1</td>\n",
       "      <td>4.0</td>\n",
       "      <td>400.0</td>\n",
       "      <td>Bajaj</td>\n",
       "    </tr>\n",
       "    <tr>\n",
       "      <th>9372</th>\n",
       "      <td>80000.0</td>\n",
       "      <td>7127.0</td>\n",
       "      <td>1</td>\n",
       "      <td>5.0</td>\n",
       "      <td>220.0</td>\n",
       "      <td>Bajaj</td>\n",
       "    </tr>\n",
       "  </tbody>\n",
       "</table>\n",
       "<p>7324 rows × 6 columns</p>\n",
       "</div>"
      ],
      "text/plain": [
       "         price  km_driven  owner  age  power            brand\n",
       "0      35000.0    17654.0      1  3.0  110.0              TVS\n",
       "1     119900.0    11000.0      1  4.0  350.0    Royal Enfield\n",
       "2     600000.0      110.0      1  8.0  675.0          Triumph\n",
       "3      65000.0    16329.0      1  4.0  180.0              TVS\n",
       "4      80000.0    10000.0      1  3.0  150.0           Yamaha\n",
       "...        ...        ...    ...  ...    ...              ...\n",
       "9362   25000.0    48587.0      1  8.0  150.0             Hero\n",
       "9369   35000.0    60000.0      1  9.0  220.0            Bajaj\n",
       "9370  450000.0     3430.0      1  4.0  750.0  Harley-Davidson\n",
       "9371  139000.0    21300.0      1  4.0  400.0            Bajaj\n",
       "9372   80000.0     7127.0      1  5.0  220.0            Bajaj\n",
       "\n",
       "[7324 rows x 6 columns]"
      ]
     },
     "execution_count": 60,
     "metadata": {},
     "output_type": "execute_result"
    }
   ],
   "source": [
    "df"
   ]
  },
  {
   "cell_type": "code",
   "execution_count": 61,
   "metadata": {},
   "outputs": [],
   "source": [
    "# encoding classes to number \n",
    "#onehot\n",
    "#label encoding"
   ]
  },
  {
   "cell_type": "code",
   "execution_count": 62,
   "metadata": {},
   "outputs": [
    {
     "name": "stdout",
     "output_type": "stream",
     "text": [
      "Requirement already satisfied: scikit-learn in c:\\users\\shivanshu srivastava\\anaconda3\\lib\\site-packages (1.5.1)\n",
      "Requirement already satisfied: numpy>=1.19.5 in c:\\users\\shivanshu srivastava\\anaconda3\\lib\\site-packages (from scikit-learn) (1.26.4)\n",
      "Requirement already satisfied: scipy>=1.6.0 in c:\\users\\shivanshu srivastava\\anaconda3\\lib\\site-packages (from scikit-learn) (1.13.1)\n",
      "Requirement already satisfied: joblib>=1.2.0 in c:\\users\\shivanshu srivastava\\anaconda3\\lib\\site-packages (from scikit-learn) (1.4.2)\n",
      "Requirement already satisfied: threadpoolctl>=3.1.0 in c:\\users\\shivanshu srivastava\\anaconda3\\lib\\site-packages (from scikit-learn) (3.5.0)\n"
     ]
    }
   ],
   "source": [
    "! pip install scikit-learn"
   ]
  },
  {
   "cell_type": "code",
   "execution_count": 63,
   "metadata": {},
   "outputs": [],
   "source": [
    "import sklearn"
   ]
  },
  {
   "cell_type": "code",
   "execution_count": 64,
   "metadata": {},
   "outputs": [],
   "source": [
    "from sklearn.preprocessing import LabelEncoder,OneHotEncoder"
   ]
  },
  {
   "cell_type": "code",
   "execution_count": 65,
   "metadata": {},
   "outputs": [],
   "source": [
    "encoder=LabelEncoder()"
   ]
  },
  {
   "cell_type": "code",
   "execution_count": 66,
   "metadata": {},
   "outputs": [],
   "source": [
    "\n",
    "output=encoder.fit_transform(df['brand'])"
   ]
  },
  {
   "cell_type": "code",
   "execution_count": 67,
   "metadata": {},
   "outputs": [
    {
     "data": {
      "text/plain": [
       "numpy.ndarray"
      ]
     },
     "execution_count": 67,
     "metadata": {},
     "output_type": "execute_result"
    }
   ],
   "source": [
    "output.__class__"
   ]
  },
  {
   "cell_type": "code",
   "execution_count": 68,
   "metadata": {},
   "outputs": [
    {
     "data": {
      "text/plain": [
       "array([19, 17, 20, ...,  4,  1,  1])"
      ]
     },
     "execution_count": 68,
     "metadata": {},
     "output_type": "execute_result"
    }
   ],
   "source": [
    "output"
   ]
  },
  {
   "cell_type": "code",
   "execution_count": 69,
   "metadata": {},
   "outputs": [
    {
     "data": {
      "text/plain": [
       "(7324,)"
      ]
     },
     "execution_count": 69,
     "metadata": {},
     "output_type": "execute_result"
    }
   ],
   "source": [
    "output.shape"
   ]
  },
  {
   "cell_type": "code",
   "execution_count": 70,
   "metadata": {},
   "outputs": [],
   "source": [
    "df['brand']=output"
   ]
  },
  {
   "cell_type": "code",
   "execution_count": 71,
   "metadata": {},
   "outputs": [
    {
     "data": {
      "text/html": [
       "<div>\n",
       "<style scoped>\n",
       "    .dataframe tbody tr th:only-of-type {\n",
       "        vertical-align: middle;\n",
       "    }\n",
       "\n",
       "    .dataframe tbody tr th {\n",
       "        vertical-align: top;\n",
       "    }\n",
       "\n",
       "    .dataframe thead th {\n",
       "        text-align: right;\n",
       "    }\n",
       "</style>\n",
       "<table border=\"1\" class=\"dataframe\">\n",
       "  <thead>\n",
       "    <tr style=\"text-align: right;\">\n",
       "      <th></th>\n",
       "      <th>price</th>\n",
       "      <th>km_driven</th>\n",
       "      <th>owner</th>\n",
       "      <th>age</th>\n",
       "      <th>power</th>\n",
       "      <th>brand</th>\n",
       "    </tr>\n",
       "  </thead>\n",
       "  <tbody>\n",
       "    <tr>\n",
       "      <th>0</th>\n",
       "      <td>35000.0</td>\n",
       "      <td>17654.0</td>\n",
       "      <td>1</td>\n",
       "      <td>3.0</td>\n",
       "      <td>110.0</td>\n",
       "      <td>19</td>\n",
       "    </tr>\n",
       "    <tr>\n",
       "      <th>1</th>\n",
       "      <td>119900.0</td>\n",
       "      <td>11000.0</td>\n",
       "      <td>1</td>\n",
       "      <td>4.0</td>\n",
       "      <td>350.0</td>\n",
       "      <td>17</td>\n",
       "    </tr>\n",
       "    <tr>\n",
       "      <th>2</th>\n",
       "      <td>600000.0</td>\n",
       "      <td>110.0</td>\n",
       "      <td>1</td>\n",
       "      <td>8.0</td>\n",
       "      <td>675.0</td>\n",
       "      <td>20</td>\n",
       "    </tr>\n",
       "    <tr>\n",
       "      <th>3</th>\n",
       "      <td>65000.0</td>\n",
       "      <td>16329.0</td>\n",
       "      <td>1</td>\n",
       "      <td>4.0</td>\n",
       "      <td>180.0</td>\n",
       "      <td>19</td>\n",
       "    </tr>\n",
       "    <tr>\n",
       "      <th>4</th>\n",
       "      <td>80000.0</td>\n",
       "      <td>10000.0</td>\n",
       "      <td>1</td>\n",
       "      <td>3.0</td>\n",
       "      <td>150.0</td>\n",
       "      <td>21</td>\n",
       "    </tr>\n",
       "    <tr>\n",
       "      <th>...</th>\n",
       "      <td>...</td>\n",
       "      <td>...</td>\n",
       "      <td>...</td>\n",
       "      <td>...</td>\n",
       "      <td>...</td>\n",
       "      <td>...</td>\n",
       "    </tr>\n",
       "    <tr>\n",
       "      <th>9362</th>\n",
       "      <td>25000.0</td>\n",
       "      <td>48587.0</td>\n",
       "      <td>1</td>\n",
       "      <td>8.0</td>\n",
       "      <td>150.0</td>\n",
       "      <td>5</td>\n",
       "    </tr>\n",
       "    <tr>\n",
       "      <th>9369</th>\n",
       "      <td>35000.0</td>\n",
       "      <td>60000.0</td>\n",
       "      <td>1</td>\n",
       "      <td>9.0</td>\n",
       "      <td>220.0</td>\n",
       "      <td>1</td>\n",
       "    </tr>\n",
       "    <tr>\n",
       "      <th>9370</th>\n",
       "      <td>450000.0</td>\n",
       "      <td>3430.0</td>\n",
       "      <td>1</td>\n",
       "      <td>4.0</td>\n",
       "      <td>750.0</td>\n",
       "      <td>4</td>\n",
       "    </tr>\n",
       "    <tr>\n",
       "      <th>9371</th>\n",
       "      <td>139000.0</td>\n",
       "      <td>21300.0</td>\n",
       "      <td>1</td>\n",
       "      <td>4.0</td>\n",
       "      <td>400.0</td>\n",
       "      <td>1</td>\n",
       "    </tr>\n",
       "    <tr>\n",
       "      <th>9372</th>\n",
       "      <td>80000.0</td>\n",
       "      <td>7127.0</td>\n",
       "      <td>1</td>\n",
       "      <td>5.0</td>\n",
       "      <td>220.0</td>\n",
       "      <td>1</td>\n",
       "    </tr>\n",
       "  </tbody>\n",
       "</table>\n",
       "<p>7324 rows × 6 columns</p>\n",
       "</div>"
      ],
      "text/plain": [
       "         price  km_driven  owner  age  power  brand\n",
       "0      35000.0    17654.0      1  3.0  110.0     19\n",
       "1     119900.0    11000.0      1  4.0  350.0     17\n",
       "2     600000.0      110.0      1  8.0  675.0     20\n",
       "3      65000.0    16329.0      1  4.0  180.0     19\n",
       "4      80000.0    10000.0      1  3.0  150.0     21\n",
       "...        ...        ...    ...  ...    ...    ...\n",
       "9362   25000.0    48587.0      1  8.0  150.0      5\n",
       "9369   35000.0    60000.0      1  9.0  220.0      1\n",
       "9370  450000.0     3430.0      1  4.0  750.0      4\n",
       "9371  139000.0    21300.0      1  4.0  400.0      1\n",
       "9372   80000.0     7127.0      1  5.0  220.0      1\n",
       "\n",
       "[7324 rows x 6 columns]"
      ]
     },
     "execution_count": 71,
     "metadata": {},
     "output_type": "execute_result"
    }
   ],
   "source": [
    "df"
   ]
  },
  {
   "cell_type": "code",
   "execution_count": 72,
   "metadata": {},
   "outputs": [
    {
     "data": {
      "text/plain": [
       "price        float64\n",
       "km_driven    float64\n",
       "owner          int64\n",
       "age          float64\n",
       "power        float64\n",
       "brand          int32\n",
       "dtype: object"
      ]
     },
     "execution_count": 72,
     "metadata": {},
     "output_type": "execute_result"
    }
   ],
   "source": [
    "df.dtypes"
   ]
  },
  {
   "cell_type": "code",
   "execution_count": 73,
   "metadata": {},
   "outputs": [],
   "source": [
    " # drop the column price at x \n",
    "\n",
    "x=df.drop('price',axis=1) # to drop the column price from the data set\n",
    "y=df['price'] # to get the price column from the data set"
   ]
  },
  {
   "cell_type": "code",
   "execution_count": 74,
   "metadata": {},
   "outputs": [
    {
     "data": {
      "text/html": [
       "<div>\n",
       "<style scoped>\n",
       "    .dataframe tbody tr th:only-of-type {\n",
       "        vertical-align: middle;\n",
       "    }\n",
       "\n",
       "    .dataframe tbody tr th {\n",
       "        vertical-align: top;\n",
       "    }\n",
       "\n",
       "    .dataframe thead th {\n",
       "        text-align: right;\n",
       "    }\n",
       "</style>\n",
       "<table border=\"1\" class=\"dataframe\">\n",
       "  <thead>\n",
       "    <tr style=\"text-align: right;\">\n",
       "      <th></th>\n",
       "      <th>price</th>\n",
       "      <th>km_driven</th>\n",
       "      <th>owner</th>\n",
       "      <th>age</th>\n",
       "      <th>power</th>\n",
       "      <th>brand</th>\n",
       "    </tr>\n",
       "  </thead>\n",
       "  <tbody>\n",
       "    <tr>\n",
       "      <th>0</th>\n",
       "      <td>35000.0</td>\n",
       "      <td>17654.0</td>\n",
       "      <td>1</td>\n",
       "      <td>3.0</td>\n",
       "      <td>110.0</td>\n",
       "      <td>19</td>\n",
       "    </tr>\n",
       "    <tr>\n",
       "      <th>1</th>\n",
       "      <td>119900.0</td>\n",
       "      <td>11000.0</td>\n",
       "      <td>1</td>\n",
       "      <td>4.0</td>\n",
       "      <td>350.0</td>\n",
       "      <td>17</td>\n",
       "    </tr>\n",
       "    <tr>\n",
       "      <th>2</th>\n",
       "      <td>600000.0</td>\n",
       "      <td>110.0</td>\n",
       "      <td>1</td>\n",
       "      <td>8.0</td>\n",
       "      <td>675.0</td>\n",
       "      <td>20</td>\n",
       "    </tr>\n",
       "    <tr>\n",
       "      <th>3</th>\n",
       "      <td>65000.0</td>\n",
       "      <td>16329.0</td>\n",
       "      <td>1</td>\n",
       "      <td>4.0</td>\n",
       "      <td>180.0</td>\n",
       "      <td>19</td>\n",
       "    </tr>\n",
       "    <tr>\n",
       "      <th>4</th>\n",
       "      <td>80000.0</td>\n",
       "      <td>10000.0</td>\n",
       "      <td>1</td>\n",
       "      <td>3.0</td>\n",
       "      <td>150.0</td>\n",
       "      <td>21</td>\n",
       "    </tr>\n",
       "    <tr>\n",
       "      <th>...</th>\n",
       "      <td>...</td>\n",
       "      <td>...</td>\n",
       "      <td>...</td>\n",
       "      <td>...</td>\n",
       "      <td>...</td>\n",
       "      <td>...</td>\n",
       "    </tr>\n",
       "    <tr>\n",
       "      <th>9362</th>\n",
       "      <td>25000.0</td>\n",
       "      <td>48587.0</td>\n",
       "      <td>1</td>\n",
       "      <td>8.0</td>\n",
       "      <td>150.0</td>\n",
       "      <td>5</td>\n",
       "    </tr>\n",
       "    <tr>\n",
       "      <th>9369</th>\n",
       "      <td>35000.0</td>\n",
       "      <td>60000.0</td>\n",
       "      <td>1</td>\n",
       "      <td>9.0</td>\n",
       "      <td>220.0</td>\n",
       "      <td>1</td>\n",
       "    </tr>\n",
       "    <tr>\n",
       "      <th>9370</th>\n",
       "      <td>450000.0</td>\n",
       "      <td>3430.0</td>\n",
       "      <td>1</td>\n",
       "      <td>4.0</td>\n",
       "      <td>750.0</td>\n",
       "      <td>4</td>\n",
       "    </tr>\n",
       "    <tr>\n",
       "      <th>9371</th>\n",
       "      <td>139000.0</td>\n",
       "      <td>21300.0</td>\n",
       "      <td>1</td>\n",
       "      <td>4.0</td>\n",
       "      <td>400.0</td>\n",
       "      <td>1</td>\n",
       "    </tr>\n",
       "    <tr>\n",
       "      <th>9372</th>\n",
       "      <td>80000.0</td>\n",
       "      <td>7127.0</td>\n",
       "      <td>1</td>\n",
       "      <td>5.0</td>\n",
       "      <td>220.0</td>\n",
       "      <td>1</td>\n",
       "    </tr>\n",
       "  </tbody>\n",
       "</table>\n",
       "<p>7324 rows × 6 columns</p>\n",
       "</div>"
      ],
      "text/plain": [
       "         price  km_driven  owner  age  power  brand\n",
       "0      35000.0    17654.0      1  3.0  110.0     19\n",
       "1     119900.0    11000.0      1  4.0  350.0     17\n",
       "2     600000.0      110.0      1  8.0  675.0     20\n",
       "3      65000.0    16329.0      1  4.0  180.0     19\n",
       "4      80000.0    10000.0      1  3.0  150.0     21\n",
       "...        ...        ...    ...  ...    ...    ...\n",
       "9362   25000.0    48587.0      1  8.0  150.0      5\n",
       "9369   35000.0    60000.0      1  9.0  220.0      1\n",
       "9370  450000.0     3430.0      1  4.0  750.0      4\n",
       "9371  139000.0    21300.0      1  4.0  400.0      1\n",
       "9372   80000.0     7127.0      1  5.0  220.0      1\n",
       "\n",
       "[7324 rows x 6 columns]"
      ]
     },
     "execution_count": 74,
     "metadata": {},
     "output_type": "execute_result"
    }
   ],
   "source": [
    "df"
   ]
  },
  {
   "cell_type": "code",
   "execution_count": 75,
   "metadata": {},
   "outputs": [
    {
     "data": {
      "text/plain": [
       "0        35000.0\n",
       "1       119900.0\n",
       "2       600000.0\n",
       "3        65000.0\n",
       "4        80000.0\n",
       "          ...   \n",
       "9362     25000.0\n",
       "9369     35000.0\n",
       "9370    450000.0\n",
       "9371    139000.0\n",
       "9372     80000.0\n",
       "Name: price, Length: 7324, dtype: float64"
      ]
     },
     "execution_count": 75,
     "metadata": {},
     "output_type": "execute_result"
    }
   ],
   "source": [
    "y # dependent variable"
   ]
  },
  {
   "cell_type": "code",
   "execution_count": 76,
   "metadata": {},
   "outputs": [],
   "source": [
    "# # to get the independent variable from the data set\n",
    "# x\n",
    "# # to get the independent variable from the data set\n",
    "# x.head()\n",
    "# # to get the independent variable from the data set\n",
    "# x.tail()\n",
    "# # to get the independent variable from the data set\n",
    "# x.info()\n",
    "# # to get the independent variable from the data set\n"
   ]
  },
  {
   "cell_type": "code",
   "execution_count": 77,
   "metadata": {},
   "outputs": [],
   "source": [
    "from sklearn.model_selection import train_test_split # to split the data set into training and testing data set\n",
    "# to split the data set into training and testing data set"
   ]
  },
  {
   "cell_type": "code",
   "execution_count": 78,
   "metadata": {},
   "outputs": [
    {
     "data": {
      "text/html": [
       "<div>\n",
       "<style scoped>\n",
       "    .dataframe tbody tr th:only-of-type {\n",
       "        vertical-align: middle;\n",
       "    }\n",
       "\n",
       "    .dataframe tbody tr th {\n",
       "        vertical-align: top;\n",
       "    }\n",
       "\n",
       "    .dataframe thead th {\n",
       "        text-align: right;\n",
       "    }\n",
       "</style>\n",
       "<table border=\"1\" class=\"dataframe\">\n",
       "  <thead>\n",
       "    <tr style=\"text-align: right;\">\n",
       "      <th></th>\n",
       "      <th>km_driven</th>\n",
       "      <th>owner</th>\n",
       "      <th>age</th>\n",
       "      <th>power</th>\n",
       "      <th>brand</th>\n",
       "    </tr>\n",
       "  </thead>\n",
       "  <tbody>\n",
       "    <tr>\n",
       "      <th>0</th>\n",
       "      <td>17654.0</td>\n",
       "      <td>1</td>\n",
       "      <td>3.0</td>\n",
       "      <td>110.0</td>\n",
       "      <td>19</td>\n",
       "    </tr>\n",
       "    <tr>\n",
       "      <th>1</th>\n",
       "      <td>11000.0</td>\n",
       "      <td>1</td>\n",
       "      <td>4.0</td>\n",
       "      <td>350.0</td>\n",
       "      <td>17</td>\n",
       "    </tr>\n",
       "    <tr>\n",
       "      <th>2</th>\n",
       "      <td>110.0</td>\n",
       "      <td>1</td>\n",
       "      <td>8.0</td>\n",
       "      <td>675.0</td>\n",
       "      <td>20</td>\n",
       "    </tr>\n",
       "    <tr>\n",
       "      <th>3</th>\n",
       "      <td>16329.0</td>\n",
       "      <td>1</td>\n",
       "      <td>4.0</td>\n",
       "      <td>180.0</td>\n",
       "      <td>19</td>\n",
       "    </tr>\n",
       "    <tr>\n",
       "      <th>4</th>\n",
       "      <td>10000.0</td>\n",
       "      <td>1</td>\n",
       "      <td>3.0</td>\n",
       "      <td>150.0</td>\n",
       "      <td>21</td>\n",
       "    </tr>\n",
       "    <tr>\n",
       "      <th>...</th>\n",
       "      <td>...</td>\n",
       "      <td>...</td>\n",
       "      <td>...</td>\n",
       "      <td>...</td>\n",
       "      <td>...</td>\n",
       "    </tr>\n",
       "    <tr>\n",
       "      <th>9362</th>\n",
       "      <td>48587.0</td>\n",
       "      <td>1</td>\n",
       "      <td>8.0</td>\n",
       "      <td>150.0</td>\n",
       "      <td>5</td>\n",
       "    </tr>\n",
       "    <tr>\n",
       "      <th>9369</th>\n",
       "      <td>60000.0</td>\n",
       "      <td>1</td>\n",
       "      <td>9.0</td>\n",
       "      <td>220.0</td>\n",
       "      <td>1</td>\n",
       "    </tr>\n",
       "    <tr>\n",
       "      <th>9370</th>\n",
       "      <td>3430.0</td>\n",
       "      <td>1</td>\n",
       "      <td>4.0</td>\n",
       "      <td>750.0</td>\n",
       "      <td>4</td>\n",
       "    </tr>\n",
       "    <tr>\n",
       "      <th>9371</th>\n",
       "      <td>21300.0</td>\n",
       "      <td>1</td>\n",
       "      <td>4.0</td>\n",
       "      <td>400.0</td>\n",
       "      <td>1</td>\n",
       "    </tr>\n",
       "    <tr>\n",
       "      <th>9372</th>\n",
       "      <td>7127.0</td>\n",
       "      <td>1</td>\n",
       "      <td>5.0</td>\n",
       "      <td>220.0</td>\n",
       "      <td>1</td>\n",
       "    </tr>\n",
       "  </tbody>\n",
       "</table>\n",
       "<p>7324 rows × 5 columns</p>\n",
       "</div>"
      ],
      "text/plain": [
       "      km_driven  owner  age  power  brand\n",
       "0       17654.0      1  3.0  110.0     19\n",
       "1       11000.0      1  4.0  350.0     17\n",
       "2         110.0      1  8.0  675.0     20\n",
       "3       16329.0      1  4.0  180.0     19\n",
       "4       10000.0      1  3.0  150.0     21\n",
       "...         ...    ...  ...    ...    ...\n",
       "9362    48587.0      1  8.0  150.0      5\n",
       "9369    60000.0      1  9.0  220.0      1\n",
       "9370     3430.0      1  4.0  750.0      4\n",
       "9371    21300.0      1  4.0  400.0      1\n",
       "9372     7127.0      1  5.0  220.0      1\n",
       "\n",
       "[7324 rows x 5 columns]"
      ]
     },
     "execution_count": 78,
     "metadata": {},
     "output_type": "execute_result"
    }
   ],
   "source": [
    "x "
   ]
  },
  {
   "cell_type": "code",
   "execution_count": 79,
   "metadata": {},
   "outputs": [
    {
     "data": {
      "text/plain": [
       "0        35000.0\n",
       "1       119900.0\n",
       "2       600000.0\n",
       "3        65000.0\n",
       "4        80000.0\n",
       "          ...   \n",
       "9362     25000.0\n",
       "9369     35000.0\n",
       "9370    450000.0\n",
       "9371    139000.0\n",
       "9372     80000.0\n",
       "Name: price, Length: 7324, dtype: float64"
      ]
     },
     "execution_count": 79,
     "metadata": {},
     "output_type": "execute_result"
    }
   ],
   "source": [
    "y "
   ]
  },
  {
   "cell_type": "code",
   "execution_count": 80,
   "metadata": {},
   "outputs": [],
   "source": [
    "x_train,x_test,y_train,y_test=train_test_split(x,y,test_size=0.2,random_state=42) # to split the data set into training and testing data set\n",
    "# to split the data set into training and testing data set"
   ]
  },
  {
   "cell_type": "code",
   "execution_count": 81,
   "metadata": {},
   "outputs": [
    {
     "data": {
      "text/plain": [
       "((5859, 5), (1465, 5), (5859,), (1465,))"
      ]
     },
     "execution_count": 81,
     "metadata": {},
     "output_type": "execute_result"
    }
   ],
   "source": [
    "x_train.shape ,x_test.shape ,y_train.shape ,y_test.shape # to get the shape of the training and testing data set"
   ]
  },
  {
   "cell_type": "code",
   "execution_count": 82,
   "metadata": {},
   "outputs": [],
   "source": [
    "# x_train.head() # to get the first five rows of the training data set\n",
    "# x_train.shape # to get the shape of the training data set"
   ]
  },
  {
   "cell_type": "code",
   "execution_count": 83,
   "metadata": {},
   "outputs": [],
   "source": [
    "# y_train.head() # to get the first five rows of the training data set\n",
    "# y_train.shape # to get the shape of the training data set"
   ]
  },
  {
   "cell_type": "code",
   "execution_count": 84,
   "metadata": {},
   "outputs": [],
   "source": [
    "# x_train"
   ]
  },
  {
   "cell_type": "code",
   "execution_count": 85,
   "metadata": {},
   "outputs": [],
   "source": [
    "# y_train"
   ]
  },
  {
   "cell_type": "code",
   "execution_count": 86,
   "metadata": {},
   "outputs": [],
   "source": [
    "from sklearn.linear_model import LinearRegression # to import the linear regression model from sklearn.linear_model\n"
   ]
  },
  {
   "cell_type": "code",
   "execution_count": 87,
   "metadata": {},
   "outputs": [],
   "source": [
    "lr=LinearRegression ()"
   ]
  },
  {
   "cell_type": "code",
   "execution_count": 88,
   "metadata": {},
   "outputs": [],
   "source": [
    "# x_train.isnull().sum() # to get the number of missing values in the training data set"
   ]
  },
  {
   "cell_type": "code",
   "execution_count": 89,
   "metadata": {},
   "outputs": [],
   "source": [
    "# # drop null values from the training data set\n",
    "# x_train.dropna(inplace=True) # to drop the null values from the training data set\n",
    "# x_train.isnull().sum() # to get the number of missing values in the training data set\n"
   ]
  },
  {
   "cell_type": "code",
   "execution_count": 90,
   "metadata": {},
   "outputs": [
    {
     "data": {
      "text/plain": [
       "0"
      ]
     },
     "execution_count": 90,
     "metadata": {},
     "output_type": "execute_result"
    }
   ],
   "source": [
    "y_train.isnull().sum()"
   ]
  },
  {
   "cell_type": "code",
   "execution_count": 91,
   "metadata": {},
   "outputs": [],
   "source": [
    "# # drop null values from the training data set\n",
    "# y_train.dropna(inplace=True) # to drop the null values from the training data set\n",
    "# y_train.isnull().sum() # to get the number of missing values in the training data set"
   ]
  },
  {
   "cell_type": "code",
   "execution_count": null,
   "metadata": {},
   "outputs": [],
   "source": []
  },
  {
   "cell_type": "code",
   "execution_count": 92,
   "metadata": {},
   "outputs": [
    {
     "data": {
      "text/plain": [
       "(5859,)"
      ]
     },
     "execution_count": 92,
     "metadata": {},
     "output_type": "execute_result"
    }
   ],
   "source": [
    "y_train.shape"
   ]
  },
  {
   "cell_type": "code",
   "execution_count": 93,
   "metadata": {},
   "outputs": [
    {
     "data": {
      "text/plain": [
       "(1465, 5)"
      ]
     },
     "execution_count": 93,
     "metadata": {},
     "output_type": "execute_result"
    }
   ],
   "source": [
    "x_test.shape"
   ]
  },
  {
   "cell_type": "code",
   "execution_count": 94,
   "metadata": {},
   "outputs": [
    {
     "data": {
      "text/plain": [
       "(5859, 5)"
      ]
     },
     "execution_count": 94,
     "metadata": {},
     "output_type": "execute_result"
    }
   ],
   "source": [
    "x_train.shape"
   ]
  },
  {
   "cell_type": "code",
   "execution_count": 95,
   "metadata": {},
   "outputs": [
    {
     "data": {
      "text/plain": [
       "(1465,)"
      ]
     },
     "execution_count": 95,
     "metadata": {},
     "output_type": "execute_result"
    }
   ],
   "source": [
    "y_test.shape"
   ]
  },
  {
   "cell_type": "code",
   "execution_count": 96,
   "metadata": {},
   "outputs": [
    {
     "data": {
      "text/html": [
       "<style>#sk-container-id-1 {\n",
       "  /* Definition of color scheme common for light and dark mode */\n",
       "  --sklearn-color-text: black;\n",
       "  --sklearn-color-line: gray;\n",
       "  /* Definition of color scheme for unfitted estimators */\n",
       "  --sklearn-color-unfitted-level-0: #fff5e6;\n",
       "  --sklearn-color-unfitted-level-1: #f6e4d2;\n",
       "  --sklearn-color-unfitted-level-2: #ffe0b3;\n",
       "  --sklearn-color-unfitted-level-3: chocolate;\n",
       "  /* Definition of color scheme for fitted estimators */\n",
       "  --sklearn-color-fitted-level-0: #f0f8ff;\n",
       "  --sklearn-color-fitted-level-1: #d4ebff;\n",
       "  --sklearn-color-fitted-level-2: #b3dbfd;\n",
       "  --sklearn-color-fitted-level-3: cornflowerblue;\n",
       "\n",
       "  /* Specific color for light theme */\n",
       "  --sklearn-color-text-on-default-background: var(--sg-text-color, var(--theme-code-foreground, var(--jp-content-font-color1, black)));\n",
       "  --sklearn-color-background: var(--sg-background-color, var(--theme-background, var(--jp-layout-color0, white)));\n",
       "  --sklearn-color-border-box: var(--sg-text-color, var(--theme-code-foreground, var(--jp-content-font-color1, black)));\n",
       "  --sklearn-color-icon: #696969;\n",
       "\n",
       "  @media (prefers-color-scheme: dark) {\n",
       "    /* Redefinition of color scheme for dark theme */\n",
       "    --sklearn-color-text-on-default-background: var(--sg-text-color, var(--theme-code-foreground, var(--jp-content-font-color1, white)));\n",
       "    --sklearn-color-background: var(--sg-background-color, var(--theme-background, var(--jp-layout-color0, #111)));\n",
       "    --sklearn-color-border-box: var(--sg-text-color, var(--theme-code-foreground, var(--jp-content-font-color1, white)));\n",
       "    --sklearn-color-icon: #878787;\n",
       "  }\n",
       "}\n",
       "\n",
       "#sk-container-id-1 {\n",
       "  color: var(--sklearn-color-text);\n",
       "}\n",
       "\n",
       "#sk-container-id-1 pre {\n",
       "  padding: 0;\n",
       "}\n",
       "\n",
       "#sk-container-id-1 input.sk-hidden--visually {\n",
       "  border: 0;\n",
       "  clip: rect(1px 1px 1px 1px);\n",
       "  clip: rect(1px, 1px, 1px, 1px);\n",
       "  height: 1px;\n",
       "  margin: -1px;\n",
       "  overflow: hidden;\n",
       "  padding: 0;\n",
       "  position: absolute;\n",
       "  width: 1px;\n",
       "}\n",
       "\n",
       "#sk-container-id-1 div.sk-dashed-wrapped {\n",
       "  border: 1px dashed var(--sklearn-color-line);\n",
       "  margin: 0 0.4em 0.5em 0.4em;\n",
       "  box-sizing: border-box;\n",
       "  padding-bottom: 0.4em;\n",
       "  background-color: var(--sklearn-color-background);\n",
       "}\n",
       "\n",
       "#sk-container-id-1 div.sk-container {\n",
       "  /* jupyter's `normalize.less` sets `[hidden] { display: none; }`\n",
       "     but bootstrap.min.css set `[hidden] { display: none !important; }`\n",
       "     so we also need the `!important` here to be able to override the\n",
       "     default hidden behavior on the sphinx rendered scikit-learn.org.\n",
       "     See: https://github.com/scikit-learn/scikit-learn/issues/21755 */\n",
       "  display: inline-block !important;\n",
       "  position: relative;\n",
       "}\n",
       "\n",
       "#sk-container-id-1 div.sk-text-repr-fallback {\n",
       "  display: none;\n",
       "}\n",
       "\n",
       "div.sk-parallel-item,\n",
       "div.sk-serial,\n",
       "div.sk-item {\n",
       "  /* draw centered vertical line to link estimators */\n",
       "  background-image: linear-gradient(var(--sklearn-color-text-on-default-background), var(--sklearn-color-text-on-default-background));\n",
       "  background-size: 2px 100%;\n",
       "  background-repeat: no-repeat;\n",
       "  background-position: center center;\n",
       "}\n",
       "\n",
       "/* Parallel-specific style estimator block */\n",
       "\n",
       "#sk-container-id-1 div.sk-parallel-item::after {\n",
       "  content: \"\";\n",
       "  width: 100%;\n",
       "  border-bottom: 2px solid var(--sklearn-color-text-on-default-background);\n",
       "  flex-grow: 1;\n",
       "}\n",
       "\n",
       "#sk-container-id-1 div.sk-parallel {\n",
       "  display: flex;\n",
       "  align-items: stretch;\n",
       "  justify-content: center;\n",
       "  background-color: var(--sklearn-color-background);\n",
       "  position: relative;\n",
       "}\n",
       "\n",
       "#sk-container-id-1 div.sk-parallel-item {\n",
       "  display: flex;\n",
       "  flex-direction: column;\n",
       "}\n",
       "\n",
       "#sk-container-id-1 div.sk-parallel-item:first-child::after {\n",
       "  align-self: flex-end;\n",
       "  width: 50%;\n",
       "}\n",
       "\n",
       "#sk-container-id-1 div.sk-parallel-item:last-child::after {\n",
       "  align-self: flex-start;\n",
       "  width: 50%;\n",
       "}\n",
       "\n",
       "#sk-container-id-1 div.sk-parallel-item:only-child::after {\n",
       "  width: 0;\n",
       "}\n",
       "\n",
       "/* Serial-specific style estimator block */\n",
       "\n",
       "#sk-container-id-1 div.sk-serial {\n",
       "  display: flex;\n",
       "  flex-direction: column;\n",
       "  align-items: center;\n",
       "  background-color: var(--sklearn-color-background);\n",
       "  padding-right: 1em;\n",
       "  padding-left: 1em;\n",
       "}\n",
       "\n",
       "\n",
       "/* Toggleable style: style used for estimator/Pipeline/ColumnTransformer box that is\n",
       "clickable and can be expanded/collapsed.\n",
       "- Pipeline and ColumnTransformer use this feature and define the default style\n",
       "- Estimators will overwrite some part of the style using the `sk-estimator` class\n",
       "*/\n",
       "\n",
       "/* Pipeline and ColumnTransformer style (default) */\n",
       "\n",
       "#sk-container-id-1 div.sk-toggleable {\n",
       "  /* Default theme specific background. It is overwritten whether we have a\n",
       "  specific estimator or a Pipeline/ColumnTransformer */\n",
       "  background-color: var(--sklearn-color-background);\n",
       "}\n",
       "\n",
       "/* Toggleable label */\n",
       "#sk-container-id-1 label.sk-toggleable__label {\n",
       "  cursor: pointer;\n",
       "  display: block;\n",
       "  width: 100%;\n",
       "  margin-bottom: 0;\n",
       "  padding: 0.5em;\n",
       "  box-sizing: border-box;\n",
       "  text-align: center;\n",
       "}\n",
       "\n",
       "#sk-container-id-1 label.sk-toggleable__label-arrow:before {\n",
       "  /* Arrow on the left of the label */\n",
       "  content: \"▸\";\n",
       "  float: left;\n",
       "  margin-right: 0.25em;\n",
       "  color: var(--sklearn-color-icon);\n",
       "}\n",
       "\n",
       "#sk-container-id-1 label.sk-toggleable__label-arrow:hover:before {\n",
       "  color: var(--sklearn-color-text);\n",
       "}\n",
       "\n",
       "/* Toggleable content - dropdown */\n",
       "\n",
       "#sk-container-id-1 div.sk-toggleable__content {\n",
       "  max-height: 0;\n",
       "  max-width: 0;\n",
       "  overflow: hidden;\n",
       "  text-align: left;\n",
       "  /* unfitted */\n",
       "  background-color: var(--sklearn-color-unfitted-level-0);\n",
       "}\n",
       "\n",
       "#sk-container-id-1 div.sk-toggleable__content.fitted {\n",
       "  /* fitted */\n",
       "  background-color: var(--sklearn-color-fitted-level-0);\n",
       "}\n",
       "\n",
       "#sk-container-id-1 div.sk-toggleable__content pre {\n",
       "  margin: 0.2em;\n",
       "  border-radius: 0.25em;\n",
       "  color: var(--sklearn-color-text);\n",
       "  /* unfitted */\n",
       "  background-color: var(--sklearn-color-unfitted-level-0);\n",
       "}\n",
       "\n",
       "#sk-container-id-1 div.sk-toggleable__content.fitted pre {\n",
       "  /* unfitted */\n",
       "  background-color: var(--sklearn-color-fitted-level-0);\n",
       "}\n",
       "\n",
       "#sk-container-id-1 input.sk-toggleable__control:checked~div.sk-toggleable__content {\n",
       "  /* Expand drop-down */\n",
       "  max-height: 200px;\n",
       "  max-width: 100%;\n",
       "  overflow: auto;\n",
       "}\n",
       "\n",
       "#sk-container-id-1 input.sk-toggleable__control:checked~label.sk-toggleable__label-arrow:before {\n",
       "  content: \"▾\";\n",
       "}\n",
       "\n",
       "/* Pipeline/ColumnTransformer-specific style */\n",
       "\n",
       "#sk-container-id-1 div.sk-label input.sk-toggleable__control:checked~label.sk-toggleable__label {\n",
       "  color: var(--sklearn-color-text);\n",
       "  background-color: var(--sklearn-color-unfitted-level-2);\n",
       "}\n",
       "\n",
       "#sk-container-id-1 div.sk-label.fitted input.sk-toggleable__control:checked~label.sk-toggleable__label {\n",
       "  background-color: var(--sklearn-color-fitted-level-2);\n",
       "}\n",
       "\n",
       "/* Estimator-specific style */\n",
       "\n",
       "/* Colorize estimator box */\n",
       "#sk-container-id-1 div.sk-estimator input.sk-toggleable__control:checked~label.sk-toggleable__label {\n",
       "  /* unfitted */\n",
       "  background-color: var(--sklearn-color-unfitted-level-2);\n",
       "}\n",
       "\n",
       "#sk-container-id-1 div.sk-estimator.fitted input.sk-toggleable__control:checked~label.sk-toggleable__label {\n",
       "  /* fitted */\n",
       "  background-color: var(--sklearn-color-fitted-level-2);\n",
       "}\n",
       "\n",
       "#sk-container-id-1 div.sk-label label.sk-toggleable__label,\n",
       "#sk-container-id-1 div.sk-label label {\n",
       "  /* The background is the default theme color */\n",
       "  color: var(--sklearn-color-text-on-default-background);\n",
       "}\n",
       "\n",
       "/* On hover, darken the color of the background */\n",
       "#sk-container-id-1 div.sk-label:hover label.sk-toggleable__label {\n",
       "  color: var(--sklearn-color-text);\n",
       "  background-color: var(--sklearn-color-unfitted-level-2);\n",
       "}\n",
       "\n",
       "/* Label box, darken color on hover, fitted */\n",
       "#sk-container-id-1 div.sk-label.fitted:hover label.sk-toggleable__label.fitted {\n",
       "  color: var(--sklearn-color-text);\n",
       "  background-color: var(--sklearn-color-fitted-level-2);\n",
       "}\n",
       "\n",
       "/* Estimator label */\n",
       "\n",
       "#sk-container-id-1 div.sk-label label {\n",
       "  font-family: monospace;\n",
       "  font-weight: bold;\n",
       "  display: inline-block;\n",
       "  line-height: 1.2em;\n",
       "}\n",
       "\n",
       "#sk-container-id-1 div.sk-label-container {\n",
       "  text-align: center;\n",
       "}\n",
       "\n",
       "/* Estimator-specific */\n",
       "#sk-container-id-1 div.sk-estimator {\n",
       "  font-family: monospace;\n",
       "  border: 1px dotted var(--sklearn-color-border-box);\n",
       "  border-radius: 0.25em;\n",
       "  box-sizing: border-box;\n",
       "  margin-bottom: 0.5em;\n",
       "  /* unfitted */\n",
       "  background-color: var(--sklearn-color-unfitted-level-0);\n",
       "}\n",
       "\n",
       "#sk-container-id-1 div.sk-estimator.fitted {\n",
       "  /* fitted */\n",
       "  background-color: var(--sklearn-color-fitted-level-0);\n",
       "}\n",
       "\n",
       "/* on hover */\n",
       "#sk-container-id-1 div.sk-estimator:hover {\n",
       "  /* unfitted */\n",
       "  background-color: var(--sklearn-color-unfitted-level-2);\n",
       "}\n",
       "\n",
       "#sk-container-id-1 div.sk-estimator.fitted:hover {\n",
       "  /* fitted */\n",
       "  background-color: var(--sklearn-color-fitted-level-2);\n",
       "}\n",
       "\n",
       "/* Specification for estimator info (e.g. \"i\" and \"?\") */\n",
       "\n",
       "/* Common style for \"i\" and \"?\" */\n",
       "\n",
       ".sk-estimator-doc-link,\n",
       "a:link.sk-estimator-doc-link,\n",
       "a:visited.sk-estimator-doc-link {\n",
       "  float: right;\n",
       "  font-size: smaller;\n",
       "  line-height: 1em;\n",
       "  font-family: monospace;\n",
       "  background-color: var(--sklearn-color-background);\n",
       "  border-radius: 1em;\n",
       "  height: 1em;\n",
       "  width: 1em;\n",
       "  text-decoration: none !important;\n",
       "  margin-left: 1ex;\n",
       "  /* unfitted */\n",
       "  border: var(--sklearn-color-unfitted-level-1) 1pt solid;\n",
       "  color: var(--sklearn-color-unfitted-level-1);\n",
       "}\n",
       "\n",
       ".sk-estimator-doc-link.fitted,\n",
       "a:link.sk-estimator-doc-link.fitted,\n",
       "a:visited.sk-estimator-doc-link.fitted {\n",
       "  /* fitted */\n",
       "  border: var(--sklearn-color-fitted-level-1) 1pt solid;\n",
       "  color: var(--sklearn-color-fitted-level-1);\n",
       "}\n",
       "\n",
       "/* On hover */\n",
       "div.sk-estimator:hover .sk-estimator-doc-link:hover,\n",
       ".sk-estimator-doc-link:hover,\n",
       "div.sk-label-container:hover .sk-estimator-doc-link:hover,\n",
       ".sk-estimator-doc-link:hover {\n",
       "  /* unfitted */\n",
       "  background-color: var(--sklearn-color-unfitted-level-3);\n",
       "  color: var(--sklearn-color-background);\n",
       "  text-decoration: none;\n",
       "}\n",
       "\n",
       "div.sk-estimator.fitted:hover .sk-estimator-doc-link.fitted:hover,\n",
       ".sk-estimator-doc-link.fitted:hover,\n",
       "div.sk-label-container:hover .sk-estimator-doc-link.fitted:hover,\n",
       ".sk-estimator-doc-link.fitted:hover {\n",
       "  /* fitted */\n",
       "  background-color: var(--sklearn-color-fitted-level-3);\n",
       "  color: var(--sklearn-color-background);\n",
       "  text-decoration: none;\n",
       "}\n",
       "\n",
       "/* Span, style for the box shown on hovering the info icon */\n",
       ".sk-estimator-doc-link span {\n",
       "  display: none;\n",
       "  z-index: 9999;\n",
       "  position: relative;\n",
       "  font-weight: normal;\n",
       "  right: .2ex;\n",
       "  padding: .5ex;\n",
       "  margin: .5ex;\n",
       "  width: min-content;\n",
       "  min-width: 20ex;\n",
       "  max-width: 50ex;\n",
       "  color: var(--sklearn-color-text);\n",
       "  box-shadow: 2pt 2pt 4pt #999;\n",
       "  /* unfitted */\n",
       "  background: var(--sklearn-color-unfitted-level-0);\n",
       "  border: .5pt solid var(--sklearn-color-unfitted-level-3);\n",
       "}\n",
       "\n",
       ".sk-estimator-doc-link.fitted span {\n",
       "  /* fitted */\n",
       "  background: var(--sklearn-color-fitted-level-0);\n",
       "  border: var(--sklearn-color-fitted-level-3);\n",
       "}\n",
       "\n",
       ".sk-estimator-doc-link:hover span {\n",
       "  display: block;\n",
       "}\n",
       "\n",
       "/* \"?\"-specific style due to the `<a>` HTML tag */\n",
       "\n",
       "#sk-container-id-1 a.estimator_doc_link {\n",
       "  float: right;\n",
       "  font-size: 1rem;\n",
       "  line-height: 1em;\n",
       "  font-family: monospace;\n",
       "  background-color: var(--sklearn-color-background);\n",
       "  border-radius: 1rem;\n",
       "  height: 1rem;\n",
       "  width: 1rem;\n",
       "  text-decoration: none;\n",
       "  /* unfitted */\n",
       "  color: var(--sklearn-color-unfitted-level-1);\n",
       "  border: var(--sklearn-color-unfitted-level-1) 1pt solid;\n",
       "}\n",
       "\n",
       "#sk-container-id-1 a.estimator_doc_link.fitted {\n",
       "  /* fitted */\n",
       "  border: var(--sklearn-color-fitted-level-1) 1pt solid;\n",
       "  color: var(--sklearn-color-fitted-level-1);\n",
       "}\n",
       "\n",
       "/* On hover */\n",
       "#sk-container-id-1 a.estimator_doc_link:hover {\n",
       "  /* unfitted */\n",
       "  background-color: var(--sklearn-color-unfitted-level-3);\n",
       "  color: var(--sklearn-color-background);\n",
       "  text-decoration: none;\n",
       "}\n",
       "\n",
       "#sk-container-id-1 a.estimator_doc_link.fitted:hover {\n",
       "  /* fitted */\n",
       "  background-color: var(--sklearn-color-fitted-level-3);\n",
       "}\n",
       "</style><div id=\"sk-container-id-1\" class=\"sk-top-container\"><div class=\"sk-text-repr-fallback\"><pre>LinearRegression()</pre><b>In a Jupyter environment, please rerun this cell to show the HTML representation or trust the notebook. <br />On GitHub, the HTML representation is unable to render, please try loading this page with nbviewer.org.</b></div><div class=\"sk-container\" hidden><div class=\"sk-item\"><div class=\"sk-estimator fitted sk-toggleable\"><input class=\"sk-toggleable__control sk-hidden--visually\" id=\"sk-estimator-id-1\" type=\"checkbox\" checked><label for=\"sk-estimator-id-1\" class=\"sk-toggleable__label fitted sk-toggleable__label-arrow fitted\">&nbsp;&nbsp;LinearRegression<a class=\"sk-estimator-doc-link fitted\" rel=\"noreferrer\" target=\"_blank\" href=\"https://scikit-learn.org/1.5/modules/generated/sklearn.linear_model.LinearRegression.html\">?<span>Documentation for LinearRegression</span></a><span class=\"sk-estimator-doc-link fitted\">i<span>Fitted</span></span></label><div class=\"sk-toggleable__content fitted\"><pre>LinearRegression()</pre></div> </div></div></div></div>"
      ],
      "text/plain": [
       "LinearRegression()"
      ]
     },
     "execution_count": 96,
     "metadata": {},
     "output_type": "execute_result"
    }
   ],
   "source": [
    "lr.fit(x_train,y_train) # to fit the linear regression model on the training data set"
   ]
  },
  {
   "cell_type": "code",
   "execution_count": 97,
   "metadata": {},
   "outputs": [
    {
     "name": "stdout",
     "output_type": "stream",
     "text": [
      "0.6583186303624649\n"
     ]
    }
   ],
   "source": [
    "print(lr.score(x_train,y_train)) # to get the score of the linear regression model on the training data set"
   ]
  },
  {
   "cell_type": "code",
   "execution_count": 98,
   "metadata": {},
   "outputs": [
    {
     "name": "stdout",
     "output_type": "stream",
     "text": [
      "0.7175947383086565\n"
     ]
    }
   ],
   "source": [
    "print(lr.score(x_test,y_test)) # to get the score of the linear regression model on the testing data set"
   ]
  },
  {
   "cell_type": "code",
   "execution_count": 99,
   "metadata": {},
   "outputs": [],
   "source": [
    "pred=lr.predict(x_test) # to predict the values of the testing data set"
   ]
  },
  {
   "cell_type": "code",
   "execution_count": 100,
   "metadata": {},
   "outputs": [
    {
     "data": {
      "text/plain": [
       "array([150683.50273601, 246408.76411648,  94949.23656378, ...,\n",
       "        37079.00523583, 238205.04024506,  36702.67235501])"
      ]
     },
     "execution_count": 100,
     "metadata": {},
     "output_type": "execute_result"
    }
   ],
   "source": [
    "pred"
   ]
  },
  {
   "cell_type": "code",
   "execution_count": 101,
   "metadata": {},
   "outputs": [
    {
     "data": {
      "text/plain": [
       "(1465, 5)"
      ]
     },
     "execution_count": 101,
     "metadata": {},
     "output_type": "execute_result"
    }
   ],
   "source": [
    "x_test.shape"
   ]
  },
  {
   "cell_type": "code",
   "execution_count": 102,
   "metadata": {},
   "outputs": [],
   "source": [
    "#y_test['pred']=pred.ravel()"
   ]
  },
  {
   "cell_type": "code",
   "execution_count": 103,
   "metadata": {},
   "outputs": [
    {
     "data": {
      "text/plain": [
       "4909     88400.0\n",
       "1942    102850.0\n",
       "5763     67000.0\n",
       "4800     30000.0\n",
       "7614     20000.0\n",
       "          ...   \n",
       "5653    395000.0\n",
       "609     140000.0\n",
       "4211     54500.0\n",
       "6379    114000.0\n",
       "647      36000.0\n",
       "Name: price, Length: 1465, dtype: float64"
      ]
     },
     "execution_count": 103,
     "metadata": {},
     "output_type": "execute_result"
    }
   ],
   "source": [
    "y_test"
   ]
  },
  {
   "cell_type": "markdown",
   "metadata": {},
   "source": [
    "# loss function"
   ]
  },
  {
   "cell_type": "markdown",
   "metadata": {},
   "source": [
    "## MSE\n",
    "##  MAE \n",
    "## RMSE\n",
    "##  HUBER LOSS"
   ]
  },
  {
   "cell_type": "markdown",
   "metadata": {},
   "source": [
    "### # MSE"
   ]
  },
  {
   "cell_type": "code",
   "execution_count": 104,
   "metadata": {},
   "outputs": [],
   "source": [
    "from sklearn.metrics import mean_squared_error,mean_absolute_error"
   ]
  },
  {
   "cell_type": "code",
   "execution_count": 105,
   "metadata": {},
   "outputs": [
    {
     "name": "stdout",
     "output_type": "stream",
     "text": [
      "5498068117.732575\n"
     ]
    }
   ],
   "source": [
    "print(mean_squared_error(y_test,pred))"
   ]
  },
  {
   "cell_type": "markdown",
   "metadata": {},
   "source": [
    "# mae\n"
   ]
  },
  {
   "cell_type": "code",
   "execution_count": 106,
   "metadata": {},
   "outputs": [
    {
     "name": "stdout",
     "output_type": "stream",
     "text": [
      "37787.343714100665\n"
     ]
    }
   ],
   "source": [
    "print(mean_absolute_error(y_test,pred))"
   ]
  },
  {
   "cell_type": "code",
   "execution_count": 107,
   "metadata": {},
   "outputs": [],
   "source": [
    "\n",
    "\n",
    "#pred ,y_test # actual predicted"
   ]
  },
  {
   "cell_type": "markdown",
   "metadata": {},
   "source": [
    "# rmse"
   ]
  },
  {
   "cell_type": "code",
   "execution_count": 108,
   "metadata": {},
   "outputs": [],
   "source": [
    "from sklearn.metrics import mean_squared_error"
   ]
  },
  {
   "cell_type": "code",
   "execution_count": 109,
   "metadata": {},
   "outputs": [],
   "source": [
    "import math"
   ]
  },
  {
   "cell_type": "code",
   "execution_count": 110,
   "metadata": {},
   "outputs": [
    {
     "name": "stdout",
     "output_type": "stream",
     "text": [
      "RMSE 74148.95897942584\n"
     ]
    }
   ],
   "source": [
    "print(\"RMSE\", math.sqrt(mean_squared_error(y_test,pred)))"
   ]
  },
  {
   "cell_type": "code",
   "execution_count": 111,
   "metadata": {},
   "outputs": [
    {
     "name": "stdout",
     "output_type": "stream",
     "text": [
      "by using numpy: 74148.95897942584\n"
     ]
    }
   ],
   "source": [
    "print(\"by using numpy:\",np.sqrt(mean_squared_error(y_test,pred)))"
   ]
  },
  {
   "cell_type": "code",
   "execution_count": 112,
   "metadata": {},
   "outputs": [
    {
     "data": {
      "text/plain": [
       "4909     88400.0\n",
       "1942    102850.0\n",
       "5763     67000.0\n",
       "4800     30000.0\n",
       "7614     20000.0\n",
       "          ...   \n",
       "5653    395000.0\n",
       "609     140000.0\n",
       "4211     54500.0\n",
       "6379    114000.0\n",
       "647      36000.0\n",
       "Name: price, Length: 1465, dtype: float64"
      ]
     },
     "execution_count": 112,
     "metadata": {},
     "output_type": "execute_result"
    }
   ],
   "source": [
    "y_test"
   ]
  },
  {
   "cell_type": "markdown",
   "metadata": {},
   "source": [
    "# huber"
   ]
  },
  {
   "cell_type": "markdown",
   "metadata": {},
   "source": [
    "* model evaluation\n",
    "* confusion matrix\n",
    "* accuracy\n",
    "* recision\n",
    "* precision\n",
    "* f1 score"
   ]
  },
  {
   "cell_type": "code",
   "execution_count": 113,
   "metadata": {},
   "outputs": [],
   "source": [
    "# confusion matrix\n",
    "\n",
    "\n",
    "from sklearn.metrics import confusion_matrix, f1_score,precision_score,recall_score"
   ]
  },
  {
   "cell_type": "code",
   "execution_count": 114,
   "metadata": {},
   "outputs": [],
   "source": [
    "pred=(pred>0.5).astype(int).ravel()"
   ]
  },
  {
   "cell_type": "code",
   "execution_count": 115,
   "metadata": {},
   "outputs": [],
   "source": [
    "y_test =(y_test>0.5).astype(int)"
   ]
  },
  {
   "cell_type": "code",
   "execution_count": 116,
   "metadata": {},
   "outputs": [
    {
     "data": {
      "text/plain": [
       "4909    1\n",
       "1942    1\n",
       "5763    1\n",
       "4800    1\n",
       "7614    1\n",
       "       ..\n",
       "5653    1\n",
       "609     1\n",
       "4211    1\n",
       "6379    1\n",
       "647     1\n",
       "Name: price, Length: 1465, dtype: int32"
      ]
     },
     "execution_count": 116,
     "metadata": {},
     "output_type": "execute_result"
    }
   ],
   "source": [
    "y_test"
   ]
  },
  {
   "cell_type": "code",
   "execution_count": 117,
   "metadata": {},
   "outputs": [
    {
     "data": {
      "text/plain": [
       "array([1, 1, 1, ..., 1, 1, 1])"
      ]
     },
     "execution_count": 117,
     "metadata": {},
     "output_type": "execute_result"
    }
   ],
   "source": [
    "pred"
   ]
  },
  {
   "cell_type": "code",
   "execution_count": 118,
   "metadata": {},
   "outputs": [
    {
     "data": {
      "text/plain": [
       "array([[   0,    0],\n",
       "       [  89, 1376]], dtype=int64)"
      ]
     },
     "execution_count": 118,
     "metadata": {},
     "output_type": "execute_result"
    }
   ],
   "source": [
    "confusion_matrix(y_test,pred)"
   ]
  },
  {
   "cell_type": "code",
   "execution_count": 119,
   "metadata": {},
   "outputs": [
    {
     "data": {
      "text/plain": [
       "0        35000.0\n",
       "1       119900.0\n",
       "2       600000.0\n",
       "3        65000.0\n",
       "4        80000.0\n",
       "          ...   \n",
       "9362     25000.0\n",
       "9369     35000.0\n",
       "9370    450000.0\n",
       "9371    139000.0\n",
       "9372     80000.0\n",
       "Name: price, Length: 7324, dtype: float64"
      ]
     },
     "execution_count": 119,
     "metadata": {},
     "output_type": "execute_result"
    }
   ],
   "source": [
    "y"
   ]
  },
  {
   "cell_type": "code",
   "execution_count": 120,
   "metadata": {},
   "outputs": [
    {
     "data": {
      "text/plain": [
       "0.9392491467576792"
      ]
     },
     "execution_count": 120,
     "metadata": {},
     "output_type": "execute_result"
    }
   ],
   "source": [
    "recall_score(y_test,pred)"
   ]
  },
  {
   "cell_type": "code",
   "execution_count": 121,
   "metadata": {},
   "outputs": [
    {
     "data": {
      "text/plain": [
       "1.0"
      ]
     },
     "execution_count": 121,
     "metadata": {},
     "output_type": "execute_result"
    }
   ],
   "source": [
    "precision_score(y_test,pred)"
   ]
  },
  {
   "cell_type": "code",
   "execution_count": 122,
   "metadata": {},
   "outputs": [
    {
     "data": {
      "text/plain": [
       "0.9686730024639212"
      ]
     },
     "execution_count": 122,
     "metadata": {},
     "output_type": "execute_result"
    }
   ],
   "source": [
    "f1_score(y_test,pred)"
   ]
  },
  {
   "cell_type": "code",
   "execution_count": 123,
   "metadata": {},
   "outputs": [],
   "source": [
    "import matplotlib.pyplot as plt\n",
    "import seaborn as sns "
   ]
  },
  {
   "cell_type": "code",
   "execution_count": 124,
   "metadata": {},
   "outputs": [],
   "source": [
    "cm=confusion_matrix(y_test,pred)"
   ]
  },
  {
   "cell_type": "code",
   "execution_count": 125,
   "metadata": {},
   "outputs": [
    {
     "data": {
      "text/plain": [
       "array([[   0,    0],\n",
       "       [  89, 1376]], dtype=int64)"
      ]
     },
     "execution_count": 125,
     "metadata": {},
     "output_type": "execute_result"
    }
   ],
   "source": [
    "cm"
   ]
  },
  {
   "cell_type": "code",
   "execution_count": 126,
   "metadata": {},
   "outputs": [
    {
     "data": {
      "text/plain": [
       "Text(50.722222222222214, 0.5, 'actual')"
      ]
     },
     "execution_count": 126,
     "metadata": {},
     "output_type": "execute_result"
    },
    {
     "data": {
      "image/png": "[encoded data removed]",
      "text/plain": [
       "<Figure size 640x480 with 2 Axes>"
      ]
     },
     "metadata": {},
     "output_type": "display_data"
    }
   ],
   "source": [
    "sns.heatmap(cm,annot=True,cmap=\"Blues\",fmt=\"d\")\n",
    "plt.title(\"confusion matrix\")\n",
    "plt.xlabel(\"predicted\")\n",
    "plt.ylabel(\"actual\")\n"
   ]
  },
  {
   "cell_type": "code",
   "execution_count": 127,
   "metadata": {},
   "outputs": [],
   "source": [
    "from sklearn.tree import DecisionTreeClassifier"
   ]
  },
  {
   "cell_type": "code",
   "execution_count": 128,
   "metadata": {},
   "outputs": [],
   "source": [
    "dt_obj=DecisionTreeClassifier(criterion='entropy')"
   ]
  },
  {
   "cell_type": "code",
   "execution_count": 129,
   "metadata": {},
   "outputs": [
    {
     "data": {
      "text/html": [
       "<style>#sk-container-id-2 {\n",
       "  /* Definition of color scheme common for light and dark mode */\n",
       "  --sklearn-color-text: black;\n",
       "  --sklearn-color-line: gray;\n",
       "  /* Definition of color scheme for unfitted estimators */\n",
       "  --sklearn-color-unfitted-level-0: #fff5e6;\n",
       "  --sklearn-color-unfitted-level-1: #f6e4d2;\n",
       "  --sklearn-color-unfitted-level-2: #ffe0b3;\n",
       "  --sklearn-color-unfitted-level-3: chocolate;\n",
       "  /* Definition of color scheme for fitted estimators */\n",
       "  --sklearn-color-fitted-level-0: #f0f8ff;\n",
       "  --sklearn-color-fitted-level-1: #d4ebff;\n",
       "  --sklearn-color-fitted-level-2: #b3dbfd;\n",
       "  --sklearn-color-fitted-level-3: cornflowerblue;\n",
       "\n",
       "  /* Specific color for light theme */\n",
       "  --sklearn-color-text-on-default-background: var(--sg-text-color, var(--theme-code-foreground, var(--jp-content-font-color1, black)));\n",
       "  --sklearn-color-background: var(--sg-background-color, var(--theme-background, var(--jp-layout-color0, white)));\n",
       "  --sklearn-color-border-box: var(--sg-text-color, var(--theme-code-foreground, var(--jp-content-font-color1, black)));\n",
       "  --sklearn-color-icon: #696969;\n",
       "\n",
       "  @media (prefers-color-scheme: dark) {\n",
       "    /* Redefinition of color scheme for dark theme */\n",
       "    --sklearn-color-text-on-default-background: var(--sg-text-color, var(--theme-code-foreground, var(--jp-content-font-color1, white)));\n",
       "    --sklearn-color-background: var(--sg-background-color, var(--theme-background, var(--jp-layout-color0, #111)));\n",
       "    --sklearn-color-border-box: var(--sg-text-color, var(--theme-code-foreground, var(--jp-content-font-color1, white)));\n",
       "    --sklearn-color-icon: #878787;\n",
       "  }\n",
       "}\n",
       "\n",
       "#sk-container-id-2 {\n",
       "  color: var(--sklearn-color-text);\n",
       "}\n",
       "\n",
       "#sk-container-id-2 pre {\n",
       "  padding: 0;\n",
       "}\n",
       "\n",
       "#sk-container-id-2 input.sk-hidden--visually {\n",
       "  border: 0;\n",
       "  clip: rect(1px 1px 1px 1px);\n",
       "  clip: rect(1px, 1px, 1px, 1px);\n",
       "  height: 1px;\n",
       "  margin: -1px;\n",
       "  overflow: hidden;\n",
       "  padding: 0;\n",
       "  position: absolute;\n",
       "  width: 1px;\n",
       "}\n",
       "\n",
       "#sk-container-id-2 div.sk-dashed-wrapped {\n",
       "  border: 1px dashed var(--sklearn-color-line);\n",
       "  margin: 0 0.4em 0.5em 0.4em;\n",
       "  box-sizing: border-box;\n",
       "  padding-bottom: 0.4em;\n",
       "  background-color: var(--sklearn-color-background);\n",
       "}\n",
       "\n",
       "#sk-container-id-2 div.sk-container {\n",
       "  /* jupyter's `normalize.less` sets `[hidden] { display: none; }`\n",
       "     but bootstrap.min.css set `[hidden] { display: none !important; }`\n",
       "     so we also need the `!important` here to be able to override the\n",
       "     default hidden behavior on the sphinx rendered scikit-learn.org.\n",
       "     See: https://github.com/scikit-learn/scikit-learn/issues/21755 */\n",
       "  display: inline-block !important;\n",
       "  position: relative;\n",
       "}\n",
       "\n",
       "#sk-container-id-2 div.sk-text-repr-fallback {\n",
       "  display: none;\n",
       "}\n",
       "\n",
       "div.sk-parallel-item,\n",
       "div.sk-serial,\n",
       "div.sk-item {\n",
       "  /* draw centered vertical line to link estimators */\n",
       "  background-image: linear-gradient(var(--sklearn-color-text-on-default-background), var(--sklearn-color-text-on-default-background));\n",
       "  background-size: 2px 100%;\n",
       "  background-repeat: no-repeat;\n",
       "  background-position: center center;\n",
       "}\n",
       "\n",
       "/* Parallel-specific style estimator block */\n",
       "\n",
       "#sk-container-id-2 div.sk-parallel-item::after {\n",
       "  content: \"\";\n",
       "  width: 100%;\n",
       "  border-bottom: 2px solid var(--sklearn-color-text-on-default-background);\n",
       "  flex-grow: 1;\n",
       "}\n",
       "\n",
       "#sk-container-id-2 div.sk-parallel {\n",
       "  display: flex;\n",
       "  align-items: stretch;\n",
       "  justify-content: center;\n",
       "  background-color: var(--sklearn-color-background);\n",
       "  position: relative;\n",
       "}\n",
       "\n",
       "#sk-container-id-2 div.sk-parallel-item {\n",
       "  display: flex;\n",
       "  flex-direction: column;\n",
       "}\n",
       "\n",
       "#sk-container-id-2 div.sk-parallel-item:first-child::after {\n",
       "  align-self: flex-end;\n",
       "  width: 50%;\n",
       "}\n",
       "\n",
       "#sk-container-id-2 div.sk-parallel-item:last-child::after {\n",
       "  align-self: flex-start;\n",
       "  width: 50%;\n",
       "}\n",
       "\n",
       "#sk-container-id-2 div.sk-parallel-item:only-child::after {\n",
       "  width: 0;\n",
       "}\n",
       "\n",
       "/* Serial-specific style estimator block */\n",
       "\n",
       "#sk-container-id-2 div.sk-serial {\n",
       "  display: flex;\n",
       "  flex-direction: column;\n",
       "  align-items: center;\n",
       "  background-color: var(--sklearn-color-background);\n",
       "  padding-right: 1em;\n",
       "  padding-left: 1em;\n",
       "}\n",
       "\n",
       "\n",
       "/* Toggleable style: style used for estimator/Pipeline/ColumnTransformer box that is\n",
       "clickable and can be expanded/collapsed.\n",
       "- Pipeline and ColumnTransformer use this feature and define the default style\n",
       "- Estimators will overwrite some part of the style using the `sk-estimator` class\n",
       "*/\n",
       "\n",
       "/* Pipeline and ColumnTransformer style (default) */\n",
       "\n",
       "#sk-container-id-2 div.sk-toggleable {\n",
       "  /* Default theme specific background. It is overwritten whether we have a\n",
       "  specific estimator or a Pipeline/ColumnTransformer */\n",
       "  background-color: var(--sklearn-color-background);\n",
       "}\n",
       "\n",
       "/* Toggleable label */\n",
       "#sk-container-id-2 label.sk-toggleable__label {\n",
       "  cursor: pointer;\n",
       "  display: block;\n",
       "  width: 100%;\n",
       "  margin-bottom: 0;\n",
       "  padding: 0.5em;\n",
       "  box-sizing: border-box;\n",
       "  text-align: center;\n",
       "}\n",
       "\n",
       "#sk-container-id-2 label.sk-toggleable__label-arrow:before {\n",
       "  /* Arrow on the left of the label */\n",
       "  content: \"▸\";\n",
       "  float: left;\n",
       "  margin-right: 0.25em;\n",
       "  color: var(--sklearn-color-icon);\n",
       "}\n",
       "\n",
       "#sk-container-id-2 label.sk-toggleable__label-arrow:hover:before {\n",
       "  color: var(--sklearn-color-text);\n",
       "}\n",
       "\n",
       "/* Toggleable content - dropdown */\n",
       "\n",
       "#sk-container-id-2 div.sk-toggleable__content {\n",
       "  max-height: 0;\n",
       "  max-width: 0;\n",
       "  overflow: hidden;\n",
       "  text-align: left;\n",
       "  /* unfitted */\n",
       "  background-color: var(--sklearn-color-unfitted-level-0);\n",
       "}\n",
       "\n",
       "#sk-container-id-2 div.sk-toggleable__content.fitted {\n",
       "  /* fitted */\n",
       "  background-color: var(--sklearn-color-fitted-level-0);\n",
       "}\n",
       "\n",
       "#sk-container-id-2 div.sk-toggleable__content pre {\n",
       "  margin: 0.2em;\n",
       "  border-radius: 0.25em;\n",
       "  color: var(--sklearn-color-text);\n",
       "  /* unfitted */\n",
       "  background-color: var(--sklearn-color-unfitted-level-0);\n",
       "}\n",
       "\n",
       "#sk-container-id-2 div.sk-toggleable__content.fitted pre {\n",
       "  /* unfitted */\n",
       "  background-color: var(--sklearn-color-fitted-level-0);\n",
       "}\n",
       "\n",
       "#sk-container-id-2 input.sk-toggleable__control:checked~div.sk-toggleable__content {\n",
       "  /* Expand drop-down */\n",
       "  max-height: 200px;\n",
       "  max-width: 100%;\n",
       "  overflow: auto;\n",
       "}\n",
       "\n",
       "#sk-container-id-2 input.sk-toggleable__control:checked~label.sk-toggleable__label-arrow:before {\n",
       "  content: \"▾\";\n",
       "}\n",
       "\n",
       "/* Pipeline/ColumnTransformer-specific style */\n",
       "\n",
       "#sk-container-id-2 div.sk-label input.sk-toggleable__control:checked~label.sk-toggleable__label {\n",
       "  color: var(--sklearn-color-text);\n",
       "  background-color: var(--sklearn-color-unfitted-level-2);\n",
       "}\n",
       "\n",
       "#sk-container-id-2 div.sk-label.fitted input.sk-toggleable__control:checked~label.sk-toggleable__label {\n",
       "  background-color: var(--sklearn-color-fitted-level-2);\n",
       "}\n",
       "\n",
       "/* Estimator-specific style */\n",
       "\n",
       "/* Colorize estimator box */\n",
       "#sk-container-id-2 div.sk-estimator input.sk-toggleable__control:checked~label.sk-toggleable__label {\n",
       "  /* unfitted */\n",
       "  background-color: var(--sklearn-color-unfitted-level-2);\n",
       "}\n",
       "\n",
       "#sk-container-id-2 div.sk-estimator.fitted input.sk-toggleable__control:checked~label.sk-toggleable__label {\n",
       "  /* fitted */\n",
       "  background-color: var(--sklearn-color-fitted-level-2);\n",
       "}\n",
       "\n",
       "#sk-container-id-2 div.sk-label label.sk-toggleable__label,\n",
       "#sk-container-id-2 div.sk-label label {\n",
       "  /* The background is the default theme color */\n",
       "  color: var(--sklearn-color-text-on-default-background);\n",
       "}\n",
       "\n",
       "/* On hover, darken the color of the background */\n",
       "#sk-container-id-2 div.sk-label:hover label.sk-toggleable__label {\n",
       "  color: var(--sklearn-color-text);\n",
       "  background-color: var(--sklearn-color-unfitted-level-2);\n",
       "}\n",
       "\n",
       "/* Label box, darken color on hover, fitted */\n",
       "#sk-container-id-2 div.sk-label.fitted:hover label.sk-toggleable__label.fitted {\n",
       "  color: var(--sklearn-color-text);\n",
       "  background-color: var(--sklearn-color-fitted-level-2);\n",
       "}\n",
       "\n",
       "/* Estimator label */\n",
       "\n",
       "#sk-container-id-2 div.sk-label label {\n",
       "  font-family: monospace;\n",
       "  font-weight: bold;\n",
       "  display: inline-block;\n",
       "  line-height: 1.2em;\n",
       "}\n",
       "\n",
       "#sk-container-id-2 div.sk-label-container {\n",
       "  text-align: center;\n",
       "}\n",
       "\n",
       "/* Estimator-specific */\n",
       "#sk-container-id-2 div.sk-estimator {\n",
       "  font-family: monospace;\n",
       "  border: 1px dotted var(--sklearn-color-border-box);\n",
       "  border-radius: 0.25em;\n",
       "  box-sizing: border-box;\n",
       "  margin-bottom: 0.5em;\n",
       "  /* unfitted */\n",
       "  background-color: var(--sklearn-color-unfitted-level-0);\n",
       "}\n",
       "\n",
       "#sk-container-id-2 div.sk-estimator.fitted {\n",
       "  /* fitted */\n",
       "  background-color: var(--sklearn-color-fitted-level-0);\n",
       "}\n",
       "\n",
       "/* on hover */\n",
       "#sk-container-id-2 div.sk-estimator:hover {\n",
       "  /* unfitted */\n",
       "  background-color: var(--sklearn-color-unfitted-level-2);\n",
       "}\n",
       "\n",
       "#sk-container-id-2 div.sk-estimator.fitted:hover {\n",
       "  /* fitted */\n",
       "  background-color: var(--sklearn-color-fitted-level-2);\n",
       "}\n",
       "\n",
       "/* Specification for estimator info (e.g. \"i\" and \"?\") */\n",
       "\n",
       "/* Common style for \"i\" and \"?\" */\n",
       "\n",
       ".sk-estimator-doc-link,\n",
       "a:link.sk-estimator-doc-link,\n",
       "a:visited.sk-estimator-doc-link {\n",
       "  float: right;\n",
       "  font-size: smaller;\n",
       "  line-height: 1em;\n",
       "  font-family: monospace;\n",
       "  background-color: var(--sklearn-color-background);\n",
       "  border-radius: 1em;\n",
       "  height: 1em;\n",
       "  width: 1em;\n",
       "  text-decoration: none !important;\n",
       "  margin-left: 1ex;\n",
       "  /* unfitted */\n",
       "  border: var(--sklearn-color-unfitted-level-1) 1pt solid;\n",
       "  color: var(--sklearn-color-unfitted-level-1);\n",
       "}\n",
       "\n",
       ".sk-estimator-doc-link.fitted,\n",
       "a:link.sk-estimator-doc-link.fitted,\n",
       "a:visited.sk-estimator-doc-link.fitted {\n",
       "  /* fitted */\n",
       "  border: var(--sklearn-color-fitted-level-1) 1pt solid;\n",
       "  color: var(--sklearn-color-fitted-level-1);\n",
       "}\n",
       "\n",
       "/* On hover */\n",
       "div.sk-estimator:hover .sk-estimator-doc-link:hover,\n",
       ".sk-estimator-doc-link:hover,\n",
       "div.sk-label-container:hover .sk-estimator-doc-link:hover,\n",
       ".sk-estimator-doc-link:hover {\n",
       "  /* unfitted */\n",
       "  background-color: var(--sklearn-color-unfitted-level-3);\n",
       "  color: var(--sklearn-color-background);\n",
       "  text-decoration: none;\n",
       "}\n",
       "\n",
       "div.sk-estimator.fitted:hover .sk-estimator-doc-link.fitted:hover,\n",
       ".sk-estimator-doc-link.fitted:hover,\n",
       "div.sk-label-container:hover .sk-estimator-doc-link.fitted:hover,\n",
       ".sk-estimator-doc-link.fitted:hover {\n",
       "  /* fitted */\n",
       "  background-color: var(--sklearn-color-fitted-level-3);\n",
       "  color: var(--sklearn-color-background);\n",
       "  text-decoration: none;\n",
       "}\n",
       "\n",
       "/* Span, style for the box shown on hovering the info icon */\n",
       ".sk-estimator-doc-link span {\n",
       "  display: none;\n",
       "  z-index: 9999;\n",
       "  position: relative;\n",
       "  font-weight: normal;\n",
       "  right: .2ex;\n",
       "  padding: .5ex;\n",
       "  margin: .5ex;\n",
       "  width: min-content;\n",
       "  min-width: 20ex;\n",
       "  max-width: 50ex;\n",
       "  color: var(--sklearn-color-text);\n",
       "  box-shadow: 2pt 2pt 4pt #999;\n",
       "  /* unfitted */\n",
       "  background: var(--sklearn-color-unfitted-level-0);\n",
       "  border: .5pt solid var(--sklearn-color-unfitted-level-3);\n",
       "}\n",
       "\n",
       ".sk-estimator-doc-link.fitted span {\n",
       "  /* fitted */\n",
       "  background: var(--sklearn-color-fitted-level-0);\n",
       "  border: var(--sklearn-color-fitted-level-3);\n",
       "}\n",
       "\n",
       ".sk-estimator-doc-link:hover span {\n",
       "  display: block;\n",
       "}\n",
       "\n",
       "/* \"?\"-specific style due to the `<a>` HTML tag */\n",
       "\n",
       "#sk-container-id-2 a.estimator_doc_link {\n",
       "  float: right;\n",
       "  font-size: 1rem;\n",
       "  line-height: 1em;\n",
       "  font-family: monospace;\n",
       "  background-color: var(--sklearn-color-background);\n",
       "  border-radius: 1rem;\n",
       "  height: 1rem;\n",
       "  width: 1rem;\n",
       "  text-decoration: none;\n",
       "  /* unfitted */\n",
       "  color: var(--sklearn-color-unfitted-level-1);\n",
       "  border: var(--sklearn-color-unfitted-level-1) 1pt solid;\n",
       "}\n",
       "\n",
       "#sk-container-id-2 a.estimator_doc_link.fitted {\n",
       "  /* fitted */\n",
       "  border: var(--sklearn-color-fitted-level-1) 1pt solid;\n",
       "  color: var(--sklearn-color-fitted-level-1);\n",
       "}\n",
       "\n",
       "/* On hover */\n",
       "#sk-container-id-2 a.estimator_doc_link:hover {\n",
       "  /* unfitted */\n",
       "  background-color: var(--sklearn-color-unfitted-level-3);\n",
       "  color: var(--sklearn-color-background);\n",
       "  text-decoration: none;\n",
       "}\n",
       "\n",
       "#sk-container-id-2 a.estimator_doc_link.fitted:hover {\n",
       "  /* fitted */\n",
       "  background-color: var(--sklearn-color-fitted-level-3);\n",
       "}\n",
       "</style><div id=\"sk-container-id-2\" class=\"sk-top-container\"><div class=\"sk-text-repr-fallback\"><pre>DecisionTreeClassifier(criterion=&#x27;entropy&#x27;)</pre><b>In a Jupyter environment, please rerun this cell to show the HTML representation or trust the notebook. <br />On GitHub, the HTML representation is unable to render, please try loading this page with nbviewer.org.</b></div><div class=\"sk-container\" hidden><div class=\"sk-item\"><div class=\"sk-estimator fitted sk-toggleable\"><input class=\"sk-toggleable__control sk-hidden--visually\" id=\"sk-estimator-id-2\" type=\"checkbox\" checked><label for=\"sk-estimator-id-2\" class=\"sk-toggleable__label fitted sk-toggleable__label-arrow fitted\">&nbsp;&nbsp;DecisionTreeClassifier<a class=\"sk-estimator-doc-link fitted\" rel=\"noreferrer\" target=\"_blank\" href=\"https://scikit-learn.org/1.5/modules/generated/sklearn.tree.DecisionTreeClassifier.html\">?<span>Documentation for DecisionTreeClassifier</span></a><span class=\"sk-estimator-doc-link fitted\">i<span>Fitted</span></span></label><div class=\"sk-toggleable__content fitted\"><pre>DecisionTreeClassifier(criterion=&#x27;entropy&#x27;)</pre></div> </div></div></div></div>"
      ],
      "text/plain": [
       "DecisionTreeClassifier(criterion='entropy')"
      ]
     },
     "execution_count": 129,
     "metadata": {},
     "output_type": "execute_result"
    }
   ],
   "source": [
    "dt_obj.fit(x_train,y_train)"
   ]
  },
  {
   "cell_type": "code",
   "execution_count": 130,
   "metadata": {},
   "outputs": [
    {
     "data": {
      "text/plain": [
       "0.9470899470899471"
      ]
     },
     "execution_count": 130,
     "metadata": {},
     "output_type": "execute_result"
    }
   ],
   "source": [
    "dt_obj.score(x_train,y_train)"
   ]
  },
  {
   "cell_type": "code",
   "execution_count": 131,
   "metadata": {},
   "outputs": [
    {
     "data": {
      "text/plain": [
       "0.0"
      ]
     },
     "execution_count": 131,
     "metadata": {},
     "output_type": "execute_result"
    }
   ],
   "source": [
    "dt_obj.score(x_test,y_test)"
   ]
  },
  {
   "cell_type": "code",
   "execution_count": 132,
   "metadata": {},
   "outputs": [],
   "source": [
    "pred =lr.predict(x_test)"
   ]
  },
  {
   "cell_type": "code",
   "execution_count": 133,
   "metadata": {},
   "outputs": [
    {
     "data": {
      "text/plain": [
       "array([150683.50273601, 246408.76411648,  94949.23656378, ...,\n",
       "        37079.00523583, 238205.04024506,  36702.67235501])"
      ]
     },
     "execution_count": 133,
     "metadata": {},
     "output_type": "execute_result"
    }
   ],
   "source": [
    "pred"
   ]
  },
  {
   "cell_type": "code",
   "execution_count": 134,
   "metadata": {},
   "outputs": [],
   "source": [
    "import joblib"
   ]
  },
  {
   "cell_type": "code",
   "execution_count": null,
   "metadata": {},
   "outputs": [
    {
     "data": {
      "text/plain": [
       "['bike_prrice.lb']"
      ]
     },
     "execution_count": 135,
     "metadata": {},
     "output_type": "execute_result"
    }
   ],
   "source": [
    "joblib.dump(dt_obj,'bike_prrice.lb')"
   ]
  },
  {
   "cell_type": "code",
   "execution_count": 137,
   "metadata": {},
   "outputs": [],
   "source": [
    "model=joblib.load('bike_prrice.lb') "
   ]
  },
  {
   "cell_type": "code",
   "execution_count": 138,
   "metadata": {},
   "outputs": [
    {
     "data": {
      "text/plain": [
       "array([109400., 158300.,  40900., ..., 110000., 102000.,  64400.])"
      ]
     },
     "execution_count": 138,
     "metadata": {},
     "output_type": "execute_result"
    }
   ],
   "source": [
    "model.predict(x_test)  "
   ]
  },
  {
   "cell_type": "code",
   "execution_count": null,
   "metadata": {},
   "outputs": [],
   "source": []
  }
 ],
 "metadata": {
  "kernelspec": {
   "display_name": "base",
   "language": "python",
   "name": "python3"
  },
  "language_info": {
   "codemirror_mode": {
    "name": "ipython",
    "version": 3
   },
   "file_extension": ".py",
   "mimetype": "text/x-python",
   "name": "python",
   "nbconvert_exporter": "python",
   "pygments_lexer": "ipython3",
   "version": "3.12.7"
  }
 },
 "nbformat": 4,
 "nbformat_minor": 2
}
